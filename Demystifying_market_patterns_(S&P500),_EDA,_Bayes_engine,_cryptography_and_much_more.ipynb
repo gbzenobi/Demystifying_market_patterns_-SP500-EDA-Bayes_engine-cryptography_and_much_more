{
  "nbformat": 4,
  "nbformat_minor": 0,
  "metadata": {
    "colab": {
      "name": "Demystifying market patterns (S&P500), EDA, Bayes-engine, cryptography and much more..ipynb",
      "provenance": [],
      "collapsed_sections": [],
      "toc_visible": true
    },
    "kernelspec": {
      "name": "python3",
      "display_name": "Python 3"
    },
    "language_info": {
      "name": "python"
    }
  },
  "cells": [
    {
      "cell_type": "markdown",
      "metadata": {
        "id": "4WfwSwHZlE1t"
      },
      "source": [
        "# Introduccion"
      ]
    },
    {
      "cell_type": "markdown",
      "metadata": {
        "id": "J4SoIrpvlHRG"
      },
      "source": [
        "The following study aims to perform a frequentist and Bayesian analysis on market patterns, these are often mentioned in articles as well as supposed profitable trading systems throughout the internet and even further in books that have been written in this regard.\n",
        "With this I do not seek to discredit or insult anyone, but rather to shed light on this issue that has many \"believers\" about what is or could be the market, on the other hand much is mentioned about specific price patterns which exploit them would guarantee a profitable and operational trading when what really happens is quite another thing. The market is stochastic in nature and as will be explored throughout this study will test its mathematical nature by doing experiments that by grace anyone can take to other markets and/or instruments, ignore the statistical tools in this case is a serious mistake and in my opinion is what makes many people have faith on these patterns, as if it were something static and that has to be repeated in all markets... it is not and in fact doing the proper analysis can see how this varies depending on various factors (time-frame, instrument, period range)."
      ]
    },
    {
      "cell_type": "markdown",
      "metadata": {
        "id": "7uKjurpEgDWP"
      },
      "source": [
        "# Necessary libraries"
      ]
    },
    {
      "cell_type": "code",
      "metadata": {
        "id": "fMFd6T6XfzaJ"
      },
      "source": [
        "import pandas as pd\n",
        "import numpy as np\n",
        "import matplotlib.pyplot as plt\n",
        "import seaborn as sns"
      ],
      "execution_count": 2,
      "outputs": []
    },
    {
      "cell_type": "code",
      "metadata": {
        "colab": {
          "base_uri": "https://localhost:8080/",
          "height": 692
        },
        "id": "wiQq_4qii4Hm",
        "outputId": "67ed61d5-2ead-43f0-9265-d10288cded13"
      },
      "source": [
        "!pip install yfinance"
      ],
      "execution_count": 3,
      "outputs": [
        {
          "output_type": "stream",
          "name": "stdout",
          "text": [
            "Collecting yfinance\n",
            "  Downloading yfinance-0.1.70-py2.py3-none-any.whl (26 kB)\n",
            "Requirement already satisfied: multitasking>=0.0.7 in /usr/local/lib/python3.7/dist-packages (from yfinance) (0.0.10)\n",
            "Requirement already satisfied: numpy>=1.15 in /usr/local/lib/python3.7/dist-packages (from yfinance) (1.21.5)\n",
            "Requirement already satisfied: pandas>=0.24.0 in /usr/local/lib/python3.7/dist-packages (from yfinance) (1.3.5)\n",
            "Collecting requests>=2.26\n",
            "  Downloading requests-2.27.1-py2.py3-none-any.whl (63 kB)\n",
            "\u001b[K     |████████████████████████████████| 63 kB 1.4 MB/s \n",
            "\u001b[?25hCollecting lxml>=4.5.1\n",
            "  Downloading lxml-4.8.0-cp37-cp37m-manylinux_2_17_x86_64.manylinux2014_x86_64.manylinux_2_24_x86_64.whl (6.4 MB)\n",
            "\u001b[K     |████████████████████████████████| 6.4 MB 8.4 MB/s \n",
            "\u001b[?25hRequirement already satisfied: python-dateutil>=2.7.3 in /usr/local/lib/python3.7/dist-packages (from pandas>=0.24.0->yfinance) (2.8.2)\n",
            "Requirement already satisfied: pytz>=2017.3 in /usr/local/lib/python3.7/dist-packages (from pandas>=0.24.0->yfinance) (2018.9)\n",
            "Requirement already satisfied: six>=1.5 in /usr/local/lib/python3.7/dist-packages (from python-dateutil>=2.7.3->pandas>=0.24.0->yfinance) (1.15.0)\n",
            "Requirement already satisfied: charset-normalizer~=2.0.0 in /usr/local/lib/python3.7/dist-packages (from requests>=2.26->yfinance) (2.0.12)\n",
            "Requirement already satisfied: urllib3<1.27,>=1.21.1 in /usr/local/lib/python3.7/dist-packages (from requests>=2.26->yfinance) (1.24.3)\n",
            "Requirement already satisfied: certifi>=2017.4.17 in /usr/local/lib/python3.7/dist-packages (from requests>=2.26->yfinance) (2021.10.8)\n",
            "Requirement already satisfied: idna<4,>=2.5 in /usr/local/lib/python3.7/dist-packages (from requests>=2.26->yfinance) (2.10)\n",
            "Installing collected packages: requests, lxml, yfinance\n",
            "  Attempting uninstall: requests\n",
            "    Found existing installation: requests 2.23.0\n",
            "    Uninstalling requests-2.23.0:\n",
            "      Successfully uninstalled requests-2.23.0\n",
            "  Attempting uninstall: lxml\n",
            "    Found existing installation: lxml 4.2.6\n",
            "    Uninstalling lxml-4.2.6:\n",
            "      Successfully uninstalled lxml-4.2.6\n",
            "\u001b[31mERROR: pip's dependency resolver does not currently take into account all the packages that are installed. This behaviour is the source of the following dependency conflicts.\n",
            "google-colab 1.0.0 requires requests~=2.23.0, but you have requests 2.27.1 which is incompatible.\n",
            "datascience 0.10.6 requires folium==0.2.1, but you have folium 0.8.3 which is incompatible.\u001b[0m\n",
            "Successfully installed lxml-4.8.0 requests-2.27.1 yfinance-0.1.70\n"
          ]
        },
        {
          "output_type": "display_data",
          "data": {
            "application/vnd.colab-display-data+json": {
              "pip_warning": {
                "packages": [
                  "requests"
                ]
              }
            }
          },
          "metadata": {}
        }
      ]
    },
    {
      "cell_type": "code",
      "metadata": {
        "id": "u6fp22M3i3cy"
      },
      "source": [
        "import yfinance as yf"
      ],
      "execution_count": 4,
      "outputs": []
    },
    {
      "cell_type": "markdown",
      "metadata": {
        "id": "lPBXaryzjJ91"
      },
      "source": [
        "# Download historical prices of the S&P500"
      ]
    },
    {
      "cell_type": "code",
      "metadata": {
        "colab": {
          "base_uri": "https://localhost:8080/",
          "height": 455
        },
        "id": "lxS5i9vDjPCs",
        "outputId": "41c28ad9-acf8-40d7-9aa8-9bc375f955a8"
      },
      "source": [
        "# nombre del simbolo con el cual yahoo-finance identifica al S&P500\n",
        "ticker_sp500 = yf.Ticker('^GSPC')\n",
        "df_data = ticker_sp500.history(period='1d', start='2018-1-1', end='2020-12-31')\n",
        "df_data.drop([\"Volume\", \"Dividends\", \"Stock Splits\"], axis=1, inplace=True)\n",
        "df_data"
      ],
      "execution_count": 5,
      "outputs": [
        {
          "output_type": "execute_result",
          "data": {
            "text/html": [
              "\n",
              "  <div id=\"df-854897ff-228e-4b8c-9717-d1395d823edc\">\n",
              "    <div class=\"colab-df-container\">\n",
              "      <div>\n",
              "<style scoped>\n",
              "    .dataframe tbody tr th:only-of-type {\n",
              "        vertical-align: middle;\n",
              "    }\n",
              "\n",
              "    .dataframe tbody tr th {\n",
              "        vertical-align: top;\n",
              "    }\n",
              "\n",
              "    .dataframe thead th {\n",
              "        text-align: right;\n",
              "    }\n",
              "</style>\n",
              "<table border=\"1\" class=\"dataframe\">\n",
              "  <thead>\n",
              "    <tr style=\"text-align: right;\">\n",
              "      <th></th>\n",
              "      <th>Open</th>\n",
              "      <th>High</th>\n",
              "      <th>Low</th>\n",
              "      <th>Close</th>\n",
              "    </tr>\n",
              "    <tr>\n",
              "      <th>Date</th>\n",
              "      <th></th>\n",
              "      <th></th>\n",
              "      <th></th>\n",
              "      <th></th>\n",
              "    </tr>\n",
              "  </thead>\n",
              "  <tbody>\n",
              "    <tr>\n",
              "      <th>2018-01-02</th>\n",
              "      <td>2683.729980</td>\n",
              "      <td>2695.889893</td>\n",
              "      <td>2682.360107</td>\n",
              "      <td>2695.810059</td>\n",
              "    </tr>\n",
              "    <tr>\n",
              "      <th>2018-01-03</th>\n",
              "      <td>2697.850098</td>\n",
              "      <td>2714.370117</td>\n",
              "      <td>2697.770020</td>\n",
              "      <td>2713.060059</td>\n",
              "    </tr>\n",
              "    <tr>\n",
              "      <th>2018-01-04</th>\n",
              "      <td>2719.310059</td>\n",
              "      <td>2729.290039</td>\n",
              "      <td>2719.070068</td>\n",
              "      <td>2723.989990</td>\n",
              "    </tr>\n",
              "    <tr>\n",
              "      <th>2018-01-05</th>\n",
              "      <td>2731.330078</td>\n",
              "      <td>2743.449951</td>\n",
              "      <td>2727.919922</td>\n",
              "      <td>2743.149902</td>\n",
              "    </tr>\n",
              "    <tr>\n",
              "      <th>2018-01-08</th>\n",
              "      <td>2742.669922</td>\n",
              "      <td>2748.510010</td>\n",
              "      <td>2737.600098</td>\n",
              "      <td>2747.709961</td>\n",
              "    </tr>\n",
              "    <tr>\n",
              "      <th>...</th>\n",
              "      <td>...</td>\n",
              "      <td>...</td>\n",
              "      <td>...</td>\n",
              "      <td>...</td>\n",
              "    </tr>\n",
              "    <tr>\n",
              "      <th>2020-12-23</th>\n",
              "      <td>3693.419922</td>\n",
              "      <td>3711.239990</td>\n",
              "      <td>3689.280029</td>\n",
              "      <td>3690.010010</td>\n",
              "    </tr>\n",
              "    <tr>\n",
              "      <th>2020-12-24</th>\n",
              "      <td>3694.030029</td>\n",
              "      <td>3703.820068</td>\n",
              "      <td>3689.320068</td>\n",
              "      <td>3703.060059</td>\n",
              "    </tr>\n",
              "    <tr>\n",
              "      <th>2020-12-28</th>\n",
              "      <td>3723.030029</td>\n",
              "      <td>3740.510010</td>\n",
              "      <td>3723.030029</td>\n",
              "      <td>3735.360107</td>\n",
              "    </tr>\n",
              "    <tr>\n",
              "      <th>2020-12-29</th>\n",
              "      <td>3750.010010</td>\n",
              "      <td>3756.120117</td>\n",
              "      <td>3723.310059</td>\n",
              "      <td>3727.040039</td>\n",
              "    </tr>\n",
              "    <tr>\n",
              "      <th>2020-12-30</th>\n",
              "      <td>3736.189941</td>\n",
              "      <td>3744.629883</td>\n",
              "      <td>3730.209961</td>\n",
              "      <td>3732.040039</td>\n",
              "    </tr>\n",
              "  </tbody>\n",
              "</table>\n",
              "<p>755 rows × 4 columns</p>\n",
              "</div>\n",
              "      <button class=\"colab-df-convert\" onclick=\"convertToInteractive('df-854897ff-228e-4b8c-9717-d1395d823edc')\"\n",
              "              title=\"Convert this dataframe to an interactive table.\"\n",
              "              style=\"display:none;\">\n",
              "        \n",
              "  <svg xmlns=\"http://www.w3.org/2000/svg\" height=\"24px\"viewBox=\"0 0 24 24\"\n",
              "       width=\"24px\">\n",
              "    <path d=\"M0 0h24v24H0V0z\" fill=\"none\"/>\n",
              "    <path d=\"M18.56 5.44l.94 2.06.94-2.06 2.06-.94-2.06-.94-.94-2.06-.94 2.06-2.06.94zm-11 1L8.5 8.5l.94-2.06 2.06-.94-2.06-.94L8.5 2.5l-.94 2.06-2.06.94zm10 10l.94 2.06.94-2.06 2.06-.94-2.06-.94-.94-2.06-.94 2.06-2.06.94z\"/><path d=\"M17.41 7.96l-1.37-1.37c-.4-.4-.92-.59-1.43-.59-.52 0-1.04.2-1.43.59L10.3 9.45l-7.72 7.72c-.78.78-.78 2.05 0 2.83L4 21.41c.39.39.9.59 1.41.59.51 0 1.02-.2 1.41-.59l7.78-7.78 2.81-2.81c.8-.78.8-2.07 0-2.86zM5.41 20L4 18.59l7.72-7.72 1.47 1.35L5.41 20z\"/>\n",
              "  </svg>\n",
              "      </button>\n",
              "      \n",
              "  <style>\n",
              "    .colab-df-container {\n",
              "      display:flex;\n",
              "      flex-wrap:wrap;\n",
              "      gap: 12px;\n",
              "    }\n",
              "\n",
              "    .colab-df-convert {\n",
              "      background-color: #E8F0FE;\n",
              "      border: none;\n",
              "      border-radius: 50%;\n",
              "      cursor: pointer;\n",
              "      display: none;\n",
              "      fill: #1967D2;\n",
              "      height: 32px;\n",
              "      padding: 0 0 0 0;\n",
              "      width: 32px;\n",
              "    }\n",
              "\n",
              "    .colab-df-convert:hover {\n",
              "      background-color: #E2EBFA;\n",
              "      box-shadow: 0px 1px 2px rgba(60, 64, 67, 0.3), 0px 1px 3px 1px rgba(60, 64, 67, 0.15);\n",
              "      fill: #174EA6;\n",
              "    }\n",
              "\n",
              "    [theme=dark] .colab-df-convert {\n",
              "      background-color: #3B4455;\n",
              "      fill: #D2E3FC;\n",
              "    }\n",
              "\n",
              "    [theme=dark] .colab-df-convert:hover {\n",
              "      background-color: #434B5C;\n",
              "      box-shadow: 0px 1px 3px 1px rgba(0, 0, 0, 0.15);\n",
              "      filter: drop-shadow(0px 1px 2px rgba(0, 0, 0, 0.3));\n",
              "      fill: #FFFFFF;\n",
              "    }\n",
              "  </style>\n",
              "\n",
              "      <script>\n",
              "        const buttonEl =\n",
              "          document.querySelector('#df-854897ff-228e-4b8c-9717-d1395d823edc button.colab-df-convert');\n",
              "        buttonEl.style.display =\n",
              "          google.colab.kernel.accessAllowed ? 'block' : 'none';\n",
              "\n",
              "        async function convertToInteractive(key) {\n",
              "          const element = document.querySelector('#df-854897ff-228e-4b8c-9717-d1395d823edc');\n",
              "          const dataTable =\n",
              "            await google.colab.kernel.invokeFunction('convertToInteractive',\n",
              "                                                     [key], {});\n",
              "          if (!dataTable) return;\n",
              "\n",
              "          const docLinkHtml = 'Like what you see? Visit the ' +\n",
              "            '<a target=\"_blank\" href=https://colab.research.google.com/notebooks/data_table.ipynb>data table notebook</a>'\n",
              "            + ' to learn more about interactive tables.';\n",
              "          element.innerHTML = '';\n",
              "          dataTable['output_type'] = 'display_data';\n",
              "          await google.colab.output.renderOutput(dataTable, element);\n",
              "          const docLink = document.createElement('div');\n",
              "          docLink.innerHTML = docLinkHtml;\n",
              "          element.appendChild(docLink);\n",
              "        }\n",
              "      </script>\n",
              "    </div>\n",
              "  </div>\n",
              "  "
            ],
            "text/plain": [
              "                   Open         High          Low        Close\n",
              "Date                                                          \n",
              "2018-01-02  2683.729980  2695.889893  2682.360107  2695.810059\n",
              "2018-01-03  2697.850098  2714.370117  2697.770020  2713.060059\n",
              "2018-01-04  2719.310059  2729.290039  2719.070068  2723.989990\n",
              "2018-01-05  2731.330078  2743.449951  2727.919922  2743.149902\n",
              "2018-01-08  2742.669922  2748.510010  2737.600098  2747.709961\n",
              "...                 ...          ...          ...          ...\n",
              "2020-12-23  3693.419922  3711.239990  3689.280029  3690.010010\n",
              "2020-12-24  3694.030029  3703.820068  3689.320068  3703.060059\n",
              "2020-12-28  3723.030029  3740.510010  3723.030029  3735.360107\n",
              "2020-12-29  3750.010010  3756.120117  3723.310059  3727.040039\n",
              "2020-12-30  3736.189941  3744.629883  3730.209961  3732.040039\n",
              "\n",
              "[755 rows x 4 columns]"
            ]
          },
          "metadata": {},
          "execution_count": 5
        }
      ]
    },
    {
      "cell_type": "markdown",
      "metadata": {
        "id": "hHciRHf_j1xY"
      },
      "source": [
        "# EDA - Exploratory data analysis"
      ]
    },
    {
      "cell_type": "markdown",
      "metadata": {
        "id": "Ee1DDiuT8lVc"
      },
      "source": [
        "Let's visually check the historical prices of the S&P500"
      ]
    },
    {
      "cell_type": "code",
      "metadata": {
        "colab": {
          "base_uri": "https://localhost:8080/",
          "height": 282
        },
        "id": "gL-XJR9pj285",
        "outputId": "f4e86a79-9220-4dac-a0a1-e21427c0ec3a"
      },
      "source": [
        "plt.subplots(figsize=(12, 4))\n",
        "sns.lineplot(data=df_data, x=df_data.index, y='Close')\n",
        "plt.show()"
      ],
      "execution_count": 6,
      "outputs": [
        {
          "output_type": "display_data",
          "data": {
            "image/png": "[encoded data removed]",
            "text/plain": [
              "<Figure size 864x288 with 1 Axes>"
            ]
          },
          "metadata": {
            "needs_background": "light"
          }
        }
      ]
    },
    {
      "cell_type": "markdown",
      "metadata": {
        "id": "vjpz7ZjBBi1g"
      },
      "source": [
        "Before classifying sequences of patterns we need to discriminate them correctly, for this we are going to create a function that is able to obtain the \"delta\" of the size of the candlestick body (formed by their respective prices), this will be determined by the maximum and minimum of each price.\n",
        "\n",
        "Delta refers to the difference (or distance) of the candlestick pattern, from its minimum to its maximum in this case.\n",
        "\n",
        "**Delta-Type function**"
      ]
    },
    {
      "cell_type": "code",
      "metadata": {
        "colab": {
          "base_uri": "https://localhost:8080/",
          "height": 455
        },
        "id": "TbCdx3WkHn9w",
        "outputId": "a24dc19d-5253-489a-ad8a-6cb77825aad7"
      },
      "source": [
        "def get_candle_type(price):\n",
        "  if price[\"Close\"] > price[\"Open\"] : return \"bullish\"\n",
        "  if price[\"Close\"] < price[\"Open\"] : return \"bearish\"\n",
        "  #if price[\"Close\"] == price[\"Open\"] : return \"undefined\"\n",
        "  return \"undefined\"\n",
        "\n",
        "def set_candle_type(row):\n",
        "  type_ = row[\"Type\"]\n",
        "  if type_ is \"bullish\":\n",
        "    return row[\"Delta\"]\n",
        "  if type_ is \"bearish\":\n",
        "    return -row[\"Delta\"]\n",
        "\n",
        "  return None\n",
        "\n",
        "df_candles = pd.DataFrame()\n",
        "df_candles[\"Delta\"] = df_data[\"High\"] - df_data[\"Low\"]\n",
        "df_candles[\"Type\"]  = df_data.apply(lambda row: get_candle_type(row), axis=1)\n",
        "df_candles[\"Delta\"] = df_candles.apply(lambda row: set_candle_type(row), axis=1)\n",
        "df_candles.dropna(axis=1)\n",
        "df_candles"
      ],
      "execution_count": 7,
      "outputs": [
        {
          "output_type": "execute_result",
          "data": {
            "text/html": [
              "\n",
              "  <div id=\"df-c428a199-a902-47bf-974a-cd8777aed276\">\n",
              "    <div class=\"colab-df-container\">\n",
              "      <div>\n",
              "<style scoped>\n",
              "    .dataframe tbody tr th:only-of-type {\n",
              "        vertical-align: middle;\n",
              "    }\n",
              "\n",
              "    .dataframe tbody tr th {\n",
              "        vertical-align: top;\n",
              "    }\n",
              "\n",
              "    .dataframe thead th {\n",
              "        text-align: right;\n",
              "    }\n",
              "</style>\n",
              "<table border=\"1\" class=\"dataframe\">\n",
              "  <thead>\n",
              "    <tr style=\"text-align: right;\">\n",
              "      <th></th>\n",
              "      <th>Delta</th>\n",
              "      <th>Type</th>\n",
              "    </tr>\n",
              "    <tr>\n",
              "      <th>Date</th>\n",
              "      <th></th>\n",
              "      <th></th>\n",
              "    </tr>\n",
              "  </thead>\n",
              "  <tbody>\n",
              "    <tr>\n",
              "      <th>2018-01-02</th>\n",
              "      <td>13.529785</td>\n",
              "      <td>bullish</td>\n",
              "    </tr>\n",
              "    <tr>\n",
              "      <th>2018-01-03</th>\n",
              "      <td>16.600098</td>\n",
              "      <td>bullish</td>\n",
              "    </tr>\n",
              "    <tr>\n",
              "      <th>2018-01-04</th>\n",
              "      <td>10.219971</td>\n",
              "      <td>bullish</td>\n",
              "    </tr>\n",
              "    <tr>\n",
              "      <th>2018-01-05</th>\n",
              "      <td>15.530029</td>\n",
              "      <td>bullish</td>\n",
              "    </tr>\n",
              "    <tr>\n",
              "      <th>2018-01-08</th>\n",
              "      <td>10.909912</td>\n",
              "      <td>bullish</td>\n",
              "    </tr>\n",
              "    <tr>\n",
              "      <th>...</th>\n",
              "      <td>...</td>\n",
              "      <td>...</td>\n",
              "    </tr>\n",
              "    <tr>\n",
              "      <th>2020-12-23</th>\n",
              "      <td>-21.959961</td>\n",
              "      <td>bearish</td>\n",
              "    </tr>\n",
              "    <tr>\n",
              "      <th>2020-12-24</th>\n",
              "      <td>14.500000</td>\n",
              "      <td>bullish</td>\n",
              "    </tr>\n",
              "    <tr>\n",
              "      <th>2020-12-28</th>\n",
              "      <td>17.479980</td>\n",
              "      <td>bullish</td>\n",
              "    </tr>\n",
              "    <tr>\n",
              "      <th>2020-12-29</th>\n",
              "      <td>-32.810059</td>\n",
              "      <td>bearish</td>\n",
              "    </tr>\n",
              "    <tr>\n",
              "      <th>2020-12-30</th>\n",
              "      <td>-14.419922</td>\n",
              "      <td>bearish</td>\n",
              "    </tr>\n",
              "  </tbody>\n",
              "</table>\n",
              "<p>755 rows × 2 columns</p>\n",
              "</div>\n",
              "      <button class=\"colab-df-convert\" onclick=\"convertToInteractive('df-c428a199-a902-47bf-974a-cd8777aed276')\"\n",
              "              title=\"Convert this dataframe to an interactive table.\"\n",
              "              style=\"display:none;\">\n",
              "        \n",
              "  <svg xmlns=\"http://www.w3.org/2000/svg\" height=\"24px\"viewBox=\"0 0 24 24\"\n",
              "       width=\"24px\">\n",
              "    <path d=\"M0 0h24v24H0V0z\" fill=\"none\"/>\n",
              "    <path d=\"M18.56 5.44l.94 2.06.94-2.06 2.06-.94-2.06-.94-.94-2.06-.94 2.06-2.06.94zm-11 1L8.5 8.5l.94-2.06 2.06-.94-2.06-.94L8.5 2.5l-.94 2.06-2.06.94zm10 10l.94 2.06.94-2.06 2.06-.94-2.06-.94-.94-2.06-.94 2.06-2.06.94z\"/><path d=\"M17.41 7.96l-1.37-1.37c-.4-.4-.92-.59-1.43-.59-.52 0-1.04.2-1.43.59L10.3 9.45l-7.72 7.72c-.78.78-.78 2.05 0 2.83L4 21.41c.39.39.9.59 1.41.59.51 0 1.02-.2 1.41-.59l7.78-7.78 2.81-2.81c.8-.78.8-2.07 0-2.86zM5.41 20L4 18.59l7.72-7.72 1.47 1.35L5.41 20z\"/>\n",
              "  </svg>\n",
              "      </button>\n",
              "      \n",
              "  <style>\n",
              "    .colab-df-container {\n",
              "      display:flex;\n",
              "      flex-wrap:wrap;\n",
              "      gap: 12px;\n",
              "    }\n",
              "\n",
              "    .colab-df-convert {\n",
              "      background-color: #E8F0FE;\n",
              "      border: none;\n",
              "      border-radius: 50%;\n",
              "      cursor: pointer;\n",
              "      display: none;\n",
              "      fill: #1967D2;\n",
              "      height: 32px;\n",
              "      padding: 0 0 0 0;\n",
              "      width: 32px;\n",
              "    }\n",
              "\n",
              "    .colab-df-convert:hover {\n",
              "      background-color: #E2EBFA;\n",
              "      box-shadow: 0px 1px 2px rgba(60, 64, 67, 0.3), 0px 1px 3px 1px rgba(60, 64, 67, 0.15);\n",
              "      fill: #174EA6;\n",
              "    }\n",
              "\n",
              "    [theme=dark] .colab-df-convert {\n",
              "      background-color: #3B4455;\n",
              "      fill: #D2E3FC;\n",
              "    }\n",
              "\n",
              "    [theme=dark] .colab-df-convert:hover {\n",
              "      background-color: #434B5C;\n",
              "      box-shadow: 0px 1px 3px 1px rgba(0, 0, 0, 0.15);\n",
              "      filter: drop-shadow(0px 1px 2px rgba(0, 0, 0, 0.3));\n",
              "      fill: #FFFFFF;\n",
              "    }\n",
              "  </style>\n",
              "\n",
              "      <script>\n",
              "        const buttonEl =\n",
              "          document.querySelector('#df-c428a199-a902-47bf-974a-cd8777aed276 button.colab-df-convert');\n",
              "        buttonEl.style.display =\n",
              "          google.colab.kernel.accessAllowed ? 'block' : 'none';\n",
              "\n",
              "        async function convertToInteractive(key) {\n",
              "          const element = document.querySelector('#df-c428a199-a902-47bf-974a-cd8777aed276');\n",
              "          const dataTable =\n",
              "            await google.colab.kernel.invokeFunction('convertToInteractive',\n",
              "                                                     [key], {});\n",
              "          if (!dataTable) return;\n",
              "\n",
              "          const docLinkHtml = 'Like what you see? Visit the ' +\n",
              "            '<a target=\"_blank\" href=https://colab.research.google.com/notebooks/data_table.ipynb>data table notebook</a>'\n",
              "            + ' to learn more about interactive tables.';\n",
              "          element.innerHTML = '';\n",
              "          dataTable['output_type'] = 'display_data';\n",
              "          await google.colab.output.renderOutput(dataTable, element);\n",
              "          const docLink = document.createElement('div');\n",
              "          docLink.innerHTML = docLinkHtml;\n",
              "          element.appendChild(docLink);\n",
              "        }\n",
              "      </script>\n",
              "    </div>\n",
              "  </div>\n",
              "  "
            ],
            "text/plain": [
              "                Delta     Type\n",
              "Date                          \n",
              "2018-01-02  13.529785  bullish\n",
              "2018-01-03  16.600098  bullish\n",
              "2018-01-04  10.219971  bullish\n",
              "2018-01-05  15.530029  bullish\n",
              "2018-01-08  10.909912  bullish\n",
              "...               ...      ...\n",
              "2020-12-23 -21.959961  bearish\n",
              "2020-12-24  14.500000  bullish\n",
              "2020-12-28  17.479980  bullish\n",
              "2020-12-29 -32.810059  bearish\n",
              "2020-12-30 -14.419922  bearish\n",
              "\n",
              "[755 rows x 2 columns]"
            ]
          },
          "metadata": {},
          "execution_count": 7
        }
      ]
    },
    {
      "cell_type": "markdown",
      "metadata": {
        "id": "0sM54BbG1lsu"
      },
      "source": [
        "*Delta distribution*"
      ]
    },
    {
      "cell_type": "code",
      "metadata": {
        "colab": {
          "base_uri": "https://localhost:8080/",
          "height": 334
        },
        "id": "EJh2NJLHqxzW",
        "outputId": "a91a15dd-13bf-400b-a4fa-d0c3597a80d4"
      },
      "source": [
        "plt.subplots(figsize=(9,5))\n",
        "sns.histplot(df_candles[\"Delta\"])\n",
        "plt.show()"
      ],
      "execution_count": 8,
      "outputs": [
        {
          "output_type": "display_data",
          "data": {
            "image/png": "[encoded data removed]",
            "text/plain": [
              "<Figure size 648x360 with 1 Axes>"
            ]
          },
          "metadata": {
            "needs_background": "light"
          }
        }
      ]
    },
    {
      "cell_type": "markdown",
      "metadata": {
        "id": "vcaaCit_ItLY"
      },
      "source": [
        "*Check graphically which sentiment dominates the market; bullish or bearish?*"
      ]
    },
    {
      "cell_type": "code",
      "metadata": {
        "colab": {
          "base_uri": "https://localhost:8080/",
          "height": 279
        },
        "id": "Cqd-0V_mIIVo",
        "outputId": "0ceff2ef-fad2-4cf9-d3ff-29dfe3ecdf7a"
      },
      "source": [
        "sns.countplot(data=df_candles, x='Type')\n",
        "plt.show()"
      ],
      "execution_count": 9,
      "outputs": [
        {
          "output_type": "display_data",
          "data": {
            "image/png": "[encoded data removed]",
            "text/plain": [
              "<Figure size 432x288 with 1 Axes>"
            ]
          },
          "metadata": {
            "needs_background": "light"
          }
        }
      ]
    },
    {
      "cell_type": "markdown",
      "metadata": {
        "id": "KxlMeO6v40ws"
      },
      "source": [
        "*outliers*"
      ]
    },
    {
      "cell_type": "code",
      "metadata": {
        "colab": {
          "base_uri": "https://localhost:8080/",
          "height": 265
        },
        "id": "iF1nUTjL4tJv",
        "outputId": "c249fba8-90b3-49a3-8097-8124632a54ee"
      },
      "source": [
        "plt.subplots(figsize=(9, 4))\n",
        "sns.boxplot(data=df_candles[\"Delta\"], orient='h', color='white')\n",
        "sns.swarmplot(data=df_candles[\"Delta\"], size=3, orient='h', color='blue')\n",
        "plt.show()"
      ],
      "execution_count": 10,
      "outputs": [
        {
          "output_type": "display_data",
          "data": {
            "image/png": "[encoded data removed]",
            "text/plain": [
              "<Figure size 648x288 with 1 Axes>"
            ]
          },
          "metadata": {
            "needs_background": "light"
          }
        }
      ]
    },
    {
      "cell_type": "markdown",
      "metadata": {
        "id": "g31w9oRrIj5W"
      },
      "source": [
        "*Let's look analytically at the relevant data of the distribution.*"
      ]
    },
    {
      "cell_type": "code",
      "metadata": {
        "colab": {
          "base_uri": "https://localhost:8080/",
          "height": 268
        },
        "id": "uIcLIz0KIkIy",
        "outputId": "dec521ff-0f5a-4be4-ea94-13a0904cbb4c"
      },
      "source": [
        "total_candles = df_candles.shape[0]\n",
        "bullish_candles = df_candles[\"Type\"][df_candles[\"Type\"]=='bullish'].count()\n",
        "bearish_candles = total_candles - bullish_candles\n",
        "\n",
        "bullish_percent = np.round(bullish_candles/total_candles*100,2)\n",
        "bearish_percent = np.round(bearish_candles/total_candles*100,2)\n",
        "\n",
        "pd.DataFrame(data={\n",
        "    'Mean': [df_candles[\"Delta\"].mean()],\n",
        "    'Std':  [df_candles[\"Delta\"].std()],\n",
        "    'Skew': [df_candles[\"Delta\"].skew()],\n",
        "    'Total-bullish':[bullish_candles],\n",
        "    'Bullish(%)':[np.round(bullish_percent,2)],\n",
        "    'Total-bearish':[bearish_candles],\n",
        "    'Bearish(%)':[np.round(bearish_percent,2)],\n",
        "    }, index=['Info']).transpose()"
      ],
      "execution_count": 11,
      "outputs": [
        {
          "output_type": "execute_result",
          "data": {
            "text/html": [
              "\n",
              "  <div id=\"df-9ba99a8f-aa73-4655-9b75-6255af7b0380\">\n",
              "    <div class=\"colab-df-container\">\n",
              "      <div>\n",
              "<style scoped>\n",
              "    .dataframe tbody tr th:only-of-type {\n",
              "        vertical-align: middle;\n",
              "    }\n",
              "\n",
              "    .dataframe tbody tr th {\n",
              "        vertical-align: top;\n",
              "    }\n",
              "\n",
              "    .dataframe thead th {\n",
              "        text-align: right;\n",
              "    }\n",
              "</style>\n",
              "<table border=\"1\" class=\"dataframe\">\n",
              "  <thead>\n",
              "    <tr style=\"text-align: right;\">\n",
              "      <th></th>\n",
              "      <th>Info</th>\n",
              "    </tr>\n",
              "  </thead>\n",
              "  <tbody>\n",
              "    <tr>\n",
              "      <th>Mean</th>\n",
              "      <td>-0.103246</td>\n",
              "    </tr>\n",
              "    <tr>\n",
              "      <th>Std</th>\n",
              "      <td>46.204504</td>\n",
              "    </tr>\n",
              "    <tr>\n",
              "      <th>Skew</th>\n",
              "      <td>-0.202313</td>\n",
              "    </tr>\n",
              "    <tr>\n",
              "      <th>Total-bullish</th>\n",
              "      <td>417.000000</td>\n",
              "    </tr>\n",
              "    <tr>\n",
              "      <th>Bullish(%)</th>\n",
              "      <td>55.230000</td>\n",
              "    </tr>\n",
              "    <tr>\n",
              "      <th>Total-bearish</th>\n",
              "      <td>338.000000</td>\n",
              "    </tr>\n",
              "    <tr>\n",
              "      <th>Bearish(%)</th>\n",
              "      <td>44.770000</td>\n",
              "    </tr>\n",
              "  </tbody>\n",
              "</table>\n",
              "</div>\n",
              "      <button class=\"colab-df-convert\" onclick=\"convertToInteractive('df-9ba99a8f-aa73-4655-9b75-6255af7b0380')\"\n",
              "              title=\"Convert this dataframe to an interactive table.\"\n",
              "              style=\"display:none;\">\n",
              "        \n",
              "  <svg xmlns=\"http://www.w3.org/2000/svg\" height=\"24px\"viewBox=\"0 0 24 24\"\n",
              "       width=\"24px\">\n",
              "    <path d=\"M0 0h24v24H0V0z\" fill=\"none\"/>\n",
              "    <path d=\"M18.56 5.44l.94 2.06.94-2.06 2.06-.94-2.06-.94-.94-2.06-.94 2.06-2.06.94zm-11 1L8.5 8.5l.94-2.06 2.06-.94-2.06-.94L8.5 2.5l-.94 2.06-2.06.94zm10 10l.94 2.06.94-2.06 2.06-.94-2.06-.94-.94-2.06-.94 2.06-2.06.94z\"/><path d=\"M17.41 7.96l-1.37-1.37c-.4-.4-.92-.59-1.43-.59-.52 0-1.04.2-1.43.59L10.3 9.45l-7.72 7.72c-.78.78-.78 2.05 0 2.83L4 21.41c.39.39.9.59 1.41.59.51 0 1.02-.2 1.41-.59l7.78-7.78 2.81-2.81c.8-.78.8-2.07 0-2.86zM5.41 20L4 18.59l7.72-7.72 1.47 1.35L5.41 20z\"/>\n",
              "  </svg>\n",
              "      </button>\n",
              "      \n",
              "  <style>\n",
              "    .colab-df-container {\n",
              "      display:flex;\n",
              "      flex-wrap:wrap;\n",
              "      gap: 12px;\n",
              "    }\n",
              "\n",
              "    .colab-df-convert {\n",
              "      background-color: #E8F0FE;\n",
              "      border: none;\n",
              "      border-radius: 50%;\n",
              "      cursor: pointer;\n",
              "      display: none;\n",
              "      fill: #1967D2;\n",
              "      height: 32px;\n",
              "      padding: 0 0 0 0;\n",
              "      width: 32px;\n",
              "    }\n",
              "\n",
              "    .colab-df-convert:hover {\n",
              "      background-color: #E2EBFA;\n",
              "      box-shadow: 0px 1px 2px rgba(60, 64, 67, 0.3), 0px 1px 3px 1px rgba(60, 64, 67, 0.15);\n",
              "      fill: #174EA6;\n",
              "    }\n",
              "\n",
              "    [theme=dark] .colab-df-convert {\n",
              "      background-color: #3B4455;\n",
              "      fill: #D2E3FC;\n",
              "    }\n",
              "\n",
              "    [theme=dark] .colab-df-convert:hover {\n",
              "      background-color: #434B5C;\n",
              "      box-shadow: 0px 1px 3px 1px rgba(0, 0, 0, 0.15);\n",
              "      filter: drop-shadow(0px 1px 2px rgba(0, 0, 0, 0.3));\n",
              "      fill: #FFFFFF;\n",
              "    }\n",
              "  </style>\n",
              "\n",
              "      <script>\n",
              "        const buttonEl =\n",
              "          document.querySelector('#df-9ba99a8f-aa73-4655-9b75-6255af7b0380 button.colab-df-convert');\n",
              "        buttonEl.style.display =\n",
              "          google.colab.kernel.accessAllowed ? 'block' : 'none';\n",
              "\n",
              "        async function convertToInteractive(key) {\n",
              "          const element = document.querySelector('#df-9ba99a8f-aa73-4655-9b75-6255af7b0380');\n",
              "          const dataTable =\n",
              "            await google.colab.kernel.invokeFunction('convertToInteractive',\n",
              "                                                     [key], {});\n",
              "          if (!dataTable) return;\n",
              "\n",
              "          const docLinkHtml = 'Like what you see? Visit the ' +\n",
              "            '<a target=\"_blank\" href=https://colab.research.google.com/notebooks/data_table.ipynb>data table notebook</a>'\n",
              "            + ' to learn more about interactive tables.';\n",
              "          element.innerHTML = '';\n",
              "          dataTable['output_type'] = 'display_data';\n",
              "          await google.colab.output.renderOutput(dataTable, element);\n",
              "          const docLink = document.createElement('div');\n",
              "          docLink.innerHTML = docLinkHtml;\n",
              "          element.appendChild(docLink);\n",
              "        }\n",
              "      </script>\n",
              "    </div>\n",
              "  </div>\n",
              "  "
            ],
            "text/plain": [
              "                     Info\n",
              "Mean            -0.103246\n",
              "Std             46.204504\n",
              "Skew            -0.202313\n",
              "Total-bullish  417.000000\n",
              "Bullish(%)      55.230000\n",
              "Total-bearish  338.000000\n",
              "Bearish(%)      44.770000"
            ]
          },
          "metadata": {},
          "execution_count": 11
        }
      ]
    },
    {
      "cell_type": "markdown",
      "metadata": {
        "id": "K8frXDfAVm_Y"
      },
      "source": [
        "The conclusion on the most noticeable characteristics are:\n",
        "  * The values come from a quasi-normal distribution.\n",
        "  * It is sufficiently symmetric. The general rule says that if the skewness is between (-0.5, 0.5) the distribution is quasi-symmetric.\n",
        "  * Existence of outliers"
      ]
    },
    {
      "cell_type": "markdown",
      "metadata": {
        "id": "4uPKvXbvE2_m"
      },
      "source": [
        "# Encoding patterns in strings, combinatorial analysis, filtering and optimization."
      ]
    },
    {
      "cell_type": "markdown",
      "metadata": {
        "id": "GDiLTuTTG7Ag"
      },
      "source": [
        "It is now when the real challenge begins, the final objective will be to create a function capable of generating probabilities on a sequence of candlesticks which will be determined by the price frequency of the market analyzed in question. But first we must ask ourselves; what kind of candles we are studying?, what do we call sequence?, is it reliable to use this word?, are its characteristics reliable and robust to volatility?, is it possible to find a pattern that we can rely on to make predictions?.\n",
        "\n",
        "In our analysis we will look more into the latter, and perhaps incorporate new concepts as we get rid of old ideas."
      ]
    },
    {
      "cell_type": "markdown",
      "metadata": {
        "id": "TQkEo4_8F_nC"
      },
      "source": [
        "**First step: rank determination criteria.**\n",
        "\n",
        "The first objective to achieve is to generate a series of ranges that tell us what will be the size of each candlestick to study (i.e. its body), with this we mean to create a criterion that is able to determine what is the appropriate candlestick size to select according to the time series (this should apply to any asset in any time-frame), and since each of them is different because they are continuous values we must be able to generate a series of minimum-maximum intervals, otherwise an exact value will never be repeated twice, this is a property of the laws of probability.\n",
        "\n",
        "In addition, each market has different dynamic factors (such as volatility, average historical prices, etc..) and therefore this analysis would be seriously affected if the conditions are not accurate, so the ranges would vary by having different price distributions, even within the market itself if we extend the analysis to past data and the above factors change due to different causes (crisis, cycles, fundamentals, etc..).\n",
        "\n",
        "Recall that we start from the fact that the historical market prices form a normal distribution, and therefore we will use the standardization formula which will allow us to choose an interval using its mean and standard deviation, I will explain shortly why this is the case, for the moment let's look at the mathematical formula:"
      ]
    },
    {
      "cell_type": "markdown",
      "metadata": {
        "id": "MVjwlHvCaIaD"
      },
      "source": [
        "![standarized_normal_dist.png](data:image/png;base64,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)"
      ]
    },
    {
      "cell_type": "markdown",
      "metadata": {
        "id": "H6XGAo_7LUdS"
      },
      "source": [
        "Where:\n",
        "  * z(z-score) : critical value, depends on the interval chosen in the distribution.\n",
        "  * x: term to be cleared, it will give us the numerical value of the interval we are looking for.\n",
        "  * mu: population mean.\n",
        "  * sigma: standard deviation of the population.\n",
        "\n",
        "To select the z-value we will look at a pre-calculated table. The reason for this is simple, we will propose a constant interval and starting from it we will take different body sizes or price deltas. For this case I will take an interval of 20% (i.e. each body size will allow 20% of noise or variation, this is the accepted error), let's look at a fragment of the table for reasons of this example."
      ]
    },
    {
      "cell_type": "markdown",
      "metadata": {
        "id": "hqu-VhpKN1kz"
      },
      "source": [
        "![z_table_20per.png](data:image/png;base64,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)"
      ]
    },
    {
      "cell_type": "markdown",
      "source": [
        "![z_dist_right.png](data:image/png;base64,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)"
      ],
      "metadata": {
        "id": "JzUlVVlFv-YM"
      }
    },
    {
      "cell_type": "markdown",
      "metadata": {
        "id": "ijBleKZkOX6d"
      },
      "source": [
        "That is, starting from an interval of 20% (if we look at the red box of the table the corresponding z-value is 0.53) the successive values taken will increase according to this measure, for this example the ranges generated will be 20%, 40%, 60%, etc... Using this formula we will not depend on fixed values and with this we will have generalized the problem to any market or time scale.\n",
        "\n",
        "Now we only need to choose a stopping criterion, i.e. taking intervals of 20% how many values can be taken as a maximum in the distribution. For this I will use 2.5 standard deviations, so the amount of ranges will be determined by the deviations we allow, if we increase the range of the candles (say to 40%) these amounts will decrease because the acceptance value is larger.\n",
        "\n",
        "**Let's write the function:**"
      ]
    },
    {
      "cell_type": "code",
      "metadata": {
        "colab": {
          "base_uri": "https://localhost:8080/"
        },
        "id": "KOJUq5eTNoND",
        "outputId": "699ffb9b-57f0-4669-9157-de2d687a0399"
      },
      "source": [
        "# z_critical_value = 0.53 -> valor critico del 20.194% en la tabla\n",
        "def get_candles_body_range(mean, std_dev, total_devs=2.5, z_score = 0.53):\n",
        "  # standarization\n",
        "  # z = (x - mean)/ std_dev\n",
        "  # despejamos la formula\n",
        "  x = z_score*std_dev + mean\n",
        "  # el punto de origen es la media\n",
        "  i = mean\n",
        "  intervals_ = []\n",
        "  while i < std_dev*total_devs:\n",
        "    intervals_.append(i)\n",
        "    # nos movemos hacia la derecha de la distribucion, partiendo desde el lado derecho de la misma\n",
        "    i+= x\n",
        " \n",
        "  neg_intervals = []\n",
        "  n_intervals = len(intervals_)\n",
        "  for i in range(n_intervals - 1, 0, -1):\n",
        "    neg_intervals.append(-intervals_[i])\n",
        " \n",
        "  return neg_intervals + intervals_\n",
        " \n",
        "bodies = get_candles_body_range(df_candles[\"Delta\"].mean(), df_candles[\"Delta\"].std())\n",
        "total_ranges = len(bodies)\n",
        "print(bodies)\n",
        "print(\"total ranges:\",total_ranges)"
      ],
      "execution_count": 12,
      "outputs": [
        {
          "output_type": "stream",
          "name": "stdout",
          "text": [
            "[-97.43731612956171, -73.05217553169632, -48.667034933830934, -24.28189433596555, -0.10324626189983444, 24.28189433596555, 48.667034933830934, 73.05217553169632, 97.43731612956171]\n",
            "total ranges: 9\n"
          ]
        }
      ]
    },
    {
      "cell_type": "markdown",
      "metadata": {
        "id": "E18nKBI_VZrO"
      },
      "source": [
        "As can be seen we do not integrate the function to obtain the value of z and based on that calculate each iteration of X, instead we calculate once the 20% range and from there on all the increments for X will be uniform (based on the initial value of the formula).\n",
        "\n",
        "This will give us more ranges than if we use intervals determined by z (integrating the Gaussian probability function), since these would increase to 100% which corresponds to the right tail of the distribution. Following the inverse logic they would end up at 0% for the left tail of the distribution (because they will be negative values).\n",
        "\n",
        "Another important detail to keep in mind is that we calculated the ranges in two parts; first the positive and then the negative (symmetric), finally these generated lists were merged into a single one which contains all the ranges...\n",
        "\n",
        "A more detailed explanation of this will be given in the optional *calculation of price ranges* section."
      ]
    },
    {
      "cell_type": "markdown",
      "metadata": {
        "id": "yYeaVMLQU9wc"
      },
      "source": [
        "As mentioned at the beginning the formula cleared is the standardization, with this we obtain X (which represents an observation) and thus determine the numerical interval which gives us the range. We should also mention that these can be negative since they correspond to bearish candles! Now we need a function that generates intervals from the calculated ranges.\n",
        "\n",
        "\n",
        "Remark: *When we finish our study this formula will be modified to generalize any type of interval without the need to look at a pre-calculated z-table, for the moment we do it this way for learning purposes.*"
      ]
    },
    {
      "cell_type": "markdown",
      "metadata": {
        "id": "axKMs23jHASx"
      },
      "source": [
        "**Interval coding**.\n",
        "\n",
        "The next step will be to encode or encrypt the generated ranges in order to form the candlestick patterns in a simpler way, I will create an algorithm that generates only letters for each distinct continuous value, although the symbology is indifferent."
      ]
    },
    {
      "cell_type": "code",
      "metadata": {
        "colab": {
          "base_uri": "https://localhost:8080/"
        },
        "id": "vE-AuWlAGhhv",
        "outputId": "42f86326-3600-4302-84d9-1d36880d89ac"
      },
      "source": [
        "def encrypt(bodies):\n",
        "  letters = ['A','B','C','D','E','F','G','H','I','J','K','L','M','N','O','P','Q','R','S','T','U','V','W','X','Y','Z']\n",
        "\n",
        "  n_letters = len(letters)\n",
        "  n_bodies= len(bodies)\n",
        "  i = 0\n",
        "  idx= 0\n",
        "  level = 1\n",
        "  code = {}\n",
        "  while idx < n_bodies:\n",
        "    if i >= n_letters:\n",
        "      i = 0\n",
        "      level+= 1\n",
        "    c = ''\n",
        "    for _ in range(level):\n",
        "      c+= letters[i]\n",
        "    code[c] = bodies[idx]\n",
        "    i+= 1\n",
        "    idx+= 1\n",
        "\n",
        "  return code\n",
        "\n",
        "encripted_bodies = encrypt(bodies)\n",
        "print(encripted_bodies)"
      ],
      "execution_count": 13,
      "outputs": [
        {
          "output_type": "stream",
          "name": "stdout",
          "text": [
            "{'A': -97.43731612956171, 'B': -73.05217553169632, 'C': -48.667034933830934, 'D': -24.28189433596555, 'E': -0.10324626189983444, 'F': 24.28189433596555, 'G': 48.667034933830934, 'H': 73.05217553169632, 'I': 97.43731612956171}\n"
          ]
        }
      ]
    },
    {
      "cell_type": "markdown",
      "metadata": {
        "id": "W3ch7GcdV-YG"
      },
      "source": [
        "At this point we need a function that is able to take the ranges and transform them into intervals, with this we will form pairs of lows and highs. In this way we will be able to permute them to create the sequences that will represent the different types of candlestick bodies, i.e. different combinations of price ranges that the market can generate according to our estimates.\n",
        "\n",
        "This is not a simple problem in computational terms, in fact it is *variations with repetition* and is studied in combinatorics. So as the strings become larger in length the computational cost will grow exponentially, let's understand the following; what we are looking for is to evaluate *all the existing possibilities* of combinations of intervals or parameters, this is a brute force problem. \n",
        "Before programming the functions for this task we will resort to the mathematical expression.\n",
        "\n",
        "**Variations with repetition**"
      ]
    },
    {
      "cell_type": "markdown",
      "metadata": {
        "id": "xOw_gOYqoqmN"
      },
      "source": [
        "![variaciones_con_repeticion.png](data:image/png;base64,iVBORw0KGgoAAAANSUhEUgAAAF0AAAAcCAIAAACMFyRdAAAAAXNSR0IArs4c6QAAAARnQU1BAACxjwv8YQUAAAAJcEhZcwAADsMAAA7DAcdvqGQAAAMWSURBVFhH7Zb9lSFBFMVFgAiQAREgghHBEAES8JUAIkAERgSDBJABGZCB3t/0LXV6V3Uzu2vZc+r+0afeq9fV7933UZ0KPFzwvLjheXHD8+KG58UNz4sbbl5Wq9U5xH6/PxwORhsE6/WaLWCVp9MJcblcSg+Ox6O2XhCz2azdbuNkv99nYbQuOHghVF7LZDKpVEqnSA8XlUoFZaPRsMrdbtfr9VBi3+12efHt7S2bzY7HY3Yxw3ixWCByFMZ66yng6/hTKBTkBrEk+BPbR4RHtJSMkUMQ9sfHhxEuwAbLVqtl5CCYTqdolBYANSjJFWsZPAsQUSwWWZB7EimlE7G8qAroIyMHAWvIMkIEn5+fWEb5Ei+j0Yi1TYsKJ9x/GlS2LEhStOqvEcsLUREbg8PIQVCr1aI0WYjBaGWVy2WyQU5Y27Tk83k0j6CGYxl8+tx2uyVajT80rKPBE4JECBoMBmp2J2J5gRGiJfMSoUn5vwaVCRFfU/p85qvUFKJqBFFNhKOlUgk/5H0CvuKIR/QSsCBaurharfIcDoeTyYQBR/2+v7/zxJlmsynL6EDhNLNyIZYXiIcXaoE1V4yzgwBbmPFtLDudDkUhIgRYsETcZETgnARcTzc6AiVbFCY+S4lL9Xpda7ZwT+v7EcsLybenx3UQmM/nmDFiJKrKrPgPoAoibZaIzWaDD9ZhSLFb9yOJFzLA1FQ2jPYKlC5OGOHCS1zH3YOwHWNhjH4GelylfSTSSrlcTsYUKf5cV9lNxPICIIXbnmIxsgsaLka4zGA7rZmyvM5YodpZ8GRNoyUMPE5IgJ13USQUCGSl02k44l1p7sQNXqJBXoM8YECcdnbweTSMNDQ4BxHci/ZqFMXscnJo/negAjFCOFwsfYxe3GDu2NF7J5J4IUiF5IT+2QSbDeig1SkiHBJZXEO//L9QLAn18hvgNNu5fBT2bZ74NP58t1hAEi9/DvzjhtKalrRMMSwpH+lfE4/lhZax/y/6AQcwRYk5/0ReB4/l5f+F58UNz4sbnhc3PC9ueF7c8Ly44XlxIQh+ADSughTOoP9pAAAAAElFTkSuQmCC)"
      ]
    },
    {
      "cell_type": "markdown",
      "metadata": {
        "id": "JBkJgayTpAPJ"
      },
      "source": [
        "Formal definition: *each of the tuples that can be formed by taking elements of a set is called a variation. In finite set combinatorics it is often necessary to know the number of variations of a set of m elements taken in tuples of n elements (with or without repeated elements in the tuples). The variations with repetition of sets of m elements taken in n-element tuples is the number of different n-tuples of a set of m elements.*\n",
        "\n",
        "It sounds confusing, however it is simpler if we evaluate it with an example, for our first case we will look for even sequences (of 2 elements). We must remember that in total we have X possible ranges generated by the function **get_candles_body** (remember that this value will change if we use more standard deviations, which is equivalent to say that we take more intervals). Then following the formula we will have the following amount of possible combinations for our intervals:\n",
        "\n",
        "VR(9, 2) = 9^2 = 81.\n",
        "\n",
        "The result of VR(m, n) will be the number of possible two-letter elements that we can form.  These will represent the even intervals of candlesticks such as: {AB, AC, AB, AA, BB, ...}.\n",
        "\n",
        "To generate these pairs or intervals I will use the itertools library, this will save us work and lines of code. Let's write the function."
      ]
    },
    {
      "cell_type": "code",
      "metadata": {
        "colab": {
          "base_uri": "https://localhost:8080/"
        },
        "id": "VrLGaRM4DlpD",
        "outputId": "42501535-d72e-49e6-d8fe-0e641351cad7"
      },
      "source": [
        "from itertools import product\n",
        "\n",
        "def generate_minmax_intervals(letters):\n",
        "  return [item for item in product(letters, repeat=2)]\n",
        "\n",
        "minmax_intervals = generate_minmax_intervals(encripted_bodies.keys())\n",
        "print(minmax_intervals[:15])\n",
        "print(\"total intervals:\", len(minmax_intervals))"
      ],
      "execution_count": 14,
      "outputs": [
        {
          "output_type": "stream",
          "name": "stdout",
          "text": [
            "[('A', 'A'), ('A', 'B'), ('A', 'C'), ('A', 'D'), ('A', 'E'), ('A', 'F'), ('A', 'G'), ('A', 'H'), ('A', 'I'), ('B', 'A'), ('B', 'B'), ('B', 'C'), ('B', 'D'), ('B', 'E'), ('B', 'F')]\n",
            "total intervals: 81\n"
          ]
        }
      ]
    },
    {
      "cell_type": "markdown",
      "metadata": {
        "id": "PyotT5vDJucH"
      },
      "source": [
        "Doing a \"print\" to the result of the function we will be able to evaluate the amount of formed even combinations, this is just what we wanted.\n",
        "\n",
        "Before continuing with the next step I must say that we are already in conditions to understand mathematically the reason of this, I will repeat something that I already mentioned previously;\n",
        "\n",
        "```we need even intervals because they represent the size of the body of each candlestick pattern to be studied regardless of how many candlesticks our future pattern chains have, although we may only be interested in evaluating the number of times a particular candlestick repeats, and by doing this we will get any study to do with patterns.```\n",
        "\n",
        "On the other hand the term \"minimum and maximum\" refers to the allowed \"error\", i.e. the minimum where our candlestick starts and its maximum bounded. If we say as an example that a candle is of the form (20, 80), this translates as follows: its body can be formed by a distance that varies between: 20 <= X <= 80 units, with this we infer that any continuous value between that range is allowed, as an example if a price delta has a value of 70 this would be accepted because it is within that interval, however 10 or 90 not, so it would be rejected... this seems very obvious but I wanted to emphasize it for the last time. This reasoning also applies to negative intervals which will represent bearish candlesticks."
      ]
    },
    {
      "cell_type": "markdown",
      "metadata": {
        "id": "IrNiRghoLtay"
      },
      "source": [
        "**Interval filtering**\n",
        "\n",
        "Before generating the sequences or chains that finally will serve us to study its frequency in the market, we must reason the following; not all the intervals are valid, although with our formula we could calculate the total of possible intervals, in this context it is not true to say that all will be useful to us. For example where the minimum of a candle starts can never be a maximum, therefore if A < B a candle interval allowed would be (A,B), but it could never be (B, A) because this is meaningless...\n",
        "\n",
        "The criteria used will be as follows:\n",
        "  * If the value is positive and MIN < MAX then the interval is accepted, otherwise it will be rejected and discarded. For the negative case the logic is the inverse.\n",
        "  * If the value is negative and MAX > MIN then the value is accepted, otherwise rejected. Recall that the closed interval notation is [MIN, MAX]. In addition the function will take an additional parameter that we must not forget, the dictionary that stored the information of the coding that we did in the initial steps, it contains the continuous value that represents each letter."
      ]
    },
    {
      "cell_type": "code",
      "metadata": {
        "colab": {
          "base_uri": "https://localhost:8080/"
        },
        "id": "LrejUWVhs3w-",
        "outputId": "63ddd93e-c084-4c2d-a41b-0e1bee2b0404"
      },
      "source": [
        "def filter(encripted_bodies, intervals):\n",
        "  intervals_ = []\n",
        "  for i in intervals:\n",
        "    min_ = encripted_bodies[i[0]]\n",
        "    max_ = encripted_bodies[i[1]]\n",
        "    if min_ >= 0:\n",
        "      if min_ >= max_:\n",
        "        continue\n",
        "    else:\n",
        "      if max_ <= min_:\n",
        "        continue\n",
        "    \n",
        "    intervals_.append(i)\n",
        "  return intervals_\n",
        "\n",
        "total_intervals = len(minmax_intervals)\n",
        "minmax_intervals = filter(encripted_bodies, minmax_intervals)\n",
        "print(minmax_intervals)\n",
        "print(\"total intervals:\", len(minmax_intervals))"
      ],
      "execution_count": 15,
      "outputs": [
        {
          "output_type": "stream",
          "name": "stdout",
          "text": [
            "[('A', 'B'), ('A', 'C'), ('A', 'D'), ('A', 'E'), ('A', 'F'), ('A', 'G'), ('A', 'H'), ('A', 'I'), ('B', 'C'), ('B', 'D'), ('B', 'E'), ('B', 'F'), ('B', 'G'), ('B', 'H'), ('B', 'I'), ('C', 'D'), ('C', 'E'), ('C', 'F'), ('C', 'G'), ('C', 'H'), ('C', 'I'), ('D', 'E'), ('D', 'F'), ('D', 'G'), ('D', 'H'), ('D', 'I'), ('E', 'F'), ('E', 'G'), ('E', 'H'), ('E', 'I'), ('F', 'G'), ('F', 'H'), ('F', 'I'), ('G', 'H'), ('G', 'I'), ('H', 'I')]\n",
            "total intervals: 36\n"
          ]
        }
      ]
    },
    {
      "cell_type": "markdown",
      "metadata": {
        "id": "24XpoT0fxjk5"
      },
      "source": [
        "As we see our function included the equal in the Min and Max conditionals, this is because we also want to filter the values of repeated intervals, for example; (A,A), (B,B), etc.... If the interval were exactly the same on both sides this will be the same as looking for our candle body to have the same value, for example if A = 50 and we have (A,A) then the equivalent is (50, 50) so the candle value to look in the market should be exactly equal to that value (this is equivalent to say that there are no intervals, because being equal minimum and maximum the error allowed by logic will be 0). In a continuous scale this is practically impossible, as well demonstrated by the laws of probability...\n",
        "\n",
        "Let's see how many intervals we manage to reduce with our filter function"
      ]
    },
    {
      "cell_type": "code",
      "metadata": {
        "colab": {
          "base_uri": "https://localhost:8080/"
        },
        "id": "6bXyBmx3-dXR",
        "outputId": "6f21458c-0267-4801-fd19-ce0e4b3d47df"
      },
      "source": [
        "print(\"filtered intervals:\", np.abs(len(minmax_intervals)-total_intervals))"
      ],
      "execution_count": 16,
      "outputs": [
        {
          "output_type": "stream",
          "name": "stdout",
          "text": [
            "filtered intervals: 45\n"
          ]
        }
      ]
    },
    {
      "cell_type": "markdown",
      "metadata": {
        "id": "Zjo5oZ6nziD0"
      },
      "source": [
        "**Chain coding**.\n",
        "\n",
        "For the moment we only generate the intervals that represent the allowed limits of the body of our candle, now we only have to form the patterns (i.e. the chains of candles) determined by the length that we choose. This is the most complex part in computational terms and although we already noticed this, it is time to repeat once again the formula studied in combinatorics.\n",
        "Let's see the formula of how many possible candlestick chains we can form given a number of total intervals:"
      ]
    },
    {
      "cell_type": "markdown",
      "metadata": {
        "id": "HLVrad-CGBH1"
      },
      "source": [
        "![variaciones_con_repeticion_x2.png](data:image/png;base64,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)"
      ]
    },
    {
      "cell_type": "markdown",
      "metadata": {
        "id": "lQIIy1FxCeRX"
      },
      "source": [
        "Let's see what each thing means:\n",
        "  * VR(m, n) : Total intervals created, for example {AA, BA, BB, AC, CC, ...}, we saw this formula in a previous analysis.\n",
        "  * VR(t, k): Total possible chains given the total number of available intervals.\n",
        "\n",
        "This becomes fast and excessively expensive even if our combination of generated intervals is small, luckily the **filter** function helped us in this respect by optimizing only the most relevant values. If we did not use this function the actual value of strings would be titanic. Let's see a brief example:"
      ]
    },
    {
      "cell_type": "code",
      "metadata": {
        "colab": {
          "base_uri": "https://localhost:8080/"
        },
        "id": "qtXEVkH1HybH",
        "outputId": "e0b21e7e-1fc4-49d6-dd94-5d556c9cf958"
      },
      "source": [
        "def calculate_total_chains(chains_len, total_ranges):\n",
        "  total_intervals = total_ranges**2\n",
        "  return total_intervals**chains_len\n",
        "\n",
        "calculate_total_chains(3, 9)"
      ],
      "execution_count": 17,
      "outputs": [
        {
          "output_type": "execute_result",
          "data": {
            "text/plain": [
              "531441"
            ]
          },
          "metadata": {},
          "execution_count": 17
        }
      ]
    },
    {
      "cell_type": "markdown",
      "metadata": {
        "id": "tasVsHhtLs22"
      },
      "source": [
        "If we assume that we generate 9 price ranges this would give us a total of 81 possible intervals (remember that the exponent is 2 because the intervals are even), with this we can form the chains or sequences of market patterns to study, let's make the following calculations.\n",
        "\n",
        "The number of candlestick patterns that we can form by increasing the length of the candlestick sequences or chains are:\n",
        "  * If X_chains=2 : 81^2 = 6561\n",
        "  * If X_chains=3 : 81^3 = 531441\n",
        "  * If X_chains=4 : 81^4 = 43046721\n",
        "  * If X_chainsc=5 : 81^5 = 3486784401\n",
        "\n",
        "That is, if we only have 81 price intervals (min, max) and we want to analyze a sequence or chain of 3 candlestick patterns, for example: {(AA, AB, BC), (AB, AA, CC), Etc...} we would end up with a total of 531441 possible combinations!!!, extremely expensive!!!(not to mention for chains of length 4 and 5...).\n",
        "\n",
        "That is, if we had not optimized the number of intervals using the **filter** function, the total number of intervals would be (I^2)^N_Chains, which would reduce the complexity of our problem."
      ]
    },
    {
      "cell_type": "markdown",
      "metadata": {
        "id": "eU0Qe3XjI4Sk"
      },
      "source": [
        "**String generator function**\n",
        "\n",
        "Finally we are able to generate our strings for further market analysis, for the simplest example I will use strings of 3 patterns in length. Let's write the function."
      ]
    },
    {
      "cell_type": "code",
      "metadata": {
        "colab": {
          "base_uri": "https://localhost:8080/"
        },
        "id": "GHH9NPNotSEy",
        "outputId": "0dc40676-3e0d-4a9f-fb2c-59ded4880d97"
      },
      "source": [
        "def generate_chains(intervals, chain_len):\n",
        "  intervals_ = []\n",
        "  chains = []\n",
        "  for p in intervals:\n",
        "    intervals_.append(str(p[0]+p[1]))\n",
        "\n",
        "  for c in product(intervals_, repeat = chain_len):\n",
        "    chains.append(c)\n",
        "  return chains\n",
        "\n",
        "chains = generate_chains(minmax_intervals, 3)\n",
        "print(chains[:15])\n",
        "print(\"total chains:\", len(chains))"
      ],
      "execution_count": 18,
      "outputs": [
        {
          "output_type": "stream",
          "name": "stdout",
          "text": [
            "[('AB', 'AB', 'AB'), ('AB', 'AB', 'AC'), ('AB', 'AB', 'AD'), ('AB', 'AB', 'AE'), ('AB', 'AB', 'AF'), ('AB', 'AB', 'AG'), ('AB', 'AB', 'AH'), ('AB', 'AB', 'AI'), ('AB', 'AB', 'BC'), ('AB', 'AB', 'BD'), ('AB', 'AB', 'BE'), ('AB', 'AB', 'BF'), ('AB', 'AB', 'BG'), ('AB', 'AB', 'BH'), ('AB', 'AB', 'BI')]\n",
            "total chains: 46656\n"
          ]
        }
      ]
    },
    {
      "cell_type": "markdown",
      "metadata": {
        "id": "O82MznhDwnR5"
      },
      "source": [
        "We will continue this study in the **Chain Generator Class** section where we will formalize the concepts learned in a class, and add what is necessary to continue with our market analysis."
      ]
    },
    {
      "cell_type": "markdown",
      "metadata": {
        "id": "BYO-e7bbabQH"
      },
      "source": [
        "# Normal distribution: Calculation of price ranges"
      ]
    },
    {
      "cell_type": "markdown",
      "metadata": {
        "id": "chrO6VW1ae7K"
      },
      "source": [
        "This section is not necessary to complete our study it is interesting the notion of ranges and intervals taken by our function. Let's remember that after all, this will be used to combine and form candlestick intervals, which will finally form the market patterns we are looking for.\n",
        "\n",
        "In the previous section we saw the **get_candles_body_range** function, which was incomplete. Now we will use the python scipy module to calculate the z-score independently and generalize our formula for any interval we take."
      ]
    },
    {
      "cell_type": "code",
      "metadata": {
        "colab": {
          "base_uri": "https://localhost:8080/"
        },
        "id": "jZ8XlERiblQ1",
        "outputId": "58009b8e-3017-4485-ca25-bd503da45ee7"
      },
      "source": [
        "import scipy.stats as st\n",
        "\n",
        "def get_candles_body_range_2(mean, std_dev, interval_percent=0.2, total_devs=2):\n",
        "  # standarization\n",
        "  # z = (x - mean)/ std_dev\n",
        "  z_score = st.norm.ppf(0.5 + interval_percent/2)\n",
        "  x = z_score*std_dev + mean\n",
        "  # el punto de origen es la media\n",
        "  i = x\n",
        "  intervals_ = []\n",
        "  while i < std_dev*total_devs:\n",
        "    intervals_.append(i)\n",
        "    i+= x\n",
        " \n",
        "  neg_intervals = []\n",
        "  n_intervals = len(intervals_)\n",
        "  for i in range(n_intervals - 1, 0, -1):\n",
        "    neg_intervals.append(-intervals_[i])\n",
        " \n",
        "  return neg_intervals + intervals_\n",
        " \n",
        "bodies = get_candles_body_range(df_candles[\"Delta\"].mean(), df_candles[\"Delta\"].std(), 0.2)\n",
        "total_ranges = len(bodies)\n",
        "print(bodies)\n",
        "print(\"total ranges:\",total_ranges)"
      ],
      "execution_count": 19,
      "outputs": [
        {
          "output_type": "stream",
          "name": "stdout",
          "text": [
            "[-0.10324626189983444]\n",
            "total ranges: 1\n"
          ]
        }
      ]
    },
    {
      "cell_type": "markdown",
      "metadata": {
        "id": "MapHlJh0d8u7"
      },
      "source": [
        "If we look at the formula we will also observe the following:"
      ]
    },
    {
      "cell_type": "markdown",
      "metadata": {
        "id": "md5jzx1xeQEi"
      },
      "source": [
        "**st.norm.ppf(0.5 + *interval_percent/2*)**"
      ]
    },
    {
      "cell_type": "markdown",
      "metadata": {
        "id": "xpjkG3TCeTcw"
      },
      "source": [
        "Where:\n",
        "  * interval_percent/2: is our chosen interval percentage, and on which the interval expansion will base its increment, it is divided by 2 because the distribution starts at 0(left tail end) and ends at 1(right tail end) so if we choose an interval of 0.5 we will have reached the end of the distribution and the calculations would be overrun.\n",
        "  * **0.5** represents the z-score of the mean value of the normal distribution (remember that it is defined as N(0, 1)), so we start from there (adding our interval) because z for this value is 0 which makes sense with the value of the mean for the standardized distribution when we isolate the formula...\n",
        "  \n",
        "let's do a simple test. To continue with the previous example the intervals will be 20%..."
      ]
    },
    {
      "cell_type": "code",
      "metadata": {
        "colab": {
          "base_uri": "https://localhost:8080/"
        },
        "id": "QFGh5SZjct3G",
        "outputId": "696ce4e6-bb0e-437b-d70a-50abc3a69709"
      },
      "source": [
        "i = 0.2\n",
        "x = 0\n",
        "run = True\n",
        "while run:\n",
        "  if (0.5 + x) >= 1.0:\n",
        "    # nos acercamos al 1.0.\n",
        "    x= 0.49\n",
        "    run = False\n",
        "  print(\"z-score:{} interval-percent:{}\".format(st.norm.ppf(0.5 + x), 0.5+x))\n",
        "  x+= i"
      ],
      "execution_count": 20,
      "outputs": [
        {
          "output_type": "stream",
          "name": "stdout",
          "text": [
            "z-score:0.0 interval-percent:0.5\n",
            "z-score:0.5244005127080407 interval-percent:0.7\n",
            "z-score:1.2815515655446004 interval-percent:0.9\n",
            "z-score:2.3263478740408408 interval-percent:0.99\n"
          ]
        }
      ]
    },
    {
      "cell_type": "markdown",
      "metadata": {
        "id": "Gav3Ue0kjB0p"
      },
      "source": [
        "As we can see the increments were from 0.5 to 1.0 (actually we used an approximate value, otherwise the result would have been +Inf), these represent the z-scores for intervals of 20%, 40%, 60%, etc...\n",
        "\n",
        "The logic for negative values is similar, let's see it."
      ]
    },
    {
      "cell_type": "code",
      "metadata": {
        "colab": {
          "base_uri": "https://localhost:8080/"
        },
        "id": "JzAkBpXLhr8d",
        "outputId": "c1e91196-c4c1-4007-d75a-5408a6d10e56"
      },
      "source": [
        "i = 0.2\n",
        "x = 0.0\n",
        "run = True\n",
        "while run:\n",
        "  if (0.5 + x) <= 0.0:\n",
        "    # nos acercamos al 0.0.\n",
        "    x= -0.49\n",
        "    run = False\n",
        "  print(\"z-score:{} interval-percent:{}\".format(st.norm.ppf(0.5 + x), 0.5 + x))\n",
        "  x-= i"
      ],
      "execution_count": 21,
      "outputs": [
        {
          "output_type": "stream",
          "name": "stdout",
          "text": [
            "z-score:0.0 interval-percent:0.5\n",
            "z-score:-0.5244005127080409 interval-percent:0.3\n",
            "z-score:-1.2815515655446004 interval-percent:0.09999999999999998\n",
            "z-score:-2.3263478740408408 interval-percent:0.010000000000000009\n"
          ]
        }
      ]
    },
    {
      "cell_type": "markdown",
      "metadata": {
        "id": "VJ0OwGT4jX8H"
      },
      "source": [
        "Exactly the same... only the interval decreased from -20% to -20% and the z-score now has a negative sign."
      ]
    },
    {
      "cell_type": "markdown",
      "metadata": {
        "id": "PWrWF7D3te9I"
      },
      "source": [
        "# Chain Generator Class"
      ]
    },
    {
      "cell_type": "markdown",
      "metadata": {
        "id": "5GDMMwmuVdMu"
      },
      "source": [
        "In the section on *Encoding patterns...* we studied and reasoned all the elements to incorporate if we want to generate sequences or chains of candlesticks in any type of market and regardless of its conditions or time frame. We saw the meaning of ranges, intervals and using coding and optimization we finally concluded a robust combinatorial analysis. However this is not all, to complete our study we must be able to decode these sequences and use them so that we can calculate the frequency of these patterns in the market.\n",
        "\n",
        "In the following, we will recapitulate what we have seen in a class that does all of this and will also have a decoding and predictive function."
      ]
    },
    {
      "cell_type": "code",
      "metadata": {
        "id": "M6S1zGNEXEIr"
      },
      "source": [
        "import scipy.stats as st\n",
        "from itertools import product\n",
        "\n",
        "class PatternsChainsGenerator:\n",
        "  def __init__(self, df, body_interval=0.4, n_std=2):\n",
        "    self.__x = None\n",
        "    self.__body_ranges = self.__generate_candles_body_range(df, body_interval, n_std)\n",
        "    self.__body_ranges_dict = None\n",
        "    self.__body_intervals_n = None\n",
        "    self.__chains_n = None\n",
        "    self.__body_intervals = None\n",
        "    self.__body_intervals_optimized = None\n",
        "    self.__chains = None\n",
        "\n",
        "  def __generate_candles_body_range(self, df, interval_percent, n_std):\n",
        "    # standarization\n",
        "    # z = (x - mean)/ std_dev\n",
        "    def standarization(z_score, mean, std_dev):\n",
        "      return z_score*std_dev + mean\n",
        "\n",
        "    mean      = df.mean()\n",
        "    std_dev   = df.std()\n",
        "    z_score   = st.norm.ppf(0.5 + interval_percent/2)\n",
        "    self.__x  = standarization(z_score, mean, std_dev)\n",
        "    pos_intervals_x = []\n",
        "    x = 0\n",
        "    while x < std_dev*n_std:\n",
        "      pos_intervals_x.append( x )\n",
        "      x+= self.__x\n",
        "    \n",
        "    neg_intervals_x = []\n",
        "    n_intervals = len(pos_intervals_x)\n",
        "    for i in range(n_intervals - 1, 0, -1):\n",
        "      neg_intervals_x.append(-pos_intervals_x[i])\n",
        "    \n",
        "    return neg_intervals_x + pos_intervals_x\n",
        "\n",
        "  def get_interval_increment(self):\n",
        "    return self.__x\n",
        "\n",
        "  def __encrypt_body_ranges(self):\n",
        "    letters = ['A','B','C','D','E','F','G','H','I','J','K','L','M','N','O','P','Q','R','S','T','U','V','W','X','Y','Z']\n",
        "\n",
        "    n_letters = len(letters)\n",
        "    n_bodies= len(self.__body_ranges)\n",
        "    i = idx= 0\n",
        "    level = 1\n",
        "    code = {}\n",
        "    while idx < n_bodies:\n",
        "      if i >= n_letters:\n",
        "        i = 0\n",
        "        level+= 1\n",
        "      c = ''\n",
        "      for _ in range(level):\n",
        "        c+= letters[i]\n",
        "      code[c] = self.__body_ranges[idx]\n",
        "      i+= 1\n",
        "      idx+= 1\n",
        "\n",
        "    return code\n",
        "\n",
        "  def __generate_minmax_intervals(self, letters):\n",
        "    return [item for item in product(letters, repeat=2)]\n",
        "\n",
        "  def __filter(self, encripted_bodies_dict, intervals):\n",
        "    intervals_ = []\n",
        "    for i in intervals:\n",
        "      # desencriptamos\n",
        "      min_ = encripted_bodies_dict[i[0]]\n",
        "      max_ = encripted_bodies_dict[i[1]]\n",
        "      if min_ >= 0:\n",
        "        if min_ >= max_:\n",
        "          continue\n",
        "      else:\n",
        "        if max_ <= min_:\n",
        "          continue\n",
        "      \n",
        "      intervals_.append(i)\n",
        "    return intervals_\n",
        "\n",
        "  def __join_intervals(self, body_intervals):\n",
        "    body_intervals_ = []\n",
        "    for i in body_intervals:\n",
        "      body_intervals_.append(str(i[0]+i[1]))\n",
        "    return body_intervals_\n",
        "\n",
        "  def __generate_chains(self, body_intervals_cod, chain_len):\n",
        "    chains = []\n",
        "    for c in product(body_intervals_cod, repeat = chain_len):\n",
        "      chains.append(c)\n",
        "    return chains\n",
        "\n",
        "  def __decrypt(self, body_ranges_dict, chains, chain_len):\n",
        "    decrypted_chain = []\n",
        "    for c in chains:\n",
        "      chain = []\n",
        "      for l in range(chain_len):\n",
        "        interval = c[l]\n",
        "        chain.append((body_ranges_dict[interval[0]],body_ranges_dict[interval[1]]))\n",
        "      decrypted_chain.append(chain)\n",
        "    return decrypted_chain\n",
        "\n",
        "  def predict(self, chain_len):\n",
        "    self.__body_ranges_dict = self.__encrypt_body_ranges()\n",
        "    minmax_intervals = self.__generate_minmax_intervals(self.__body_ranges_dict)\n",
        "    self.__body_intervals = self.__filter(self.__body_ranges_dict, minmax_intervals)\n",
        "    self.__body_intervals_n = len(self.__body_intervals)\n",
        "    self.__body_intervals_optimized = np.abs(self.__body_intervals_n - len(minmax_intervals))\n",
        "\n",
        "    body_intervals_joined = self.__join_intervals(self.__body_intervals)\n",
        "\n",
        "    self.__chains = self.__generate_chains(body_intervals_joined, chain_len)\n",
        "    self.__chains_n = len(self.__chains)\n",
        "    return self.__decrypt(self.__body_ranges_dict, self.__chains, chain_len)\n",
        "\n",
        "  def info(self):\n",
        "    return pd.DataFrame(data={'total-intervals':[self.__body_intervals_n], 'total-chains':[self.__chains_n], 'total-intervals-optimized':[self.__body_intervals_optimized]}, index=['info']).transpose()\n",
        "  def get_intervals(self):\n",
        "    return pd.DataFrame(data={'Min':[min_[0] for min_ in self.__body_intervals], 'Max':[max_[1] for max_ in self.__body_intervals]})\n",
        "  def get_chains(self):\n",
        "    return self.__chains\n",
        "  def get_ranges_dict(self):\n",
        "    return self.__body_ranges_dict"
      ],
      "execution_count": 22,
      "outputs": []
    },
    {
      "cell_type": "markdown",
      "metadata": {
        "id": "qs673GznUeJ0"
      },
      "source": [
        "As an additional step we will store the value of X, which is the increment value of the interval(s). This value is very important and in the next section I will explain why and how we will use it. For the moment let's continue."
      ]
    },
    {
      "cell_type": "code",
      "metadata": {
        "id": "9ArkNC4bNd66"
      },
      "source": [
        "p_candles = PatternsChainsGenerator(df_candles[\"Delta\"])\n",
        "p_chains = p_candles.predict(chain_len=3)"
      ],
      "execution_count": 23,
      "outputs": []
    },
    {
      "cell_type": "markdown",
      "metadata": {
        "id": "lqLq4wls17HP"
      },
      "source": [
        "Let's look at all the possible delta price ranges"
      ]
    },
    {
      "cell_type": "code",
      "metadata": {
        "colab": {
          "base_uri": "https://localhost:8080/"
        },
        "id": "N3-XIad61v93",
        "outputId": "48894a35-d510-4fec-ce71-da9b7d8de709"
      },
      "source": [
        "p_chains[:15]"
      ],
      "execution_count": 96,
      "outputs": [
        {
          "output_type": "execute_result",
          "data": {
            "text/plain": [
              "[[(-72.37925720290649, -48.25283813527099),\n",
              "  (-72.37925720290649, -48.25283813527099),\n",
              "  (-72.37925720290649, -48.25283813527099)],\n",
              " [(-72.37925720290649, -48.25283813527099),\n",
              "  (-72.37925720290649, -48.25283813527099),\n",
              "  (-72.37925720290649, -24.126419067635496)],\n",
              " [(-72.37925720290649, -48.25283813527099),\n",
              "  (-72.37925720290649, -48.25283813527099),\n",
              "  (-72.37925720290649, 0)],\n",
              " [(-72.37925720290649, -48.25283813527099),\n",
              "  (-72.37925720290649, -48.25283813527099),\n",
              "  (-72.37925720290649, 24.126419067635496)],\n",
              " [(-72.37925720290649, -48.25283813527099),\n",
              "  (-72.37925720290649, -48.25283813527099),\n",
              "  (-72.37925720290649, 48.25283813527099)],\n",
              " [(-72.37925720290649, -48.25283813527099),\n",
              "  (-72.37925720290649, -48.25283813527099),\n",
              "  (-72.37925720290649, 72.37925720290649)],\n",
              " [(-72.37925720290649, -48.25283813527099),\n",
              "  (-72.37925720290649, -48.25283813527099),\n",
              "  (-48.25283813527099, -24.126419067635496)],\n",
              " [(-72.37925720290649, -48.25283813527099),\n",
              "  (-72.37925720290649, -48.25283813527099),\n",
              "  (-48.25283813527099, 0)],\n",
              " [(-72.37925720290649, -48.25283813527099),\n",
              "  (-72.37925720290649, -48.25283813527099),\n",
              "  (-48.25283813527099, 24.126419067635496)],\n",
              " [(-72.37925720290649, -48.25283813527099),\n",
              "  (-72.37925720290649, -48.25283813527099),\n",
              "  (-48.25283813527099, 48.25283813527099)],\n",
              " [(-72.37925720290649, -48.25283813527099),\n",
              "  (-72.37925720290649, -48.25283813527099),\n",
              "  (-48.25283813527099, 72.37925720290649)],\n",
              " [(-72.37925720290649, -48.25283813527099),\n",
              "  (-72.37925720290649, -48.25283813527099),\n",
              "  (-24.126419067635496, 0)],\n",
              " [(-72.37925720290649, -48.25283813527099),\n",
              "  (-72.37925720290649, -48.25283813527099),\n",
              "  (-24.126419067635496, 24.126419067635496)],\n",
              " [(-72.37925720290649, -48.25283813527099),\n",
              "  (-72.37925720290649, -48.25283813527099),\n",
              "  (-24.126419067635496, 48.25283813527099)],\n",
              " [(-72.37925720290649, -48.25283813527099),\n",
              "  (-72.37925720290649, -48.25283813527099),\n",
              "  (-24.126419067635496, 72.37925720290649)]]"
            ]
          },
          "metadata": {},
          "execution_count": 96
        }
      ]
    },
    {
      "cell_type": "markdown",
      "metadata": {
        "id": "MrO8uFpN9eGN"
      },
      "source": [
        "Let's see all the possible coded intervals (the intervals representing the Minimum-Maximum of each candlestick pattern)"
      ]
    },
    {
      "cell_type": "code",
      "metadata": {
        "colab": {
          "base_uri": "https://localhost:8080/",
          "height": 708
        },
        "id": "zNzytW4i9gQE",
        "outputId": "a4708799-8285-491b-9e74-c21157352018"
      },
      "source": [
        "p_candles.get_intervals()"
      ],
      "execution_count": 25,
      "outputs": [
        {
          "output_type": "execute_result",
          "data": {
            "text/html": [
              "\n",
              "  <div id=\"df-0e08e953-fb45-4e12-bdcc-3b54adcc88e8\">\n",
              "    <div class=\"colab-df-container\">\n",
              "      <div>\n",
              "<style scoped>\n",
              "    .dataframe tbody tr th:only-of-type {\n",
              "        vertical-align: middle;\n",
              "    }\n",
              "\n",
              "    .dataframe tbody tr th {\n",
              "        vertical-align: top;\n",
              "    }\n",
              "\n",
              "    .dataframe thead th {\n",
              "        text-align: right;\n",
              "    }\n",
              "</style>\n",
              "<table border=\"1\" class=\"dataframe\">\n",
              "  <thead>\n",
              "    <tr style=\"text-align: right;\">\n",
              "      <th></th>\n",
              "      <th>Min</th>\n",
              "      <th>Max</th>\n",
              "    </tr>\n",
              "  </thead>\n",
              "  <tbody>\n",
              "    <tr>\n",
              "      <th>0</th>\n",
              "      <td>A</td>\n",
              "      <td>B</td>\n",
              "    </tr>\n",
              "    <tr>\n",
              "      <th>1</th>\n",
              "      <td>A</td>\n",
              "      <td>C</td>\n",
              "    </tr>\n",
              "    <tr>\n",
              "      <th>2</th>\n",
              "      <td>A</td>\n",
              "      <td>D</td>\n",
              "    </tr>\n",
              "    <tr>\n",
              "      <th>3</th>\n",
              "      <td>A</td>\n",
              "      <td>E</td>\n",
              "    </tr>\n",
              "    <tr>\n",
              "      <th>4</th>\n",
              "      <td>A</td>\n",
              "      <td>F</td>\n",
              "    </tr>\n",
              "    <tr>\n",
              "      <th>5</th>\n",
              "      <td>A</td>\n",
              "      <td>G</td>\n",
              "    </tr>\n",
              "    <tr>\n",
              "      <th>6</th>\n",
              "      <td>B</td>\n",
              "      <td>C</td>\n",
              "    </tr>\n",
              "    <tr>\n",
              "      <th>7</th>\n",
              "      <td>B</td>\n",
              "      <td>D</td>\n",
              "    </tr>\n",
              "    <tr>\n",
              "      <th>8</th>\n",
              "      <td>B</td>\n",
              "      <td>E</td>\n",
              "    </tr>\n",
              "    <tr>\n",
              "      <th>9</th>\n",
              "      <td>B</td>\n",
              "      <td>F</td>\n",
              "    </tr>\n",
              "    <tr>\n",
              "      <th>10</th>\n",
              "      <td>B</td>\n",
              "      <td>G</td>\n",
              "    </tr>\n",
              "    <tr>\n",
              "      <th>11</th>\n",
              "      <td>C</td>\n",
              "      <td>D</td>\n",
              "    </tr>\n",
              "    <tr>\n",
              "      <th>12</th>\n",
              "      <td>C</td>\n",
              "      <td>E</td>\n",
              "    </tr>\n",
              "    <tr>\n",
              "      <th>13</th>\n",
              "      <td>C</td>\n",
              "      <td>F</td>\n",
              "    </tr>\n",
              "    <tr>\n",
              "      <th>14</th>\n",
              "      <td>C</td>\n",
              "      <td>G</td>\n",
              "    </tr>\n",
              "    <tr>\n",
              "      <th>15</th>\n",
              "      <td>D</td>\n",
              "      <td>E</td>\n",
              "    </tr>\n",
              "    <tr>\n",
              "      <th>16</th>\n",
              "      <td>D</td>\n",
              "      <td>F</td>\n",
              "    </tr>\n",
              "    <tr>\n",
              "      <th>17</th>\n",
              "      <td>D</td>\n",
              "      <td>G</td>\n",
              "    </tr>\n",
              "    <tr>\n",
              "      <th>18</th>\n",
              "      <td>E</td>\n",
              "      <td>F</td>\n",
              "    </tr>\n",
              "    <tr>\n",
              "      <th>19</th>\n",
              "      <td>E</td>\n",
              "      <td>G</td>\n",
              "    </tr>\n",
              "    <tr>\n",
              "      <th>20</th>\n",
              "      <td>F</td>\n",
              "      <td>G</td>\n",
              "    </tr>\n",
              "  </tbody>\n",
              "</table>\n",
              "</div>\n",
              "      <button class=\"colab-df-convert\" onclick=\"convertToInteractive('df-0e08e953-fb45-4e12-bdcc-3b54adcc88e8')\"\n",
              "              title=\"Convert this dataframe to an interactive table.\"\n",
              "              style=\"display:none;\">\n",
              "        \n",
              "  <svg xmlns=\"http://www.w3.org/2000/svg\" height=\"24px\"viewBox=\"0 0 24 24\"\n",
              "       width=\"24px\">\n",
              "    <path d=\"M0 0h24v24H0V0z\" fill=\"none\"/>\n",
              "    <path d=\"M18.56 5.44l.94 2.06.94-2.06 2.06-.94-2.06-.94-.94-2.06-.94 2.06-2.06.94zm-11 1L8.5 8.5l.94-2.06 2.06-.94-2.06-.94L8.5 2.5l-.94 2.06-2.06.94zm10 10l.94 2.06.94-2.06 2.06-.94-2.06-.94-.94-2.06-.94 2.06-2.06.94z\"/><path d=\"M17.41 7.96l-1.37-1.37c-.4-.4-.92-.59-1.43-.59-.52 0-1.04.2-1.43.59L10.3 9.45l-7.72 7.72c-.78.78-.78 2.05 0 2.83L4 21.41c.39.39.9.59 1.41.59.51 0 1.02-.2 1.41-.59l7.78-7.78 2.81-2.81c.8-.78.8-2.07 0-2.86zM5.41 20L4 18.59l7.72-7.72 1.47 1.35L5.41 20z\"/>\n",
              "  </svg>\n",
              "      </button>\n",
              "      \n",
              "  <style>\n",
              "    .colab-df-container {\n",
              "      display:flex;\n",
              "      flex-wrap:wrap;\n",
              "      gap: 12px;\n",
              "    }\n",
              "\n",
              "    .colab-df-convert {\n",
              "      background-color: #E8F0FE;\n",
              "      border: none;\n",
              "      border-radius: 50%;\n",
              "      cursor: pointer;\n",
              "      display: none;\n",
              "      fill: #1967D2;\n",
              "      height: 32px;\n",
              "      padding: 0 0 0 0;\n",
              "      width: 32px;\n",
              "    }\n",
              "\n",
              "    .colab-df-convert:hover {\n",
              "      background-color: #E2EBFA;\n",
              "      box-shadow: 0px 1px 2px rgba(60, 64, 67, 0.3), 0px 1px 3px 1px rgba(60, 64, 67, 0.15);\n",
              "      fill: #174EA6;\n",
              "    }\n",
              "\n",
              "    [theme=dark] .colab-df-convert {\n",
              "      background-color: #3B4455;\n",
              "      fill: #D2E3FC;\n",
              "    }\n",
              "\n",
              "    [theme=dark] .colab-df-convert:hover {\n",
              "      background-color: #434B5C;\n",
              "      box-shadow: 0px 1px 3px 1px rgba(0, 0, 0, 0.15);\n",
              "      filter: drop-shadow(0px 1px 2px rgba(0, 0, 0, 0.3));\n",
              "      fill: #FFFFFF;\n",
              "    }\n",
              "  </style>\n",
              "\n",
              "      <script>\n",
              "        const buttonEl =\n",
              "          document.querySelector('#df-0e08e953-fb45-4e12-bdcc-3b54adcc88e8 button.colab-df-convert');\n",
              "        buttonEl.style.display =\n",
              "          google.colab.kernel.accessAllowed ? 'block' : 'none';\n",
              "\n",
              "        async function convertToInteractive(key) {\n",
              "          const element = document.querySelector('#df-0e08e953-fb45-4e12-bdcc-3b54adcc88e8');\n",
              "          const dataTable =\n",
              "            await google.colab.kernel.invokeFunction('convertToInteractive',\n",
              "                                                     [key], {});\n",
              "          if (!dataTable) return;\n",
              "\n",
              "          const docLinkHtml = 'Like what you see? Visit the ' +\n",
              "            '<a target=\"_blank\" href=https://colab.research.google.com/notebooks/data_table.ipynb>data table notebook</a>'\n",
              "            + ' to learn more about interactive tables.';\n",
              "          element.innerHTML = '';\n",
              "          dataTable['output_type'] = 'display_data';\n",
              "          await google.colab.output.renderOutput(dataTable, element);\n",
              "          const docLink = document.createElement('div');\n",
              "          docLink.innerHTML = docLinkHtml;\n",
              "          element.appendChild(docLink);\n",
              "        }\n",
              "      </script>\n",
              "    </div>\n",
              "  </div>\n",
              "  "
            ],
            "text/plain": [
              "   Min Max\n",
              "0    A   B\n",
              "1    A   C\n",
              "2    A   D\n",
              "3    A   E\n",
              "4    A   F\n",
              "5    A   G\n",
              "6    B   C\n",
              "7    B   D\n",
              "8    B   E\n",
              "9    B   F\n",
              "10   B   G\n",
              "11   C   D\n",
              "12   C   E\n",
              "13   C   F\n",
              "14   C   G\n",
              "15   D   E\n",
              "16   D   F\n",
              "17   D   G\n",
              "18   E   F\n",
              "19   E   G\n",
              "20   F   G"
            ]
          },
          "metadata": {},
          "execution_count": 25
        }
      ]
    },
    {
      "cell_type": "markdown",
      "metadata": {
        "id": "5Xdz_eC0_-6q"
      },
      "source": [
        "List of decoded ranges, these are used to form the delta price intervals."
      ]
    },
    {
      "cell_type": "code",
      "metadata": {
        "colab": {
          "base_uri": "https://localhost:8080/"
        },
        "id": "rapYr9AA__N5",
        "outputId": "ee36b4ef-3df3-4be8-9fc5-7c8945cc42f2"
      },
      "source": [
        "p_candles.get_ranges_dict()"
      ],
      "execution_count": 26,
      "outputs": [
        {
          "output_type": "execute_result",
          "data": {
            "text/plain": [
              "{'A': -72.37925720290649,\n",
              " 'B': -48.25283813527099,\n",
              " 'C': -24.126419067635496,\n",
              " 'D': 0,\n",
              " 'E': 24.126419067635496,\n",
              " 'F': 48.25283813527099,\n",
              " 'G': 72.37925720290649}"
            ]
          },
          "metadata": {},
          "execution_count": 26
        }
      ]
    },
    {
      "cell_type": "markdown",
      "metadata": {
        "id": "D25_KFp79Ble"
      },
      "source": [
        "Let's see all the possible strings that can be formed, this is the same information seen in the first step but without decoding"
      ]
    },
    {
      "cell_type": "code",
      "metadata": {
        "colab": {
          "base_uri": "https://localhost:8080/",
          "height": 423
        },
        "id": "hJHPbXGM7pUS",
        "outputId": "00e09991-10dd-45ef-ca69-591843c451e8"
      },
      "source": [
        "pd.DataFrame(data=p_candles.get_chains())"
      ],
      "execution_count": 27,
      "outputs": [
        {
          "output_type": "execute_result",
          "data": {
            "text/html": [
              "\n",
              "  <div id=\"df-5ef1c8f3-1d29-441e-9854-a6536613fefa\">\n",
              "    <div class=\"colab-df-container\">\n",
              "      <div>\n",
              "<style scoped>\n",
              "    .dataframe tbody tr th:only-of-type {\n",
              "        vertical-align: middle;\n",
              "    }\n",
              "\n",
              "    .dataframe tbody tr th {\n",
              "        vertical-align: top;\n",
              "    }\n",
              "\n",
              "    .dataframe thead th {\n",
              "        text-align: right;\n",
              "    }\n",
              "</style>\n",
              "<table border=\"1\" class=\"dataframe\">\n",
              "  <thead>\n",
              "    <tr style=\"text-align: right;\">\n",
              "      <th></th>\n",
              "      <th>0</th>\n",
              "      <th>1</th>\n",
              "      <th>2</th>\n",
              "    </tr>\n",
              "  </thead>\n",
              "  <tbody>\n",
              "    <tr>\n",
              "      <th>0</th>\n",
              "      <td>AB</td>\n",
              "      <td>AB</td>\n",
              "      <td>AB</td>\n",
              "    </tr>\n",
              "    <tr>\n",
              "      <th>1</th>\n",
              "      <td>AB</td>\n",
              "      <td>AB</td>\n",
              "      <td>AC</td>\n",
              "    </tr>\n",
              "    <tr>\n",
              "      <th>2</th>\n",
              "      <td>AB</td>\n",
              "      <td>AB</td>\n",
              "      <td>AD</td>\n",
              "    </tr>\n",
              "    <tr>\n",
              "      <th>3</th>\n",
              "      <td>AB</td>\n",
              "      <td>AB</td>\n",
              "      <td>AE</td>\n",
              "    </tr>\n",
              "    <tr>\n",
              "      <th>4</th>\n",
              "      <td>AB</td>\n",
              "      <td>AB</td>\n",
              "      <td>AF</td>\n",
              "    </tr>\n",
              "    <tr>\n",
              "      <th>...</th>\n",
              "      <td>...</td>\n",
              "      <td>...</td>\n",
              "      <td>...</td>\n",
              "    </tr>\n",
              "    <tr>\n",
              "      <th>9256</th>\n",
              "      <td>FG</td>\n",
              "      <td>FG</td>\n",
              "      <td>DF</td>\n",
              "    </tr>\n",
              "    <tr>\n",
              "      <th>9257</th>\n",
              "      <td>FG</td>\n",
              "      <td>FG</td>\n",
              "      <td>DG</td>\n",
              "    </tr>\n",
              "    <tr>\n",
              "      <th>9258</th>\n",
              "      <td>FG</td>\n",
              "      <td>FG</td>\n",
              "      <td>EF</td>\n",
              "    </tr>\n",
              "    <tr>\n",
              "      <th>9259</th>\n",
              "      <td>FG</td>\n",
              "      <td>FG</td>\n",
              "      <td>EG</td>\n",
              "    </tr>\n",
              "    <tr>\n",
              "      <th>9260</th>\n",
              "      <td>FG</td>\n",
              "      <td>FG</td>\n",
              "      <td>FG</td>\n",
              "    </tr>\n",
              "  </tbody>\n",
              "</table>\n",
              "<p>9261 rows × 3 columns</p>\n",
              "</div>\n",
              "      <button class=\"colab-df-convert\" onclick=\"convertToInteractive('df-5ef1c8f3-1d29-441e-9854-a6536613fefa')\"\n",
              "              title=\"Convert this dataframe to an interactive table.\"\n",
              "              style=\"display:none;\">\n",
              "        \n",
              "  <svg xmlns=\"http://www.w3.org/2000/svg\" height=\"24px\"viewBox=\"0 0 24 24\"\n",
              "       width=\"24px\">\n",
              "    <path d=\"M0 0h24v24H0V0z\" fill=\"none\"/>\n",
              "    <path d=\"M18.56 5.44l.94 2.06.94-2.06 2.06-.94-2.06-.94-.94-2.06-.94 2.06-2.06.94zm-11 1L8.5 8.5l.94-2.06 2.06-.94-2.06-.94L8.5 2.5l-.94 2.06-2.06.94zm10 10l.94 2.06.94-2.06 2.06-.94-2.06-.94-.94-2.06-.94 2.06-2.06.94z\"/><path d=\"M17.41 7.96l-1.37-1.37c-.4-.4-.92-.59-1.43-.59-.52 0-1.04.2-1.43.59L10.3 9.45l-7.72 7.72c-.78.78-.78 2.05 0 2.83L4 21.41c.39.39.9.59 1.41.59.51 0 1.02-.2 1.41-.59l7.78-7.78 2.81-2.81c.8-.78.8-2.07 0-2.86zM5.41 20L4 18.59l7.72-7.72 1.47 1.35L5.41 20z\"/>\n",
              "  </svg>\n",
              "      </button>\n",
              "      \n",
              "  <style>\n",
              "    .colab-df-container {\n",
              "      display:flex;\n",
              "      flex-wrap:wrap;\n",
              "      gap: 12px;\n",
              "    }\n",
              "\n",
              "    .colab-df-convert {\n",
              "      background-color: #E8F0FE;\n",
              "      border: none;\n",
              "      border-radius: 50%;\n",
              "      cursor: pointer;\n",
              "      display: none;\n",
              "      fill: #1967D2;\n",
              "      height: 32px;\n",
              "      padding: 0 0 0 0;\n",
              "      width: 32px;\n",
              "    }\n",
              "\n",
              "    .colab-df-convert:hover {\n",
              "      background-color: #E2EBFA;\n",
              "      box-shadow: 0px 1px 2px rgba(60, 64, 67, 0.3), 0px 1px 3px 1px rgba(60, 64, 67, 0.15);\n",
              "      fill: #174EA6;\n",
              "    }\n",
              "\n",
              "    [theme=dark] .colab-df-convert {\n",
              "      background-color: #3B4455;\n",
              "      fill: #D2E3FC;\n",
              "    }\n",
              "\n",
              "    [theme=dark] .colab-df-convert:hover {\n",
              "      background-color: #434B5C;\n",
              "      box-shadow: 0px 1px 3px 1px rgba(0, 0, 0, 0.15);\n",
              "      filter: drop-shadow(0px 1px 2px rgba(0, 0, 0, 0.3));\n",
              "      fill: #FFFFFF;\n",
              "    }\n",
              "  </style>\n",
              "\n",
              "      <script>\n",
              "        const buttonEl =\n",
              "          document.querySelector('#df-5ef1c8f3-1d29-441e-9854-a6536613fefa button.colab-df-convert');\n",
              "        buttonEl.style.display =\n",
              "          google.colab.kernel.accessAllowed ? 'block' : 'none';\n",
              "\n",
              "        async function convertToInteractive(key) {\n",
              "          const element = document.querySelector('#df-5ef1c8f3-1d29-441e-9854-a6536613fefa');\n",
              "          const dataTable =\n",
              "            await google.colab.kernel.invokeFunction('convertToInteractive',\n",
              "                                                     [key], {});\n",
              "          if (!dataTable) return;\n",
              "\n",
              "          const docLinkHtml = 'Like what you see? Visit the ' +\n",
              "            '<a target=\"_blank\" href=https://colab.research.google.com/notebooks/data_table.ipynb>data table notebook</a>'\n",
              "            + ' to learn more about interactive tables.';\n",
              "          element.innerHTML = '';\n",
              "          dataTable['output_type'] = 'display_data';\n",
              "          await google.colab.output.renderOutput(dataTable, element);\n",
              "          const docLink = document.createElement('div');\n",
              "          docLink.innerHTML = docLinkHtml;\n",
              "          element.appendChild(docLink);\n",
              "        }\n",
              "      </script>\n",
              "    </div>\n",
              "  </div>\n",
              "  "
            ],
            "text/plain": [
              "       0   1   2\n",
              "0     AB  AB  AB\n",
              "1     AB  AB  AC\n",
              "2     AB  AB  AD\n",
              "3     AB  AB  AE\n",
              "4     AB  AB  AF\n",
              "...   ..  ..  ..\n",
              "9256  FG  FG  DF\n",
              "9257  FG  FG  DG\n",
              "9258  FG  FG  EF\n",
              "9259  FG  FG  EG\n",
              "9260  FG  FG  FG\n",
              "\n",
              "[9261 rows x 3 columns]"
            ]
          },
          "metadata": {},
          "execution_count": 27
        }
      ]
    },
    {
      "cell_type": "markdown",
      "metadata": {
        "id": "vCYBGGNKQ8iZ"
      },
      "source": [
        "If we check the basic information we can also observe the amount of total string combinations (applying the filter function and optimizing the equal intervals). Also the total intervals used to create these strings, i.e. those used for the permutations that form them after applying the optimization, and finally we see how much is this optimized quantity."
      ]
    },
    {
      "cell_type": "code",
      "metadata": {
        "colab": {
          "base_uri": "https://localhost:8080/",
          "height": 143
        },
        "id": "1FYjdxuqC6w8",
        "outputId": "74286c30-9e51-448f-d0f2-60f2bc075c16"
      },
      "source": [
        "p_candles.info()"
      ],
      "execution_count": 28,
      "outputs": [
        {
          "output_type": "execute_result",
          "data": {
            "text/html": [
              "\n",
              "  <div id=\"df-6bd0f91b-63b3-4429-a641-e1cd895830f9\">\n",
              "    <div class=\"colab-df-container\">\n",
              "      <div>\n",
              "<style scoped>\n",
              "    .dataframe tbody tr th:only-of-type {\n",
              "        vertical-align: middle;\n",
              "    }\n",
              "\n",
              "    .dataframe tbody tr th {\n",
              "        vertical-align: top;\n",
              "    }\n",
              "\n",
              "    .dataframe thead th {\n",
              "        text-align: right;\n",
              "    }\n",
              "</style>\n",
              "<table border=\"1\" class=\"dataframe\">\n",
              "  <thead>\n",
              "    <tr style=\"text-align: right;\">\n",
              "      <th></th>\n",
              "      <th>info</th>\n",
              "    </tr>\n",
              "  </thead>\n",
              "  <tbody>\n",
              "    <tr>\n",
              "      <th>total-intervals</th>\n",
              "      <td>21</td>\n",
              "    </tr>\n",
              "    <tr>\n",
              "      <th>total-chains</th>\n",
              "      <td>9261</td>\n",
              "    </tr>\n",
              "    <tr>\n",
              "      <th>total-intervals-optimized</th>\n",
              "      <td>28</td>\n",
              "    </tr>\n",
              "  </tbody>\n",
              "</table>\n",
              "</div>\n",
              "      <button class=\"colab-df-convert\" onclick=\"convertToInteractive('df-6bd0f91b-63b3-4429-a641-e1cd895830f9')\"\n",
              "              title=\"Convert this dataframe to an interactive table.\"\n",
              "              style=\"display:none;\">\n",
              "        \n",
              "  <svg xmlns=\"http://www.w3.org/2000/svg\" height=\"24px\"viewBox=\"0 0 24 24\"\n",
              "       width=\"24px\">\n",
              "    <path d=\"M0 0h24v24H0V0z\" fill=\"none\"/>\n",
              "    <path d=\"M18.56 5.44l.94 2.06.94-2.06 2.06-.94-2.06-.94-.94-2.06-.94 2.06-2.06.94zm-11 1L8.5 8.5l.94-2.06 2.06-.94-2.06-.94L8.5 2.5l-.94 2.06-2.06.94zm10 10l.94 2.06.94-2.06 2.06-.94-2.06-.94-.94-2.06-.94 2.06-2.06.94z\"/><path d=\"M17.41 7.96l-1.37-1.37c-.4-.4-.92-.59-1.43-.59-.52 0-1.04.2-1.43.59L10.3 9.45l-7.72 7.72c-.78.78-.78 2.05 0 2.83L4 21.41c.39.39.9.59 1.41.59.51 0 1.02-.2 1.41-.59l7.78-7.78 2.81-2.81c.8-.78.8-2.07 0-2.86zM5.41 20L4 18.59l7.72-7.72 1.47 1.35L5.41 20z\"/>\n",
              "  </svg>\n",
              "      </button>\n",
              "      \n",
              "  <style>\n",
              "    .colab-df-container {\n",
              "      display:flex;\n",
              "      flex-wrap:wrap;\n",
              "      gap: 12px;\n",
              "    }\n",
              "\n",
              "    .colab-df-convert {\n",
              "      background-color: #E8F0FE;\n",
              "      border: none;\n",
              "      border-radius: 50%;\n",
              "      cursor: pointer;\n",
              "      display: none;\n",
              "      fill: #1967D2;\n",
              "      height: 32px;\n",
              "      padding: 0 0 0 0;\n",
              "      width: 32px;\n",
              "    }\n",
              "\n",
              "    .colab-df-convert:hover {\n",
              "      background-color: #E2EBFA;\n",
              "      box-shadow: 0px 1px 2px rgba(60, 64, 67, 0.3), 0px 1px 3px 1px rgba(60, 64, 67, 0.15);\n",
              "      fill: #174EA6;\n",
              "    }\n",
              "\n",
              "    [theme=dark] .colab-df-convert {\n",
              "      background-color: #3B4455;\n",
              "      fill: #D2E3FC;\n",
              "    }\n",
              "\n",
              "    [theme=dark] .colab-df-convert:hover {\n",
              "      background-color: #434B5C;\n",
              "      box-shadow: 0px 1px 3px 1px rgba(0, 0, 0, 0.15);\n",
              "      filter: drop-shadow(0px 1px 2px rgba(0, 0, 0, 0.3));\n",
              "      fill: #FFFFFF;\n",
              "    }\n",
              "  </style>\n",
              "\n",
              "      <script>\n",
              "        const buttonEl =\n",
              "          document.querySelector('#df-6bd0f91b-63b3-4429-a641-e1cd895830f9 button.colab-df-convert');\n",
              "        buttonEl.style.display =\n",
              "          google.colab.kernel.accessAllowed ? 'block' : 'none';\n",
              "\n",
              "        async function convertToInteractive(key) {\n",
              "          const element = document.querySelector('#df-6bd0f91b-63b3-4429-a641-e1cd895830f9');\n",
              "          const dataTable =\n",
              "            await google.colab.kernel.invokeFunction('convertToInteractive',\n",
              "                                                     [key], {});\n",
              "          if (!dataTable) return;\n",
              "\n",
              "          const docLinkHtml = 'Like what you see? Visit the ' +\n",
              "            '<a target=\"_blank\" href=https://colab.research.google.com/notebooks/data_table.ipynb>data table notebook</a>'\n",
              "            + ' to learn more about interactive tables.';\n",
              "          element.innerHTML = '';\n",
              "          dataTable['output_type'] = 'display_data';\n",
              "          await google.colab.output.renderOutput(dataTable, element);\n",
              "          const docLink = document.createElement('div');\n",
              "          docLink.innerHTML = docLinkHtml;\n",
              "          element.appendChild(docLink);\n",
              "        }\n",
              "      </script>\n",
              "    </div>\n",
              "  </div>\n",
              "  "
            ],
            "text/plain": [
              "                           info\n",
              "total-intervals              21\n",
              "total-chains               9261\n",
              "total-intervals-optimized    28"
            ]
          },
          "metadata": {},
          "execution_count": 28
        }
      ]
    },
    {
      "cell_type": "markdown",
      "metadata": {
        "id": "ubf6i9SLCgEt"
      },
      "source": [
        "For strings of only length=3 the possible combinations are immense, this already anticipates how improbable it can be to find a specific string (even if we seek to maximize a sequence of patterns).\n",
        "\n",
        "Despite the optimization applied we see that it is still not enough, so we will calculate this in a more efficient way making use of the laws of probability and mathematics, all this in the next section!"
      ]
    },
    {
      "cell_type": "markdown",
      "metadata": {
        "id": "Ou26Dv8IMH8t"
      },
      "source": [
        "# Introduction to pattern probability analysis on the S&P500."
      ]
    },
    {
      "cell_type": "markdown",
      "metadata": {
        "id": "VDYrZ2nGY9ci"
      },
      "source": [
        "From this moment on we are able to implement the necessary routines to study the market. We will complement everything seen so far, creating a new class which will be our base to study the market patterns, this will allow us to calculate the frequencies or probabilities using the *Laplace* rule and from there we will classify the different chains of patterns that we can create forming a matrix.\n",
        "\n",
        "**Laplace Probability Rule**"
      ]
    },
    {
      "cell_type": "markdown",
      "metadata": {
        "id": "7KK1YAR3plrr"
      },
      "source": [
        "![rule_of_succession.png](data:image/png;base64,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)"
      ]
    },
    {
      "cell_type": "markdown",
      "metadata": {
        "id": "BciFzhWTpp9x"
      },
      "source": [
        "This is equivalent to calculating the *amount of given events* over the *amount of observations or total events*.\n",
        "\n",
        "We will implement this in our class, in addition to a function that will store in a dictionary the type of pattern with its frequency."
      ]
    },
    {
      "cell_type": "code",
      "metadata": {
        "id": "aOp2lKwNMVtJ"
      },
      "source": [
        "def compute_patterns_probs(df_candles, body_interval=0.4, n_std=2):\n",
        "  def is_bound(value, interval):\n",
        "    return (value >= interval[0] and value <= interval[1])\n",
        "  def laplace_rule(matches, observations):\n",
        "    return matches/len(observations)\n",
        "\n",
        "  bodies = df_candles.values\n",
        "  patterns = PatternsChainsGenerator(df_candles)\n",
        "  patterns_intervals = patterns.predict(chain_len=1)\n",
        "  intervals_dict = {}\n",
        "  for p in patterns_intervals:\n",
        "    pattern_interval = p[0]\n",
        "    matches = 0\n",
        "    for b in bodies:\n",
        "      if is_bound(b, pattern_interval):\n",
        "        matches+= 1\n",
        "      \n",
        "    intervals_dict[pattern_interval] = laplace_rule(matches, bodies)\n",
        "      \n",
        "  return intervals_dict"
      ],
      "execution_count": 29,
      "outputs": []
    },
    {
      "cell_type": "markdown",
      "metadata": {
        "id": "f9Z_fxs-riq1"
      },
      "source": [
        "As we can see the nested loop calculates the frequency of each pattern generated by the function *predict* of the class **PatternsChainsGenerator**, these are the intervals that will be used to classify such patterns given all the previously calculated market bodies (price deltas), this task will be taken care of by the main loop. We also note that the parameter used is a string of length 1, thus the generated strings will be of an interval which will allow us to study individually each pattern and its characteristics along with its frequency or probability.\n",
        "\n",
        "Let's test the function by giving as parameter the dataframe created at the beginning of our analysis."
      ]
    },
    {
      "cell_type": "code",
      "metadata": {
        "colab": {
          "base_uri": "https://localhost:8080/"
        },
        "id": "KwKjtKM-rhC6",
        "outputId": "e9e38b6c-f9ea-477c-9b22-6186f9d51181"
      },
      "source": [
        "compute_patterns_probs(df_candles[\"Delta\"])"
      ],
      "execution_count": 30,
      "outputs": [
        {
          "output_type": "execute_result",
          "data": {
            "text/plain": [
              "{(-72.37925720290649, -48.25283813527099): 0.060927152317880796,\n",
              " (-72.37925720290649, -24.126419067635496): 0.21589403973509932,\n",
              " (-72.37925720290649, 0): 0.38543046357615895,\n",
              " (-72.37925720290649, 24.126419067635496): 0.6370860927152318,\n",
              " (-72.37925720290649, 48.25283813527099): 0.8503311258278146,\n",
              " (-72.37925720290649, 72.37925720290649): 0.9019867549668874,\n",
              " (-48.25283813527099, -24.126419067635496): 0.15496688741721854,\n",
              " (-48.25283813527099, 0): 0.32450331125827814,\n",
              " (-48.25283813527099, 24.126419067635496): 0.5761589403973509,\n",
              " (-48.25283813527099, 48.25283813527099): 0.7894039735099337,\n",
              " (-48.25283813527099, 72.37925720290649): 0.8410596026490066,\n",
              " (-24.126419067635496, 0): 0.1695364238410596,\n",
              " (-24.126419067635496, 24.126419067635496): 0.42119205298013246,\n",
              " (-24.126419067635496, 48.25283813527099): 0.6344370860927152,\n",
              " (-24.126419067635496, 72.37925720290649): 0.686092715231788,\n",
              " (0, 24.126419067635496): 0.25165562913907286,\n",
              " (0, 48.25283813527099): 0.4649006622516556,\n",
              " (0, 72.37925720290649): 0.5165562913907285,\n",
              " (24.126419067635496, 48.25283813527099): 0.21324503311258278,\n",
              " (24.126419067635496, 72.37925720290649): 0.26490066225165565,\n",
              " (48.25283813527099, 72.37925720290649): 0.051655629139072845}"
            ]
          },
          "metadata": {},
          "execution_count": 30
        }
      ]
    },
    {
      "cell_type": "markdown",
      "metadata": {
        "id": "M7lxQgY1rho3"
      },
      "source": [
        "This is interesting, we can observe that certain intervals that form the acceptance pattern have in fact a very high frequency, ranging from almost 70% to 90%, remember that the intervals used are 20% (i.e. 40%/2 according to the calculations of the standardization formula).\n",
        "\n",
        "It is right here that we must make a revision, these values are not casual. In fact it can be mistakenly thought that we are in front of the holy grail of the patterns and therefore assume an expert trading system, we will demonstrate that this is not so easy .... **and we are far from it**.\n",
        "\n",
        "In order to understand the above mentioned we must emphasize (and repeat) the following; *A pattern is nothing more than an acceptance interval, so we defined it and based on that notion we created a criterion which allowed us to accept values depending on the value of the price ratio.For this we used the concept of \"error\", since after all this is what the intervals symbolize.*\n",
        "\n",
        "So the values that have a high probability are nothing but excessively open intervals, and even so wide in range that they accept both positive and negative values. To solve this we need another filter function which will eliminate those intervals that cross a certain gap, this will be proposed below along with its class.\n",
        "\n",
        "**Implementation of the class for pattern validation**."
      ]
    },
    {
      "cell_type": "code",
      "metadata": {
        "colab": {
          "base_uri": "https://localhost:8080/"
        },
        "id": "hULdFQ22SK7M",
        "outputId": "e28cfa61-205c-44f2-d048-efd31c42186d"
      },
      "source": [
        "class PatternsEngine(PatternsChainsGenerator):\n",
        "  def __init__(self, df_candles, body_interval=0.4, n_std=2):\n",
        "    PatternsChainsGenerator.__init__(self, df_candles, body_interval, n_std)\n",
        "    self.__df_candles = df_candles\n",
        "\n",
        "  def __compute_patterns_probs(self):\n",
        "    def is_bound(value, interval):\n",
        "      return (value >= interval[0] and value <= interval[1])\n",
        "    def laplace_rule(matches, observations):\n",
        "      return matches/len(observations)\n",
        "\n",
        "    bodies = self.__df_candles.values\n",
        "    patterns_intervals = self.predict(chain_len=1)\n",
        "    intervals_dict = {}\n",
        "    for p in patterns_intervals:\n",
        "      pattern_interval = p[0]\n",
        "      matches = 0\n",
        "      for b in bodies:\n",
        "        if is_bound(b, pattern_interval):\n",
        "          matches+= 1\n",
        "      \n",
        "      intervals_dict[pattern_interval] = laplace_rule(matches, bodies)\n",
        "      \n",
        "    return intervals_dict\n",
        "  \n",
        "  def compute(self):\n",
        "    patterns_probs = self.__compute_patterns_probs()\n",
        "    x_increment = self.get_interval_increment()\n",
        "    valid_patterns_probs = {}\n",
        "    for p in patterns_probs.keys():\n",
        "      # si el delta de la vela esta dentro del rango de aceptacion...\n",
        "      if np.abs(p[0] - p[1]) <= x_increment:\n",
        "        valid_patterns_probs[p] = patterns_probs[p]\n",
        "    return valid_patterns_probs\n",
        "\n",
        "pse = PatternsEngine(df_candles[\"Delta\"])\n",
        "patterns = pse.compute()\n",
        "patterns"
      ],
      "execution_count": 31,
      "outputs": [
        {
          "output_type": "execute_result",
          "data": {
            "text/plain": [
              "{(-72.37925720290649, -48.25283813527099): 0.060927152317880796,\n",
              " (-48.25283813527099, -24.126419067635496): 0.15496688741721854,\n",
              " (-24.126419067635496, 0): 0.1695364238410596,\n",
              " (0, 24.126419067635496): 0.25165562913907286,\n",
              " (24.126419067635496, 48.25283813527099): 0.21324503311258278,\n",
              " (48.25283813527099, 72.37925720290649): 0.051655629139072845}"
            ]
          },
          "metadata": {},
          "execution_count": 31
        }
      ]
    },
    {
      "cell_type": "markdown",
      "metadata": {
        "id": "1jYbOeKOTsT-"
      },
      "source": [
        "We see how our class calls an additional function (which was implemented in the *Encoding patterns* section), this is **get_interval_increment** which returns the increment value of each generated interval. Recall that this was calculated in previous steps using the standardization function.\n",
        "\n",
        "Now it makes sense, as we can see the probabilities dropped drastically(when reducing the distance of the intervals)... this was expected and now we understand why. Let's sort this information in a dataframe."
      ]
    },
    {
      "cell_type": "code",
      "metadata": {
        "colab": {
          "base_uri": "https://localhost:8080/",
          "height": 237
        },
        "id": "LujldnUlrCLJ",
        "outputId": "e589bbca-2d9d-4bc1-ba71-33500ffeb076"
      },
      "source": [
        "df_patterns = pd.DataFrame(data=patterns.keys())\n",
        "df_patterns = df_patterns.rename(columns={0: \"Min\", 1: \"Max\"})\n",
        "df_patterns['Prob'] = patterns.values()\n",
        "df_patterns.sort_values(by='Prob', ascending=False, inplace=True, ignore_index=True)\n",
        "df_patterns"
      ],
      "execution_count": 32,
      "outputs": [
        {
          "output_type": "execute_result",
          "data": {
            "text/html": [
              "\n",
              "  <div id=\"df-fc4eb398-e2c0-4eaa-a803-f8fc6eea8080\">\n",
              "    <div class=\"colab-df-container\">\n",
              "      <div>\n",
              "<style scoped>\n",
              "    .dataframe tbody tr th:only-of-type {\n",
              "        vertical-align: middle;\n",
              "    }\n",
              "\n",
              "    .dataframe tbody tr th {\n",
              "        vertical-align: top;\n",
              "    }\n",
              "\n",
              "    .dataframe thead th {\n",
              "        text-align: right;\n",
              "    }\n",
              "</style>\n",
              "<table border=\"1\" class=\"dataframe\">\n",
              "  <thead>\n",
              "    <tr style=\"text-align: right;\">\n",
              "      <th></th>\n",
              "      <th>Min</th>\n",
              "      <th>Max</th>\n",
              "      <th>Prob</th>\n",
              "    </tr>\n",
              "  </thead>\n",
              "  <tbody>\n",
              "    <tr>\n",
              "      <th>0</th>\n",
              "      <td>0.000000</td>\n",
              "      <td>24.126419</td>\n",
              "      <td>0.251656</td>\n",
              "    </tr>\n",
              "    <tr>\n",
              "      <th>1</th>\n",
              "      <td>24.126419</td>\n",
              "      <td>48.252838</td>\n",
              "      <td>0.213245</td>\n",
              "    </tr>\n",
              "    <tr>\n",
              "      <th>2</th>\n",
              "      <td>-24.126419</td>\n",
              "      <td>0.000000</td>\n",
              "      <td>0.169536</td>\n",
              "    </tr>\n",
              "    <tr>\n",
              "      <th>3</th>\n",
              "      <td>-48.252838</td>\n",
              "      <td>-24.126419</td>\n",
              "      <td>0.154967</td>\n",
              "    </tr>\n",
              "    <tr>\n",
              "      <th>4</th>\n",
              "      <td>-72.379257</td>\n",
              "      <td>-48.252838</td>\n",
              "      <td>0.060927</td>\n",
              "    </tr>\n",
              "    <tr>\n",
              "      <th>5</th>\n",
              "      <td>48.252838</td>\n",
              "      <td>72.379257</td>\n",
              "      <td>0.051656</td>\n",
              "    </tr>\n",
              "  </tbody>\n",
              "</table>\n",
              "</div>\n",
              "      <button class=\"colab-df-convert\" onclick=\"convertToInteractive('df-fc4eb398-e2c0-4eaa-a803-f8fc6eea8080')\"\n",
              "              title=\"Convert this dataframe to an interactive table.\"\n",
              "              style=\"display:none;\">\n",
              "        \n",
              "  <svg xmlns=\"http://www.w3.org/2000/svg\" height=\"24px\"viewBox=\"0 0 24 24\"\n",
              "       width=\"24px\">\n",
              "    <path d=\"M0 0h24v24H0V0z\" fill=\"none\"/>\n",
              "    <path d=\"M18.56 5.44l.94 2.06.94-2.06 2.06-.94-2.06-.94-.94-2.06-.94 2.06-2.06.94zm-11 1L8.5 8.5l.94-2.06 2.06-.94-2.06-.94L8.5 2.5l-.94 2.06-2.06.94zm10 10l.94 2.06.94-2.06 2.06-.94-2.06-.94-.94-2.06-.94 2.06-2.06.94z\"/><path d=\"M17.41 7.96l-1.37-1.37c-.4-.4-.92-.59-1.43-.59-.52 0-1.04.2-1.43.59L10.3 9.45l-7.72 7.72c-.78.78-.78 2.05 0 2.83L4 21.41c.39.39.9.59 1.41.59.51 0 1.02-.2 1.41-.59l7.78-7.78 2.81-2.81c.8-.78.8-2.07 0-2.86zM5.41 20L4 18.59l7.72-7.72 1.47 1.35L5.41 20z\"/>\n",
              "  </svg>\n",
              "      </button>\n",
              "      \n",
              "  <style>\n",
              "    .colab-df-container {\n",
              "      display:flex;\n",
              "      flex-wrap:wrap;\n",
              "      gap: 12px;\n",
              "    }\n",
              "\n",
              "    .colab-df-convert {\n",
              "      background-color: #E8F0FE;\n",
              "      border: none;\n",
              "      border-radius: 50%;\n",
              "      cursor: pointer;\n",
              "      display: none;\n",
              "      fill: #1967D2;\n",
              "      height: 32px;\n",
              "      padding: 0 0 0 0;\n",
              "      width: 32px;\n",
              "    }\n",
              "\n",
              "    .colab-df-convert:hover {\n",
              "      background-color: #E2EBFA;\n",
              "      box-shadow: 0px 1px 2px rgba(60, 64, 67, 0.3), 0px 1px 3px 1px rgba(60, 64, 67, 0.15);\n",
              "      fill: #174EA6;\n",
              "    }\n",
              "\n",
              "    [theme=dark] .colab-df-convert {\n",
              "      background-color: #3B4455;\n",
              "      fill: #D2E3FC;\n",
              "    }\n",
              "\n",
              "    [theme=dark] .colab-df-convert:hover {\n",
              "      background-color: #434B5C;\n",
              "      box-shadow: 0px 1px 3px 1px rgba(0, 0, 0, 0.15);\n",
              "      filter: drop-shadow(0px 1px 2px rgba(0, 0, 0, 0.3));\n",
              "      fill: #FFFFFF;\n",
              "    }\n",
              "  </style>\n",
              "\n",
              "      <script>\n",
              "        const buttonEl =\n",
              "          document.querySelector('#df-fc4eb398-e2c0-4eaa-a803-f8fc6eea8080 button.colab-df-convert');\n",
              "        buttonEl.style.display =\n",
              "          google.colab.kernel.accessAllowed ? 'block' : 'none';\n",
              "\n",
              "        async function convertToInteractive(key) {\n",
              "          const element = document.querySelector('#df-fc4eb398-e2c0-4eaa-a803-f8fc6eea8080');\n",
              "          const dataTable =\n",
              "            await google.colab.kernel.invokeFunction('convertToInteractive',\n",
              "                                                     [key], {});\n",
              "          if (!dataTable) return;\n",
              "\n",
              "          const docLinkHtml = 'Like what you see? Visit the ' +\n",
              "            '<a target=\"_blank\" href=https://colab.research.google.com/notebooks/data_table.ipynb>data table notebook</a>'\n",
              "            + ' to learn more about interactive tables.';\n",
              "          element.innerHTML = '';\n",
              "          dataTable['output_type'] = 'display_data';\n",
              "          await google.colab.output.renderOutput(dataTable, element);\n",
              "          const docLink = document.createElement('div');\n",
              "          docLink.innerHTML = docLinkHtml;\n",
              "          element.appendChild(docLink);\n",
              "        }\n",
              "      </script>\n",
              "    </div>\n",
              "  </div>\n",
              "  "
            ],
            "text/plain": [
              "         Min        Max      Prob\n",
              "0   0.000000  24.126419  0.251656\n",
              "1  24.126419  48.252838  0.213245\n",
              "2 -24.126419   0.000000  0.169536\n",
              "3 -48.252838 -24.126419  0.154967\n",
              "4 -72.379257 -48.252838  0.060927\n",
              "5  48.252838  72.379257  0.051656"
            ]
          },
          "metadata": {},
          "execution_count": 32
        }
      ]
    },
    {
      "cell_type": "markdown",
      "metadata": {
        "id": "4nIa2mxV29la"
      },
      "source": [
        "Let's make a plot on the best probabilities found"
      ]
    },
    {
      "cell_type": "code",
      "metadata": {
        "colab": {
          "base_uri": "https://localhost:8080/",
          "height": 320
        },
        "id": "oW3WeM9w2KAc",
        "outputId": "a4175dce-9e95-449b-cf75-dddc3a428eec"
      },
      "source": [
        "plt.subplots(figsize=(8, 5))\n",
        "sns.barplot(data=df_patterns, x=df_patterns.index, y='Prob')\n",
        "plt.show()"
      ],
      "execution_count": 33,
      "outputs": [
        {
          "output_type": "display_data",
          "data": {
            "image/png": "[encoded data removed]",
            "text/plain": [
              "<Figure size 576x360 with 1 Axes>"
            ]
          },
          "metadata": {
            "needs_background": "light"
          }
        }
      ]
    },
    {
      "cell_type": "markdown",
      "metadata": {
        "id": "JpgtQar43Uap"
      },
      "source": [
        "As we can see this graph gives us a visual reference of how many probabilities we calculate, X axis represents the total intervals and Y axis the frequency or probability."
      ]
    },
    {
      "cell_type": "markdown",
      "metadata": {
        "id": "VAu9wP-k5shr"
      },
      "source": [
        "# Probability chains for independent stochastic events\n",
        "\n",
        "To be able to fully model the probability chains in the market we must first understand some notions about probability, these play a fundamental role in our search and have something important to tell us, so let's start with the definition of probability for independent events.\n",
        "\n",
        "```It is said that random events are independent of each other when the probability of each of them is not influenced by the occurrence or not of the other, i.e. the events are not related in any way. In probability theory this rule is expressed as follows:```"
      ]
    },
    {
      "cell_type": "markdown",
      "metadata": {
        "id": "ApcQ535hf5_2"
      },
      "source": [
        "![multiple_independent_events.png](data:image/png;base64,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)"
      ]
    },
    {
      "cell_type": "markdown",
      "metadata": {
        "id": "M_xjSLt5UElh"
      },
      "source": [
        "For example given Ai={{A1, A2, ... , An} if these are independent their joint probability (the intersection of the events) is the product of the probabilities.\n",
        "\n",
        "For only two events this simple rule is summarized as (which is how it is usually studied):"
      ]
    },
    {
      "cell_type": "markdown",
      "metadata": {
        "id": "38S9kHgSUE0i"
      },
      "source": [
        "![independent_events.png](data:image/png;base64,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)"
      ]
    },
    {
      "cell_type": "markdown",
      "metadata": {
        "id": "1AKZEMllUkuI"
      },
      "source": [
        "Taking this theory to the market we will say that A and B represent a certain candlestick pattern (their characteristics at this time are irrelevant), then if we want to know what is the probability of a chain of events or pattern events we must first calculate the probability of each of them separately and then multiply chain by chain to obtain their respective probabilities. This is easy to put into practice, the big flaw is the following; being independent events the order of the sequence will be irrelevant and therefore it would be the same to calculate a chain of type AAB, ABA or BAA (where each letter represents a different candle pattern), since the order of the multiplication is commutative, using the property of intersection of events in the example we would have;\n",
        "\n",
        "P(AAB) = P(BAA) = P(A)xP(A)xP(B) = P(B)xP(A)xP(A).\n",
        "\n",
        "```Due to the studies done so far we were able to prove that this is not true, the order for our model is fundamental since each chain will have a different likelihood ratio and therefore if we base our calculations on the independence of events we should ignore such order. As a result, apparently different chains will have the same probability of occurrence in common, and as said before this makes no real sense in markets. However, it is not all a lie, because we do not have a theory that necessarily affirms or refutes that the closing of a price A implies the formation of a future price B, and in fact thanks to the Markovian property we can treat the market as a stochastic process without memory, therefore an event A does not necessarily imply an event B. We will discuss this in the section on the probability of dependent events, however it must be exposed the great flaw of modeling the market only by applying this form.```"
      ]
    },
    {
      "cell_type": "markdown",
      "metadata": {
        "id": "F16A8cvRc0KH"
      },
      "source": [
        "**Coding the intervals to calculate the probability matrix.**\n",
        "\n",
        "The first step will be to code the intervals (recycling some of the functions we already created) in order to form the chains of independent events."
      ]
    },
    {
      "cell_type": "code",
      "metadata": {
        "colab": {
          "base_uri": "https://localhost:8080/"
        },
        "id": "MZwzp476co7d",
        "outputId": "7b2efb58-600f-48ac-f696-a726ad0db1b1"
      },
      "source": [
        "def encrypt_intervals(patterns_dict):\n",
        "  letters = ['A','B','C','D','E','F','G','H','I','J','K','L','M','N','O','P','Q','R','S','T','U','V','W','X','Y','Z']\n",
        "\n",
        "  n_letters = len(letters)\n",
        "  n_bodies= len(bodies)\n",
        "  i = 0\n",
        "  level = 1\n",
        "  code = {}\n",
        "  for p in patterns_dict.values():\n",
        "    if i >= n_letters:\n",
        "      i = 0\n",
        "      level+= 1\n",
        "    c = ''\n",
        "    for _ in range(level): c+= letters[i]\n",
        "    code[c] = p\n",
        "    i+= 1\n",
        "\n",
        "  return code\n",
        "\n",
        "pse = PatternsEngine(df_candles[\"Delta\"])\n",
        "patterns = pse.compute()\n",
        "encoded_patterns = encrypt_intervals(patterns)\n",
        "encoded_patterns"
      ],
      "execution_count": 34,
      "outputs": [
        {
          "output_type": "execute_result",
          "data": {
            "text/plain": [
              "{'A': 0.060927152317880796,\n",
              " 'B': 0.15496688741721854,\n",
              " 'C': 0.1695364238410596,\n",
              " 'D': 0.25165562913907286,\n",
              " 'E': 0.21324503311258278,\n",
              " 'F': 0.051655629139072845}"
            ]
          },
          "metadata": {},
          "execution_count": 34
        }
      ]
    },
    {
      "cell_type": "markdown",
      "metadata": {
        "id": "LvocuWb7r7fc"
      },
      "source": [
        "This function gives us as a result a dictionary of probabilities sorted by letters, which represent the 'coded' values that we will use to generate the probability strings. Let's use the combinatorics and store the results in a pandas data frame(just for a better visual aspect)."
      ]
    },
    {
      "cell_type": "code",
      "metadata": {
        "colab": {
          "base_uri": "https://localhost:8080/",
          "height": 423
        },
        "id": "hqVImDXPqxE8",
        "outputId": "5cddf5de-dd24-4d70-a111-533a48e093a7"
      },
      "source": [
        "def encoded_pattern_chains(encoded_patterns, chain_len):\n",
        "  return pd.DataFrame(data=[item for item in product(encoded_patterns.keys(), repeat=chain_len)])\n",
        "\n",
        "enconded_chains = encoded_pattern_chains(encoded_patterns, 3)\n",
        "enconded_chains"
      ],
      "execution_count": 35,
      "outputs": [
        {
          "output_type": "execute_result",
          "data": {
            "text/html": [
              "\n",
              "  <div id=\"df-6a56d277-74d5-47b7-9a97-1feaee00abb3\">\n",
              "    <div class=\"colab-df-container\">\n",
              "      <div>\n",
              "<style scoped>\n",
              "    .dataframe tbody tr th:only-of-type {\n",
              "        vertical-align: middle;\n",
              "    }\n",
              "\n",
              "    .dataframe tbody tr th {\n",
              "        vertical-align: top;\n",
              "    }\n",
              "\n",
              "    .dataframe thead th {\n",
              "        text-align: right;\n",
              "    }\n",
              "</style>\n",
              "<table border=\"1\" class=\"dataframe\">\n",
              "  <thead>\n",
              "    <tr style=\"text-align: right;\">\n",
              "      <th></th>\n",
              "      <th>0</th>\n",
              "      <th>1</th>\n",
              "      <th>2</th>\n",
              "    </tr>\n",
              "  </thead>\n",
              "  <tbody>\n",
              "    <tr>\n",
              "      <th>0</th>\n",
              "      <td>A</td>\n",
              "      <td>A</td>\n",
              "      <td>A</td>\n",
              "    </tr>\n",
              "    <tr>\n",
              "      <th>1</th>\n",
              "      <td>A</td>\n",
              "      <td>A</td>\n",
              "      <td>B</td>\n",
              "    </tr>\n",
              "    <tr>\n",
              "      <th>2</th>\n",
              "      <td>A</td>\n",
              "      <td>A</td>\n",
              "      <td>C</td>\n",
              "    </tr>\n",
              "    <tr>\n",
              "      <th>3</th>\n",
              "      <td>A</td>\n",
              "      <td>A</td>\n",
              "      <td>D</td>\n",
              "    </tr>\n",
              "    <tr>\n",
              "      <th>4</th>\n",
              "      <td>A</td>\n",
              "      <td>A</td>\n",
              "      <td>E</td>\n",
              "    </tr>\n",
              "    <tr>\n",
              "      <th>...</th>\n",
              "      <td>...</td>\n",
              "      <td>...</td>\n",
              "      <td>...</td>\n",
              "    </tr>\n",
              "    <tr>\n",
              "      <th>211</th>\n",
              "      <td>F</td>\n",
              "      <td>F</td>\n",
              "      <td>B</td>\n",
              "    </tr>\n",
              "    <tr>\n",
              "      <th>212</th>\n",
              "      <td>F</td>\n",
              "      <td>F</td>\n",
              "      <td>C</td>\n",
              "    </tr>\n",
              "    <tr>\n",
              "      <th>213</th>\n",
              "      <td>F</td>\n",
              "      <td>F</td>\n",
              "      <td>D</td>\n",
              "    </tr>\n",
              "    <tr>\n",
              "      <th>214</th>\n",
              "      <td>F</td>\n",
              "      <td>F</td>\n",
              "      <td>E</td>\n",
              "    </tr>\n",
              "    <tr>\n",
              "      <th>215</th>\n",
              "      <td>F</td>\n",
              "      <td>F</td>\n",
              "      <td>F</td>\n",
              "    </tr>\n",
              "  </tbody>\n",
              "</table>\n",
              "<p>216 rows × 3 columns</p>\n",
              "</div>\n",
              "      <button class=\"colab-df-convert\" onclick=\"convertToInteractive('df-6a56d277-74d5-47b7-9a97-1feaee00abb3')\"\n",
              "              title=\"Convert this dataframe to an interactive table.\"\n",
              "              style=\"display:none;\">\n",
              "        \n",
              "  <svg xmlns=\"http://www.w3.org/2000/svg\" height=\"24px\"viewBox=\"0 0 24 24\"\n",
              "       width=\"24px\">\n",
              "    <path d=\"M0 0h24v24H0V0z\" fill=\"none\"/>\n",
              "    <path d=\"M18.56 5.44l.94 2.06.94-2.06 2.06-.94-2.06-.94-.94-2.06-.94 2.06-2.06.94zm-11 1L8.5 8.5l.94-2.06 2.06-.94-2.06-.94L8.5 2.5l-.94 2.06-2.06.94zm10 10l.94 2.06.94-2.06 2.06-.94-2.06-.94-.94-2.06-.94 2.06-2.06.94z\"/><path d=\"M17.41 7.96l-1.37-1.37c-.4-.4-.92-.59-1.43-.59-.52 0-1.04.2-1.43.59L10.3 9.45l-7.72 7.72c-.78.78-.78 2.05 0 2.83L4 21.41c.39.39.9.59 1.41.59.51 0 1.02-.2 1.41-.59l7.78-7.78 2.81-2.81c.8-.78.8-2.07 0-2.86zM5.41 20L4 18.59l7.72-7.72 1.47 1.35L5.41 20z\"/>\n",
              "  </svg>\n",
              "      </button>\n",
              "      \n",
              "  <style>\n",
              "    .colab-df-container {\n",
              "      display:flex;\n",
              "      flex-wrap:wrap;\n",
              "      gap: 12px;\n",
              "    }\n",
              "\n",
              "    .colab-df-convert {\n",
              "      background-color: #E8F0FE;\n",
              "      border: none;\n",
              "      border-radius: 50%;\n",
              "      cursor: pointer;\n",
              "      display: none;\n",
              "      fill: #1967D2;\n",
              "      height: 32px;\n",
              "      padding: 0 0 0 0;\n",
              "      width: 32px;\n",
              "    }\n",
              "\n",
              "    .colab-df-convert:hover {\n",
              "      background-color: #E2EBFA;\n",
              "      box-shadow: 0px 1px 2px rgba(60, 64, 67, 0.3), 0px 1px 3px 1px rgba(60, 64, 67, 0.15);\n",
              "      fill: #174EA6;\n",
              "    }\n",
              "\n",
              "    [theme=dark] .colab-df-convert {\n",
              "      background-color: #3B4455;\n",
              "      fill: #D2E3FC;\n",
              "    }\n",
              "\n",
              "    [theme=dark] .colab-df-convert:hover {\n",
              "      background-color: #434B5C;\n",
              "      box-shadow: 0px 1px 3px 1px rgba(0, 0, 0, 0.15);\n",
              "      filter: drop-shadow(0px 1px 2px rgba(0, 0, 0, 0.3));\n",
              "      fill: #FFFFFF;\n",
              "    }\n",
              "  </style>\n",
              "\n",
              "      <script>\n",
              "        const buttonEl =\n",
              "          document.querySelector('#df-6a56d277-74d5-47b7-9a97-1feaee00abb3 button.colab-df-convert');\n",
              "        buttonEl.style.display =\n",
              "          google.colab.kernel.accessAllowed ? 'block' : 'none';\n",
              "\n",
              "        async function convertToInteractive(key) {\n",
              "          const element = document.querySelector('#df-6a56d277-74d5-47b7-9a97-1feaee00abb3');\n",
              "          const dataTable =\n",
              "            await google.colab.kernel.invokeFunction('convertToInteractive',\n",
              "                                                     [key], {});\n",
              "          if (!dataTable) return;\n",
              "\n",
              "          const docLinkHtml = 'Like what you see? Visit the ' +\n",
              "            '<a target=\"_blank\" href=https://colab.research.google.com/notebooks/data_table.ipynb>data table notebook</a>'\n",
              "            + ' to learn more about interactive tables.';\n",
              "          element.innerHTML = '';\n",
              "          dataTable['output_type'] = 'display_data';\n",
              "          await google.colab.output.renderOutput(dataTable, element);\n",
              "          const docLink = document.createElement('div');\n",
              "          docLink.innerHTML = docLinkHtml;\n",
              "          element.appendChild(docLink);\n",
              "        }\n",
              "      </script>\n",
              "    </div>\n",
              "  </div>\n",
              "  "
            ],
            "text/plain": [
              "     0  1  2\n",
              "0    A  A  A\n",
              "1    A  A  B\n",
              "2    A  A  C\n",
              "3    A  A  D\n",
              "4    A  A  E\n",
              "..  .. .. ..\n",
              "211  F  F  B\n",
              "212  F  F  C\n",
              "213  F  F  D\n",
              "214  F  F  E\n",
              "215  F  F  F\n",
              "\n",
              "[216 rows x 3 columns]"
            ]
          },
          "metadata": {},
          "execution_count": 35
        }
      ]
    },
    {
      "cell_type": "markdown",
      "metadata": {
        "id": "JfwTX30tsox0"
      },
      "source": [
        "Finally we can generate the probability matrix of the sequences or events. Let's implement all this plus the decoder function in a class."
      ]
    },
    {
      "cell_type": "code",
      "metadata": {
        "id": "5WJ_g5zxs6nQ"
      },
      "source": [
        "class IEChains():\n",
        "  def __init__(self, patterns):\n",
        "    self.__patterns_dict = patterns\n",
        "\n",
        "  def __encrypt_intervals(self):\n",
        "    letters = ['A','B','C','D','E','F','G','H','I','J','K','L','M','N','O','P','Q','R','S','T','U','V','W','X','Y','Z']\n",
        "\n",
        "    n_letters = len(letters)\n",
        "    n_bodies= len(bodies)\n",
        "    i = 0\n",
        "    level = 1\n",
        "    code = {}\n",
        "    for p in self.__patterns_dict.values():\n",
        "      if i >= n_letters:\n",
        "        i = 0\n",
        "        level+= 1\n",
        "      c = ''\n",
        "      for _ in range(level): c+= letters[i]\n",
        "      code[c] = p\n",
        "      i+= 1\n",
        "\n",
        "    return code\n",
        "  \n",
        "  def __encoded_pattern_chains(self, encoded_patterns, chains_len):\n",
        "    return [item for item in product(encoded_patterns.keys(), repeat=chains_len)]\n",
        "\n",
        "  def predict(self, chains_len):\n",
        "    enc_patterns = self.__encrypt_intervals()\n",
        "    enc_patterns_chains = self.__encoded_pattern_chains(enc_patterns, chains_len)\n",
        "    patts_names = []\n",
        "    probs_ = []\n",
        "    for p in enc_patterns_chains:\n",
        "      name = ''\n",
        "      probs = 1\n",
        "      for n in p:\n",
        "        name+= n\n",
        "        probs*= enc_patterns[n]\n",
        "      patts_names.append(name)\n",
        "      probs_.append(probs)\n",
        "\n",
        "    return pd.DataFrame(data={'pattern':patts_names, 'ind-probability':probs_})"
      ],
      "execution_count": 36,
      "outputs": []
    },
    {
      "cell_type": "markdown",
      "metadata": {
        "id": "dzeCL0gkyIYN"
      },
      "source": [
        "Let's compile the class and build the object with the single string length parameter of 3(as in our example)."
      ]
    },
    {
      "cell_type": "code",
      "metadata": {
        "colab": {
          "base_uri": "https://localhost:8080/",
          "height": 423
        },
        "id": "llDLQLxLyH8r",
        "outputId": "77f8e00f-dcab-45d6-b81b-18b66e5adc84"
      },
      "source": [
        "ind_events_chains= IEChains(patterns)\n",
        "chain_len = 3\n",
        "df_ipatterns = ind_events_chains.predict(chain_len)\n",
        "df_ipatterns"
      ],
      "execution_count": 37,
      "outputs": [
        {
          "output_type": "execute_result",
          "data": {
            "text/html": [
              "\n",
              "  <div id=\"df-4ec4e116-ead4-4a17-a984-e1f31e6c2d28\">\n",
              "    <div class=\"colab-df-container\">\n",
              "      <div>\n",
              "<style scoped>\n",
              "    .dataframe tbody tr th:only-of-type {\n",
              "        vertical-align: middle;\n",
              "    }\n",
              "\n",
              "    .dataframe tbody tr th {\n",
              "        vertical-align: top;\n",
              "    }\n",
              "\n",
              "    .dataframe thead th {\n",
              "        text-align: right;\n",
              "    }\n",
              "</style>\n",
              "<table border=\"1\" class=\"dataframe\">\n",
              "  <thead>\n",
              "    <tr style=\"text-align: right;\">\n",
              "      <th></th>\n",
              "      <th>pattern</th>\n",
              "      <th>ind-probability</th>\n",
              "    </tr>\n",
              "  </thead>\n",
              "  <tbody>\n",
              "    <tr>\n",
              "      <th>0</th>\n",
              "      <td>AAA</td>\n",
              "      <td>0.000226</td>\n",
              "    </tr>\n",
              "    <tr>\n",
              "      <th>1</th>\n",
              "      <td>AAB</td>\n",
              "      <td>0.000575</td>\n",
              "    </tr>\n",
              "    <tr>\n",
              "      <th>2</th>\n",
              "      <td>AAC</td>\n",
              "      <td>0.000629</td>\n",
              "    </tr>\n",
              "    <tr>\n",
              "      <th>3</th>\n",
              "      <td>AAD</td>\n",
              "      <td>0.000934</td>\n",
              "    </tr>\n",
              "    <tr>\n",
              "      <th>4</th>\n",
              "      <td>AAE</td>\n",
              "      <td>0.000792</td>\n",
              "    </tr>\n",
              "    <tr>\n",
              "      <th>...</th>\n",
              "      <td>...</td>\n",
              "      <td>...</td>\n",
              "    </tr>\n",
              "    <tr>\n",
              "      <th>211</th>\n",
              "      <td>FFB</td>\n",
              "      <td>0.000413</td>\n",
              "    </tr>\n",
              "    <tr>\n",
              "      <th>212</th>\n",
              "      <td>FFC</td>\n",
              "      <td>0.000452</td>\n",
              "    </tr>\n",
              "    <tr>\n",
              "      <th>213</th>\n",
              "      <td>FFD</td>\n",
              "      <td>0.000671</td>\n",
              "    </tr>\n",
              "    <tr>\n",
              "      <th>214</th>\n",
              "      <td>FFE</td>\n",
              "      <td>0.000569</td>\n",
              "    </tr>\n",
              "    <tr>\n",
              "      <th>215</th>\n",
              "      <td>FFF</td>\n",
              "      <td>0.000138</td>\n",
              "    </tr>\n",
              "  </tbody>\n",
              "</table>\n",
              "<p>216 rows × 2 columns</p>\n",
              "</div>\n",
              "      <button class=\"colab-df-convert\" onclick=\"convertToInteractive('df-4ec4e116-ead4-4a17-a984-e1f31e6c2d28')\"\n",
              "              title=\"Convert this dataframe to an interactive table.\"\n",
              "              style=\"display:none;\">\n",
              "        \n",
              "  <svg xmlns=\"http://www.w3.org/2000/svg\" height=\"24px\"viewBox=\"0 0 24 24\"\n",
              "       width=\"24px\">\n",
              "    <path d=\"M0 0h24v24H0V0z\" fill=\"none\"/>\n",
              "    <path d=\"M18.56 5.44l.94 2.06.94-2.06 2.06-.94-2.06-.94-.94-2.06-.94 2.06-2.06.94zm-11 1L8.5 8.5l.94-2.06 2.06-.94-2.06-.94L8.5 2.5l-.94 2.06-2.06.94zm10 10l.94 2.06.94-2.06 2.06-.94-2.06-.94-.94-2.06-.94 2.06-2.06.94z\"/><path d=\"M17.41 7.96l-1.37-1.37c-.4-.4-.92-.59-1.43-.59-.52 0-1.04.2-1.43.59L10.3 9.45l-7.72 7.72c-.78.78-.78 2.05 0 2.83L4 21.41c.39.39.9.59 1.41.59.51 0 1.02-.2 1.41-.59l7.78-7.78 2.81-2.81c.8-.78.8-2.07 0-2.86zM5.41 20L4 18.59l7.72-7.72 1.47 1.35L5.41 20z\"/>\n",
              "  </svg>\n",
              "      </button>\n",
              "      \n",
              "  <style>\n",
              "    .colab-df-container {\n",
              "      display:flex;\n",
              "      flex-wrap:wrap;\n",
              "      gap: 12px;\n",
              "    }\n",
              "\n",
              "    .colab-df-convert {\n",
              "      background-color: #E8F0FE;\n",
              "      border: none;\n",
              "      border-radius: 50%;\n",
              "      cursor: pointer;\n",
              "      display: none;\n",
              "      fill: #1967D2;\n",
              "      height: 32px;\n",
              "      padding: 0 0 0 0;\n",
              "      width: 32px;\n",
              "    }\n",
              "\n",
              "    .colab-df-convert:hover {\n",
              "      background-color: #E2EBFA;\n",
              "      box-shadow: 0px 1px 2px rgba(60, 64, 67, 0.3), 0px 1px 3px 1px rgba(60, 64, 67, 0.15);\n",
              "      fill: #174EA6;\n",
              "    }\n",
              "\n",
              "    [theme=dark] .colab-df-convert {\n",
              "      background-color: #3B4455;\n",
              "      fill: #D2E3FC;\n",
              "    }\n",
              "\n",
              "    [theme=dark] .colab-df-convert:hover {\n",
              "      background-color: #434B5C;\n",
              "      box-shadow: 0px 1px 3px 1px rgba(0, 0, 0, 0.15);\n",
              "      filter: drop-shadow(0px 1px 2px rgba(0, 0, 0, 0.3));\n",
              "      fill: #FFFFFF;\n",
              "    }\n",
              "  </style>\n",
              "\n",
              "      <script>\n",
              "        const buttonEl =\n",
              "          document.querySelector('#df-4ec4e116-ead4-4a17-a984-e1f31e6c2d28 button.colab-df-convert');\n",
              "        buttonEl.style.display =\n",
              "          google.colab.kernel.accessAllowed ? 'block' : 'none';\n",
              "\n",
              "        async function convertToInteractive(key) {\n",
              "          const element = document.querySelector('#df-4ec4e116-ead4-4a17-a984-e1f31e6c2d28');\n",
              "          const dataTable =\n",
              "            await google.colab.kernel.invokeFunction('convertToInteractive',\n",
              "                                                     [key], {});\n",
              "          if (!dataTable) return;\n",
              "\n",
              "          const docLinkHtml = 'Like what you see? Visit the ' +\n",
              "            '<a target=\"_blank\" href=https://colab.research.google.com/notebooks/data_table.ipynb>data table notebook</a>'\n",
              "            + ' to learn more about interactive tables.';\n",
              "          element.innerHTML = '';\n",
              "          dataTable['output_type'] = 'display_data';\n",
              "          await google.colab.output.renderOutput(dataTable, element);\n",
              "          const docLink = document.createElement('div');\n",
              "          docLink.innerHTML = docLinkHtml;\n",
              "          element.appendChild(docLink);\n",
              "        }\n",
              "      </script>\n",
              "    </div>\n",
              "  </div>\n",
              "  "
            ],
            "text/plain": [
              "    pattern  ind-probability\n",
              "0       AAA         0.000226\n",
              "1       AAB         0.000575\n",
              "2       AAC         0.000629\n",
              "3       AAD         0.000934\n",
              "4       AAE         0.000792\n",
              "..      ...              ...\n",
              "211     FFB         0.000413\n",
              "212     FFC         0.000452\n",
              "213     FFD         0.000671\n",
              "214     FFE         0.000569\n",
              "215     FFF         0.000138\n",
              "\n",
              "[216 rows x 2 columns]"
            ]
          },
          "metadata": {},
          "execution_count": 37
        }
      ]
    },
    {
      "cell_type": "markdown",
      "metadata": {
        "id": "1KqLYFy3wK5A"
      },
      "source": [
        "As we can see our new class returns in a data-frame the chains of patterns formed together with their respective joint probability.\n",
        "Let's plot this and see if there are any relevant features."
      ]
    },
    {
      "cell_type": "code",
      "metadata": {
        "colab": {
          "base_uri": "https://localhost:8080/",
          "height": 320
        },
        "id": "Hxgt5YDXx7wp",
        "outputId": "ea2dce0d-c795-455e-d9b1-ac860336eeea"
      },
      "source": [
        "plt.subplots(figsize=(10,5))\n",
        "sns.lineplot(data=df_ipatterns, x=df_ipatterns.index, y='ind-probability')\n",
        "plt.show()"
      ],
      "execution_count": 38,
      "outputs": [
        {
          "output_type": "display_data",
          "data": {
            "image/png": "[encoded data removed]",
            "text/plain": [
              "<Figure size 720x360 with 1 Axes>"
            ]
          },
          "metadata": {
            "needs_background": "light"
          }
        }
      ]
    },
    {
      "cell_type": "markdown",
      "metadata": {
        "id": "Ufhrn0Uay8b_"
      },
      "source": [
        "As expected, the probabilities are too weak to rely on. Moreover, their increments are minimal and always oscillate at low levels.\n",
        "\n",
        "The last graph of interest will be its distribution."
      ]
    },
    {
      "cell_type": "code",
      "metadata": {
        "colab": {
          "base_uri": "https://localhost:8080/",
          "height": 279
        },
        "id": "LD5saDb8zDWV",
        "outputId": "09c28049-1b59-4dbc-f97f-84b848af614c"
      },
      "source": [
        "plt.subplots(figsize=(8,4))\n",
        "sns.histplot(data=df_ipatterns, x='ind-probability', kde=True)\n",
        "plt.show()"
      ],
      "execution_count": 39,
      "outputs": [
        {
          "output_type": "display_data",
          "data": {
            "image/png": "[encoded data removed]",
            "text/plain": [
              "<Figure size 576x288 with 1 Axes>"
            ]
          },
          "metadata": {
            "needs_background": "light"
          }
        }
      ]
    },
    {
      "cell_type": "code",
      "metadata": {
        "colab": {
          "base_uri": "https://localhost:8080/",
          "height": 300
        },
        "id": "mfP7ywQEz-my",
        "outputId": "cd0f689e-c86f-45f0-f74d-887434359344"
      },
      "source": [
        "df_ipatterns.describe()"
      ],
      "execution_count": 40,
      "outputs": [
        {
          "output_type": "execute_result",
          "data": {
            "text/html": [
              "\n",
              "  <div id=\"df-7f83451e-f586-4457-b9ae-caef90543e1b\">\n",
              "    <div class=\"colab-df-container\">\n",
              "      <div>\n",
              "<style scoped>\n",
              "    .dataframe tbody tr th:only-of-type {\n",
              "        vertical-align: middle;\n",
              "    }\n",
              "\n",
              "    .dataframe tbody tr th {\n",
              "        vertical-align: top;\n",
              "    }\n",
              "\n",
              "    .dataframe thead th {\n",
              "        text-align: right;\n",
              "    }\n",
              "</style>\n",
              "<table border=\"1\" class=\"dataframe\">\n",
              "  <thead>\n",
              "    <tr style=\"text-align: right;\">\n",
              "      <th></th>\n",
              "      <th>ind-probability</th>\n",
              "    </tr>\n",
              "  </thead>\n",
              "  <tbody>\n",
              "    <tr>\n",
              "      <th>count</th>\n",
              "      <td>216.000000</td>\n",
              "    </tr>\n",
              "    <tr>\n",
              "      <th>mean</th>\n",
              "      <td>0.003397</td>\n",
              "    </tr>\n",
              "    <tr>\n",
              "      <th>std</th>\n",
              "      <td>0.003230</td>\n",
              "    </tr>\n",
              "    <tr>\n",
              "      <th>min</th>\n",
              "      <td>0.000138</td>\n",
              "    </tr>\n",
              "    <tr>\n",
              "      <th>25%</th>\n",
              "      <td>0.000934</td>\n",
              "    </tr>\n",
              "    <tr>\n",
              "      <th>50%</th>\n",
              "      <td>0.002203</td>\n",
              "    </tr>\n",
              "    <tr>\n",
              "      <th>75%</th>\n",
              "      <td>0.005121</td>\n",
              "    </tr>\n",
              "    <tr>\n",
              "      <th>max</th>\n",
              "      <td>0.015937</td>\n",
              "    </tr>\n",
              "  </tbody>\n",
              "</table>\n",
              "</div>\n",
              "      <button class=\"colab-df-convert\" onclick=\"convertToInteractive('df-7f83451e-f586-4457-b9ae-caef90543e1b')\"\n",
              "              title=\"Convert this dataframe to an interactive table.\"\n",
              "              style=\"display:none;\">\n",
              "        \n",
              "  <svg xmlns=\"http://www.w3.org/2000/svg\" height=\"24px\"viewBox=\"0 0 24 24\"\n",
              "       width=\"24px\">\n",
              "    <path d=\"M0 0h24v24H0V0z\" fill=\"none\"/>\n",
              "    <path d=\"M18.56 5.44l.94 2.06.94-2.06 2.06-.94-2.06-.94-.94-2.06-.94 2.06-2.06.94zm-11 1L8.5 8.5l.94-2.06 2.06-.94-2.06-.94L8.5 2.5l-.94 2.06-2.06.94zm10 10l.94 2.06.94-2.06 2.06-.94-2.06-.94-.94-2.06-.94 2.06-2.06.94z\"/><path d=\"M17.41 7.96l-1.37-1.37c-.4-.4-.92-.59-1.43-.59-.52 0-1.04.2-1.43.59L10.3 9.45l-7.72 7.72c-.78.78-.78 2.05 0 2.83L4 21.41c.39.39.9.59 1.41.59.51 0 1.02-.2 1.41-.59l7.78-7.78 2.81-2.81c.8-.78.8-2.07 0-2.86zM5.41 20L4 18.59l7.72-7.72 1.47 1.35L5.41 20z\"/>\n",
              "  </svg>\n",
              "      </button>\n",
              "      \n",
              "  <style>\n",
              "    .colab-df-container {\n",
              "      display:flex;\n",
              "      flex-wrap:wrap;\n",
              "      gap: 12px;\n",
              "    }\n",
              "\n",
              "    .colab-df-convert {\n",
              "      background-color: #E8F0FE;\n",
              "      border: none;\n",
              "      border-radius: 50%;\n",
              "      cursor: pointer;\n",
              "      display: none;\n",
              "      fill: #1967D2;\n",
              "      height: 32px;\n",
              "      padding: 0 0 0 0;\n",
              "      width: 32px;\n",
              "    }\n",
              "\n",
              "    .colab-df-convert:hover {\n",
              "      background-color: #E2EBFA;\n",
              "      box-shadow: 0px 1px 2px rgba(60, 64, 67, 0.3), 0px 1px 3px 1px rgba(60, 64, 67, 0.15);\n",
              "      fill: #174EA6;\n",
              "    }\n",
              "\n",
              "    [theme=dark] .colab-df-convert {\n",
              "      background-color: #3B4455;\n",
              "      fill: #D2E3FC;\n",
              "    }\n",
              "\n",
              "    [theme=dark] .colab-df-convert:hover {\n",
              "      background-color: #434B5C;\n",
              "      box-shadow: 0px 1px 3px 1px rgba(0, 0, 0, 0.15);\n",
              "      filter: drop-shadow(0px 1px 2px rgba(0, 0, 0, 0.3));\n",
              "      fill: #FFFFFF;\n",
              "    }\n",
              "  </style>\n",
              "\n",
              "      <script>\n",
              "        const buttonEl =\n",
              "          document.querySelector('#df-7f83451e-f586-4457-b9ae-caef90543e1b button.colab-df-convert');\n",
              "        buttonEl.style.display =\n",
              "          google.colab.kernel.accessAllowed ? 'block' : 'none';\n",
              "\n",
              "        async function convertToInteractive(key) {\n",
              "          const element = document.querySelector('#df-7f83451e-f586-4457-b9ae-caef90543e1b');\n",
              "          const dataTable =\n",
              "            await google.colab.kernel.invokeFunction('convertToInteractive',\n",
              "                                                     [key], {});\n",
              "          if (!dataTable) return;\n",
              "\n",
              "          const docLinkHtml = 'Like what you see? Visit the ' +\n",
              "            '<a target=\"_blank\" href=https://colab.research.google.com/notebooks/data_table.ipynb>data table notebook</a>'\n",
              "            + ' to learn more about interactive tables.';\n",
              "          element.innerHTML = '';\n",
              "          dataTable['output_type'] = 'display_data';\n",
              "          await google.colab.output.renderOutput(dataTable, element);\n",
              "          const docLink = document.createElement('div');\n",
              "          docLink.innerHTML = docLinkHtml;\n",
              "          element.appendChild(docLink);\n",
              "        }\n",
              "      </script>\n",
              "    </div>\n",
              "  </div>\n",
              "  "
            ],
            "text/plain": [
              "       ind-probability\n",
              "count       216.000000\n",
              "mean          0.003397\n",
              "std           0.003230\n",
              "min           0.000138\n",
              "25%           0.000934\n",
              "50%           0.002203\n",
              "75%           0.005121\n",
              "max           0.015937"
            ]
          },
          "metadata": {},
          "execution_count": 40
        }
      ]
    },
    {
      "cell_type": "markdown",
      "metadata": {
        "id": "X7qjFaOXUCfW"
      },
      "source": [
        "Let us prove that the probability of intersection of events ignores the order of our pattern-chain."
      ]
    },
    {
      "cell_type": "code",
      "metadata": {
        "colab": {
          "base_uri": "https://localhost:8080/",
          "height": 143
        },
        "id": "LXupd2TTUDe8",
        "outputId": "40d49c82-72e5-4c3f-9520-1a5cd5d516e7"
      },
      "source": [
        "df_ipatterns[(df_ipatterns['pattern']=='AAB') | (df_ipatterns['pattern']=='ABA') | (df_ipatterns['pattern']=='BAA')]"
      ],
      "execution_count": 41,
      "outputs": [
        {
          "output_type": "execute_result",
          "data": {
            "text/html": [
              "\n",
              "  <div id=\"df-3c0c8fb4-6325-43a9-ada3-9e306b1f9c83\">\n",
              "    <div class=\"colab-df-container\">\n",
              "      <div>\n",
              "<style scoped>\n",
              "    .dataframe tbody tr th:only-of-type {\n",
              "        vertical-align: middle;\n",
              "    }\n",
              "\n",
              "    .dataframe tbody tr th {\n",
              "        vertical-align: top;\n",
              "    }\n",
              "\n",
              "    .dataframe thead th {\n",
              "        text-align: right;\n",
              "    }\n",
              "</style>\n",
              "<table border=\"1\" class=\"dataframe\">\n",
              "  <thead>\n",
              "    <tr style=\"text-align: right;\">\n",
              "      <th></th>\n",
              "      <th>pattern</th>\n",
              "      <th>ind-probability</th>\n",
              "    </tr>\n",
              "  </thead>\n",
              "  <tbody>\n",
              "    <tr>\n",
              "      <th>1</th>\n",
              "      <td>AAB</td>\n",
              "      <td>0.000575</td>\n",
              "    </tr>\n",
              "    <tr>\n",
              "      <th>6</th>\n",
              "      <td>ABA</td>\n",
              "      <td>0.000575</td>\n",
              "    </tr>\n",
              "    <tr>\n",
              "      <th>36</th>\n",
              "      <td>BAA</td>\n",
              "      <td>0.000575</td>\n",
              "    </tr>\n",
              "  </tbody>\n",
              "</table>\n",
              "</div>\n",
              "      <button class=\"colab-df-convert\" onclick=\"convertToInteractive('df-3c0c8fb4-6325-43a9-ada3-9e306b1f9c83')\"\n",
              "              title=\"Convert this dataframe to an interactive table.\"\n",
              "              style=\"display:none;\">\n",
              "        \n",
              "  <svg xmlns=\"http://www.w3.org/2000/svg\" height=\"24px\"viewBox=\"0 0 24 24\"\n",
              "       width=\"24px\">\n",
              "    <path d=\"M0 0h24v24H0V0z\" fill=\"none\"/>\n",
              "    <path d=\"M18.56 5.44l.94 2.06.94-2.06 2.06-.94-2.06-.94-.94-2.06-.94 2.06-2.06.94zm-11 1L8.5 8.5l.94-2.06 2.06-.94-2.06-.94L8.5 2.5l-.94 2.06-2.06.94zm10 10l.94 2.06.94-2.06 2.06-.94-2.06-.94-.94-2.06-.94 2.06-2.06.94z\"/><path d=\"M17.41 7.96l-1.37-1.37c-.4-.4-.92-.59-1.43-.59-.52 0-1.04.2-1.43.59L10.3 9.45l-7.72 7.72c-.78.78-.78 2.05 0 2.83L4 21.41c.39.39.9.59 1.41.59.51 0 1.02-.2 1.41-.59l7.78-7.78 2.81-2.81c.8-.78.8-2.07 0-2.86zM5.41 20L4 18.59l7.72-7.72 1.47 1.35L5.41 20z\"/>\n",
              "  </svg>\n",
              "      </button>\n",
              "      \n",
              "  <style>\n",
              "    .colab-df-container {\n",
              "      display:flex;\n",
              "      flex-wrap:wrap;\n",
              "      gap: 12px;\n",
              "    }\n",
              "\n",
              "    .colab-df-convert {\n",
              "      background-color: #E8F0FE;\n",
              "      border: none;\n",
              "      border-radius: 50%;\n",
              "      cursor: pointer;\n",
              "      display: none;\n",
              "      fill: #1967D2;\n",
              "      height: 32px;\n",
              "      padding: 0 0 0 0;\n",
              "      width: 32px;\n",
              "    }\n",
              "\n",
              "    .colab-df-convert:hover {\n",
              "      background-color: #E2EBFA;\n",
              "      box-shadow: 0px 1px 2px rgba(60, 64, 67, 0.3), 0px 1px 3px 1px rgba(60, 64, 67, 0.15);\n",
              "      fill: #174EA6;\n",
              "    }\n",
              "\n",
              "    [theme=dark] .colab-df-convert {\n",
              "      background-color: #3B4455;\n",
              "      fill: #D2E3FC;\n",
              "    }\n",
              "\n",
              "    [theme=dark] .colab-df-convert:hover {\n",
              "      background-color: #434B5C;\n",
              "      box-shadow: 0px 1px 3px 1px rgba(0, 0, 0, 0.15);\n",
              "      filter: drop-shadow(0px 1px 2px rgba(0, 0, 0, 0.3));\n",
              "      fill: #FFFFFF;\n",
              "    }\n",
              "  </style>\n",
              "\n",
              "      <script>\n",
              "        const buttonEl =\n",
              "          document.querySelector('#df-3c0c8fb4-6325-43a9-ada3-9e306b1f9c83 button.colab-df-convert');\n",
              "        buttonEl.style.display =\n",
              "          google.colab.kernel.accessAllowed ? 'block' : 'none';\n",
              "\n",
              "        async function convertToInteractive(key) {\n",
              "          const element = document.querySelector('#df-3c0c8fb4-6325-43a9-ada3-9e306b1f9c83');\n",
              "          const dataTable =\n",
              "            await google.colab.kernel.invokeFunction('convertToInteractive',\n",
              "                                                     [key], {});\n",
              "          if (!dataTable) return;\n",
              "\n",
              "          const docLinkHtml = 'Like what you see? Visit the ' +\n",
              "            '<a target=\"_blank\" href=https://colab.research.google.com/notebooks/data_table.ipynb>data table notebook</a>'\n",
              "            + ' to learn more about interactive tables.';\n",
              "          element.innerHTML = '';\n",
              "          dataTable['output_type'] = 'display_data';\n",
              "          await google.colab.output.renderOutput(dataTable, element);\n",
              "          const docLink = document.createElement('div');\n",
              "          docLink.innerHTML = docLinkHtml;\n",
              "          element.appendChild(docLink);\n",
              "        }\n",
              "      </script>\n",
              "    </div>\n",
              "  </div>\n",
              "  "
            ],
            "text/plain": [
              "   pattern  ind-probability\n",
              "1      AAB         0.000575\n",
              "6      ABA         0.000575\n",
              "36     BAA         0.000575"
            ]
          },
          "metadata": {},
          "execution_count": 41
        }
      ]
    },
    {
      "cell_type": "markdown",
      "metadata": {
        "id": "T9CjlHP_UTuG"
      },
      "source": [
        "This is what we said at the beginning, and as we can see it was demonstrated. The probability of independent events is insufficient to conclude our study due to the nature of the market... although each price is independent of the previous one, we must take into account the order as an additional step."
      ]
    },
    {
      "cell_type": "markdown",
      "metadata": {
        "id": "rK0OQqdz0Odq"
      },
      "source": [
        "**Conclusion**\n",
        "\n",
        "Both the average and the distribution is irrelevant, and therefore we conclude the following; if we want to make a system based on these patterns we must analyze and think carefully all of the above. Understand that in the real world there are risks associated with the available capital of our account and the time frame in which we move (since it would not make sense to make a trading system on a long-term time scale if our account does not support such spreads ...), such patterns will be based on the last said, and will fail even more if the intervals that form them are excessively large making us believe that we are facing the discovery of the century when in fact they do not correctly represent the average price intervals of the market.\n",
        "\n",
        "An expert system incapable of correctly classifying the order of the patterns it seeks to exploit is a system doomed to failure, if we continue with this idea we already know what results we may find in the future. Therefore we should never trust anyone who claims to have found the holy grail of market patterns, they would be liars, mathematics is our witness and great teacher in this search."
      ]
    },
    {
      "cell_type": "markdown",
      "metadata": {
        "id": "0QV-Mke95e-W"
      },
      "source": [
        "# Conditional probability and Bayes' theorem for dependent chains of events"
      ]
    },
    {
      "cell_type": "markdown",
      "metadata": {
        "id": "h8B5APVb5ijs"
      },
      "source": [
        "In the previous section we talked about independent events and how to use probability and combinatorics to model such chains of events, we also demonstrated the danger of using such theory alone. In the following we will complete the missing mathematical notions and definitions in order to conclude our analysis on the efficiency of patterns in the market and how convenient they are to use in a theoretical trading system, let's start with the definition of conditional probability for dependent events followed by an explanation."
      ]
    },
    {
      "cell_type": "markdown",
      "metadata": {
        "id": "mp9gZr_gbW3q"
      },
      "source": [
        "![prob_condicional.png](data:image/png;base64,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)"
      ]
    },
    {
      "cell_type": "markdown",
      "metadata": {
        "id": "BhzoOHt_bXGr"
      },
      "source": [
        "This is the simplest form of the rule for knowing the probability of two dependent events, which is read as \"*the probability of A given B*\". The following tree diagram explains this, we will continue with the explanation."
      ]
    },
    {
      "cell_type": "markdown",
      "metadata": {
        "id": "5QV8K7Kafihi"
      },
      "source": [
        "![prob_condicional_dos_eventos.png](data:image/png;base64,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)"
      ]
    },
    {
      "cell_type": "markdown",
      "metadata": {
        "id": "9A955KgmbXjp"
      },
      "source": [
        "In other words, what we are looking for is an ordered sequence of events, so we can abstractly represent all the possible \"chains\" (dependent events) of probabilities. However this is not all, because in the markets there are not only two price patterns but thanks to this scheme we managed to simplify the base model, now we only need to generalize the concept of conditional probability.\n",
        "\n",
        "**Bayes' Theorem**"
      ]
    },
    {
      "cell_type": "markdown",
      "metadata": {
        "id": "G8yt16hPh2EO"
      },
      "source": [
        "![teo_de_bayes.png](data:image/png;base64,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)"
      ]
    },
    {
      "cell_type": "markdown",
      "metadata": {
        "id": "KDHp0pvVkSLy"
      },
      "source": [
        "In summary:\n",
        "```\n",
        "Bayes' theorem allows to relate the conditional probabilities of an event A given an event B with the probability of B given A.\n",
        "In this way the formula described above generalizes the events regardless of their number, the denominator is the total probability of the events we are looking for.\n",
        "In other words, with this formula we can know the probability of the occurrence of a hypothesis 'A' given that we observe evidence 'B'.\n",
        "This does not tell us the probability of the events themselves, but how likely it is that one will occur given that the first one was observed.\n",
        "```\n",
        "Now that we understand this there is one last notion that we must complement in order to model the market correctly, let's look at the Markovian property."
      ]
    },
    {
      "cell_type": "markdown",
      "metadata": {
        "id": "NdDtwVTf8tHD"
      },
      "source": [
        "![markov_chain_prop.png](data:image/png;base64,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)"
      ]
    },
    {
      "cell_type": "markdown",
      "metadata": {
        "id": "JeJv6K4P8joC"
      },
      "source": [
        "This property tells us that it is not necessary to know all the past (historical data) to explain the future, it is enough to have the current closing price of the market. This is relevant because in this way we can say that the events are independent in the sense that a price (or price interval) does not influence the formation of the next, so we will have a much simpler model as this implies that markets have no memory.\n",
        "\n",
        "With this in mind we can now write the function that calculates the probability of a chain of patterns using Bayes' theorem and the law of total probability.\n",
        "\n",
        "**Bayes function for chain of events: Conditional probability**"
      ]
    },
    {
      "cell_type": "code",
      "metadata": {
        "colab": {
          "base_uri": "https://localhost:8080/"
        },
        "id": "VWMsbUv3uedw",
        "outputId": "f05fbb1d-d645-4af2-c77b-94b18d8a0b2f"
      },
      "source": [
        "def conditional_prob(chain, probs_dict):\n",
        "  p = 1\n",
        "  for c in chain:\n",
        "    p*= probs_dict[c]\n",
        "  return p\n",
        "\n",
        "probs_dict = {'A':0.5, 'B':0.5}\n",
        "chain = ['A', 'B']\n",
        "conditional_prob(chain, probs_dict)"
      ],
      "execution_count": 42,
      "outputs": [
        {
          "output_type": "execute_result",
          "data": {
            "text/plain": [
              "0.25"
            ]
          },
          "metadata": {},
          "execution_count": 42
        }
      ]
    },
    {
      "cell_type": "markdown",
      "metadata": {
        "id": "ZDyhG9T4wjPO"
      },
      "source": [
        "As we can see this first function calculates the joint probabilities, the example deals with a simple chain composed by two possible events A and B with their associated probabilities (necessary to execute the calculations).\n",
        "\n",
        "**Bayes function for chain of events: Law of total probability**"
      ]
    },
    {
      "cell_type": "code",
      "metadata": {
        "colab": {
          "base_uri": "https://localhost:8080/"
        },
        "id": "KW1kFGf8qX1s",
        "outputId": "5130de0c-8b56-45dc-e2d8-a178610894a7"
      },
      "source": [
        "def total_prob_secs(sec, probs_dict):\n",
        "  l = len(sec)\n",
        "  last = sec[-1]\n",
        "  secs = []\n",
        "  for item in product(probs_dict.keys(), repeat=l):\n",
        "    # agregamos el item solo si el final de la cadena tiene el evento correspondiente\n",
        "    # por ejemplo si buscamos \"A|B\" solo las que terminen en B seran agregadas\n",
        "    if item[-1] is last:\n",
        "      secs.append(item)\n",
        "  \n",
        "  return secs\n",
        "\n",
        "def total_prob(secs, probs_dict):\n",
        "  total_prob = 0\n",
        "  for s in secs:\n",
        "    p = 1\n",
        "    for i in s: p*= probs_dict[i]\n",
        "    total_prob+= p\n",
        "\n",
        "  return total_prob\n",
        "\n",
        "probs_dict = {'A':0.5, 'B':0.5}\n",
        "chain = ['A', 'B']\n",
        "total_secs = total_prob_secs(chain, probs_dict)\n",
        "\n",
        "print(\"total possible sequences/paths:{}\".format(total_secs))\n",
        "print(\"total probability:{}\".format( total_prob(total_secs, probs_dict) ))"
      ],
      "execution_count": 43,
      "outputs": [
        {
          "output_type": "stream",
          "name": "stdout",
          "text": [
            "total possible sequences/paths:[('A', 'B'), ('B', 'B')]\n",
            "total probability:0.5\n"
          ]
        }
      ]
    },
    {
      "cell_type": "markdown",
      "metadata": {
        "id": "-vq1_7MgxTyu"
      },
      "source": [
        "This is the denominator of the formula, which corresponds to the total probability. We need to first obtain all possible sequences of paths given the sequence of events to calculate, finally we multiply and apply the summation(per iteration of each chain).\n",
        "\n",
        "Putting all this together I will call the final function **Bayes**."
      ]
    },
    {
      "cell_type": "code",
      "metadata": {
        "colab": {
          "base_uri": "https://localhost:8080/"
        },
        "id": "V6KgOMxJuj-F",
        "outputId": "b3ba28cb-1102-41a5-a543-a54b4bc368a9"
      },
      "source": [
        "def Bayes(sec, probs_dict):\n",
        "  def conditional_prob(sec, probs_dict):\n",
        "    p = 1\n",
        "    for s in sec:\n",
        "      p*= probs_dict[s]\n",
        "    return p\n",
        "\n",
        "  def total_prob_secs(sec, probs_dict):\n",
        "    l = len(sec)\n",
        "    last = sec[-1]\n",
        "    secs = []\n",
        "    for item in product(probs_dict.keys(), repeat=l):\n",
        "      if item[-1] is last:\n",
        "        secs.append(item)\n",
        "    \n",
        "    return secs\n",
        "\n",
        "  def total_prob(secs, probs_dict):\n",
        "    total_prob = 0\n",
        "    for s in secs:\n",
        "      p = 1\n",
        "      for i in s:\n",
        "        p*= probs_dict[i]\n",
        "      total_prob+= p\n",
        "\n",
        "    return total_prob\n",
        "\n",
        "  return conditional_prob(sec, probs_dict) / total_prob(total_prob_secs(sec, probs_dict), probs_dict)\n",
        "\n",
        "print('Prob A|B:', Bayes(['A', 'B'], {'A':0.5, 'B':0.5, 'C':0.1}))\n",
        "print('Prob A|B,C:', Bayes(['A', 'B', 'C'], {'A':0.5, 'B':0.5, 'C':0.1}))"
      ],
      "execution_count": 44,
      "outputs": [
        {
          "output_type": "stream",
          "name": "stdout",
          "text": [
            "Prob A|B: 0.45454545454545453\n",
            "Prob A|B,C: 0.20661157024793386\n"
          ]
        }
      ]
    },
    {
      "cell_type": "markdown",
      "metadata": {
        "id": "EcbJHxPczyrm"
      },
      "source": [
        "*Note: The parameter passed to the function is read as 'A' given 'B', given 'C'. That is, it respects the order of the formula.\n",
        "\n",
        "Using everything we have learned let's implement a class which we will call **DEChains**, at this point we will recycle some of the functions and classes already created. Remember that the generation of price ranges is mandatory, this is done by the class **PatternsEngine** which will calculate the probabilities of the patterns in chains of length 1 (as we saw in the section of *Chain generator class*), these will be used to form all possible sequences making use of combinatorics. At the same time each pattern will have implicitly an associated interval which is coded and can be obtained if desired, this is very important because if we want to create custom intervals for us (and not for the function itself) we must pass such parameters to the class.\n",
        "\n",
        "Remember that **PatternsEngine** inherits the methods of the base class **PatternsChainsGenerator** which executes the calculations explained and tested in the section of *Encoding patterns*, that is; the interval or delta that composes each candle (each pattern) and the total ranges taken using a number of N deviations."
      ]
    },
    {
      "cell_type": "code",
      "metadata": {
        "id": "smFjAIx7kG6c"
      },
      "source": [
        "class DEChains():\n",
        "  def __init__(self, df_candles):\n",
        "    pse = PatternsEngine(df_candles)\n",
        "    self.__patterns = pse.compute()\n",
        "    self.__ep_dict = None\n",
        "\n",
        "  def __encrypt_probs(self, patterns_dict):\n",
        "    letters = ['A','B','C','D','E','F','G','H','I','J','K','L','M','N','O','P','Q','R','S','T','U','V','W','X','Y','Z']\n",
        "\n",
        "    n_letters = len(letters)\n",
        "    n_bodies= len(bodies)\n",
        "    i = 0\n",
        "    level = 1\n",
        "    code = {}\n",
        "    for p in patterns_dict.values():\n",
        "      if i >= n_letters:\n",
        "        i = 0\n",
        "        level+= 1\n",
        "      c = ''\n",
        "      for _ in range(level): c+= letters[i]\n",
        "      code[c] = p\n",
        "      i+= 1\n",
        "    return code\n",
        "\n",
        "  def __bayes(self, sec, probs_dict):\n",
        "    def conditional_prob(sec, probs_dict):\n",
        "      p = 1\n",
        "      for s in sec:\n",
        "        p*= probs_dict[s]\n",
        "      return p\n",
        "\n",
        "    def total_prob_secs(sec, probs_dict):\n",
        "      l = len(sec)\n",
        "      last = sec[-1]\n",
        "      secs = []\n",
        "      for item in product(probs_dict.keys(), repeat=l):\n",
        "        # agregamos el item solo si el final de la cadena tiene el evento correspondiente\n",
        "        # por ejemplo si buscamos \"A|B\" solo las que terminen en B seran agregadas\n",
        "        if item[-1] is last:\n",
        "          secs.append(item)\n",
        "      \n",
        "      return secs\n",
        "\n",
        "    def total_prob(secs, probs_dict):\n",
        "      total_prob = 0\n",
        "      for s in secs:\n",
        "        p = 1\n",
        "        for i in s:\n",
        "          p*= probs_dict[i]\n",
        "        total_prob+= p\n",
        "\n",
        "      return total_prob\n",
        "\n",
        "    return conditional_prob(sec, probs_dict) / total_prob(total_prob_secs(sec, probs_dict), probs_dict)\n",
        "\n",
        "  def predict_chain(self, chain):\n",
        "    self.__ep_dict = self.__encrypt_probs(self.__patterns)\n",
        "    return self.__bayes(chain, self.__ep_dict)\n",
        "\n",
        "  def predict_chains(self, chains_len):\n",
        "    prob_dict = self.__encrypt_probs(self.__patterns)\n",
        "    chains = [item for item in product(prob_dict, repeat=chains_len)]\n",
        "    probs = []\n",
        "    for c in chains:\n",
        "      probs.append(self.__bayes(c, prob_dict))\n",
        "    df = pd.DataFrame(data=chains)\n",
        "    df[\"Probability\"] = probs\n",
        "    return df\n",
        "\n",
        "  def total_posible_chains(self): return len([item for item in product(self.__ep_dict.keys(), repeat=chains_len)])\n",
        "\n",
        "  def get_prob_matrix(self):\n",
        "    return pd.DataFrame(data=self.__encrypt_probs(self.__patterns).items(), columns=['Pattern', 'Probability'])"
      ],
      "execution_count": 45,
      "outputs": []
    },
    {
      "cell_type": "markdown",
      "metadata": {
        "id": "DW996X_mvv3j"
      },
      "source": [
        "As a first basic example we create the object of the class and calculate a single conditional probability string, the only parameter passed will represent an event of type A|B,C.\n",
        "\n",
        "That is, probability of pattern A given that pattern B happened and given that pattern C happened first (respecting the order)."
      ]
    },
    {
      "cell_type": "code",
      "metadata": {
        "colab": {
          "base_uri": "https://localhost:8080/"
        },
        "id": "xo09kwM9kWUd",
        "outputId": "ec5b40aa-a82c-49cd-f0fb-efceaf93b80e"
      },
      "source": [
        "de_chains = DEChains(df_candles[\"Delta\"])\n",
        "de_chains.predict_chain(['A','B','C'])"
      ],
      "execution_count": 46,
      "outputs": [
        {
          "output_type": "execute_result",
          "data": {
            "text/plain": [
              "0.011605115565991968"
            ]
          },
          "metadata": {},
          "execution_count": 46
        }
      ]
    },
    {
      "cell_type": "markdown",
      "metadata": {
        "id": "l0CR3omHbur8"
      },
      "source": [
        "Let's make the calculation more complex, let's calculate all possible pattern chains with length=3."
      ]
    },
    {
      "cell_type": "code",
      "metadata": {
        "colab": {
          "base_uri": "https://localhost:8080/",
          "height": 206
        },
        "id": "BBkThG_3ZaT7",
        "outputId": "9d7044ae-a27d-48f7-8bc9-0af397632709"
      },
      "source": [
        "df_chains = de_chains.predict_chains(3)\n",
        "df_chains.head()"
      ],
      "execution_count": 47,
      "outputs": [
        {
          "output_type": "execute_result",
          "data": {
            "text/html": [
              "\n",
              "  <div id=\"df-5d1dad0e-0d18-45c9-a89f-d01f9e55cbe8\">\n",
              "    <div class=\"colab-df-container\">\n",
              "      <div>\n",
              "<style scoped>\n",
              "    .dataframe tbody tr th:only-of-type {\n",
              "        vertical-align: middle;\n",
              "    }\n",
              "\n",
              "    .dataframe tbody tr th {\n",
              "        vertical-align: top;\n",
              "    }\n",
              "\n",
              "    .dataframe thead th {\n",
              "        text-align: right;\n",
              "    }\n",
              "</style>\n",
              "<table border=\"1\" class=\"dataframe\">\n",
              "  <thead>\n",
              "    <tr style=\"text-align: right;\">\n",
              "      <th></th>\n",
              "      <th>0</th>\n",
              "      <th>1</th>\n",
              "      <th>2</th>\n",
              "      <th>Probability</th>\n",
              "    </tr>\n",
              "  </thead>\n",
              "  <tbody>\n",
              "    <tr>\n",
              "      <th>0</th>\n",
              "      <td>A</td>\n",
              "      <td>A</td>\n",
              "      <td>A</td>\n",
              "      <td>0.004563</td>\n",
              "    </tr>\n",
              "    <tr>\n",
              "      <th>1</th>\n",
              "      <td>A</td>\n",
              "      <td>A</td>\n",
              "      <td>B</td>\n",
              "      <td>0.004563</td>\n",
              "    </tr>\n",
              "    <tr>\n",
              "      <th>2</th>\n",
              "      <td>A</td>\n",
              "      <td>A</td>\n",
              "      <td>C</td>\n",
              "      <td>0.004563</td>\n",
              "    </tr>\n",
              "    <tr>\n",
              "      <th>3</th>\n",
              "      <td>A</td>\n",
              "      <td>A</td>\n",
              "      <td>D</td>\n",
              "      <td>0.004563</td>\n",
              "    </tr>\n",
              "    <tr>\n",
              "      <th>4</th>\n",
              "      <td>A</td>\n",
              "      <td>A</td>\n",
              "      <td>E</td>\n",
              "      <td>0.004563</td>\n",
              "    </tr>\n",
              "  </tbody>\n",
              "</table>\n",
              "</div>\n",
              "      <button class=\"colab-df-convert\" onclick=\"convertToInteractive('df-5d1dad0e-0d18-45c9-a89f-d01f9e55cbe8')\"\n",
              "              title=\"Convert this dataframe to an interactive table.\"\n",
              "              style=\"display:none;\">\n",
              "        \n",
              "  <svg xmlns=\"http://www.w3.org/2000/svg\" height=\"24px\"viewBox=\"0 0 24 24\"\n",
              "       width=\"24px\">\n",
              "    <path d=\"M0 0h24v24H0V0z\" fill=\"none\"/>\n",
              "    <path d=\"M18.56 5.44l.94 2.06.94-2.06 2.06-.94-2.06-.94-.94-2.06-.94 2.06-2.06.94zm-11 1L8.5 8.5l.94-2.06 2.06-.94-2.06-.94L8.5 2.5l-.94 2.06-2.06.94zm10 10l.94 2.06.94-2.06 2.06-.94-2.06-.94-.94-2.06-.94 2.06-2.06.94z\"/><path d=\"M17.41 7.96l-1.37-1.37c-.4-.4-.92-.59-1.43-.59-.52 0-1.04.2-1.43.59L10.3 9.45l-7.72 7.72c-.78.78-.78 2.05 0 2.83L4 21.41c.39.39.9.59 1.41.59.51 0 1.02-.2 1.41-.59l7.78-7.78 2.81-2.81c.8-.78.8-2.07 0-2.86zM5.41 20L4 18.59l7.72-7.72 1.47 1.35L5.41 20z\"/>\n",
              "  </svg>\n",
              "      </button>\n",
              "      \n",
              "  <style>\n",
              "    .colab-df-container {\n",
              "      display:flex;\n",
              "      flex-wrap:wrap;\n",
              "      gap: 12px;\n",
              "    }\n",
              "\n",
              "    .colab-df-convert {\n",
              "      background-color: #E8F0FE;\n",
              "      border: none;\n",
              "      border-radius: 50%;\n",
              "      cursor: pointer;\n",
              "      display: none;\n",
              "      fill: #1967D2;\n",
              "      height: 32px;\n",
              "      padding: 0 0 0 0;\n",
              "      width: 32px;\n",
              "    }\n",
              "\n",
              "    .colab-df-convert:hover {\n",
              "      background-color: #E2EBFA;\n",
              "      box-shadow: 0px 1px 2px rgba(60, 64, 67, 0.3), 0px 1px 3px 1px rgba(60, 64, 67, 0.15);\n",
              "      fill: #174EA6;\n",
              "    }\n",
              "\n",
              "    [theme=dark] .colab-df-convert {\n",
              "      background-color: #3B4455;\n",
              "      fill: #D2E3FC;\n",
              "    }\n",
              "\n",
              "    [theme=dark] .colab-df-convert:hover {\n",
              "      background-color: #434B5C;\n",
              "      box-shadow: 0px 1px 3px 1px rgba(0, 0, 0, 0.15);\n",
              "      filter: drop-shadow(0px 1px 2px rgba(0, 0, 0, 0.3));\n",
              "      fill: #FFFFFF;\n",
              "    }\n",
              "  </style>\n",
              "\n",
              "      <script>\n",
              "        const buttonEl =\n",
              "          document.querySelector('#df-5d1dad0e-0d18-45c9-a89f-d01f9e55cbe8 button.colab-df-convert');\n",
              "        buttonEl.style.display =\n",
              "          google.colab.kernel.accessAllowed ? 'block' : 'none';\n",
              "\n",
              "        async function convertToInteractive(key) {\n",
              "          const element = document.querySelector('#df-5d1dad0e-0d18-45c9-a89f-d01f9e55cbe8');\n",
              "          const dataTable =\n",
              "            await google.colab.kernel.invokeFunction('convertToInteractive',\n",
              "                                                     [key], {});\n",
              "          if (!dataTable) return;\n",
              "\n",
              "          const docLinkHtml = 'Like what you see? Visit the ' +\n",
              "            '<a target=\"_blank\" href=https://colab.research.google.com/notebooks/data_table.ipynb>data table notebook</a>'\n",
              "            + ' to learn more about interactive tables.';\n",
              "          element.innerHTML = '';\n",
              "          dataTable['output_type'] = 'display_data';\n",
              "          await google.colab.output.renderOutput(dataTable, element);\n",
              "          const docLink = document.createElement('div');\n",
              "          docLink.innerHTML = docLinkHtml;\n",
              "          element.appendChild(docLink);\n",
              "        }\n",
              "      </script>\n",
              "    </div>\n",
              "  </div>\n",
              "  "
            ],
            "text/plain": [
              "   0  1  2  Probability\n",
              "0  A  A  A     0.004563\n",
              "1  A  A  B     0.004563\n",
              "2  A  A  C     0.004563\n",
              "3  A  A  D     0.004563\n",
              "4  A  A  E     0.004563"
            ]
          },
          "metadata": {},
          "execution_count": 47
        }
      ]
    },
    {
      "cell_type": "markdown",
      "metadata": {
        "id": "ZytysqZMcAte"
      },
      "source": [
        "Let's plot the different possible probability chains along with their respective distributions, and we will repeat these complex calculations for chains with lengths of: 2, 3 and 4."
      ]
    },
    {
      "cell_type": "code",
      "metadata": {
        "colab": {
          "base_uri": "https://localhost:8080/",
          "height": 516
        },
        "id": "a9Ha8fdYcMYc",
        "outputId": "f2a21805-f014-4208-dea4-3e979bf3d1a1"
      },
      "source": [
        "def plot_chains(df_chains):\n",
        "  _, axs = plt.subplots(figsize=(12, 7), ncols=2, nrows=3)\n",
        "  l = len(df_chains)\n",
        "  for i in range(l):\n",
        "    c = df_chains[i]\n",
        "    sns.lineplot(data=c, x=c.index, y='Probability', ax=axs[i][0])\n",
        "    sns.histplot(data=c['Probability'], kde=True,  ax=axs[i][1])\n",
        "  plt.tight_layout()\n",
        "  plt.show()\n",
        "\n",
        "df_chains_ = []\n",
        "for i in [2, 3, 4]:\n",
        "  df_chains_.append(de_chains.predict_chains(i))\n",
        "\n",
        "plot_chains(df_chains_)"
      ],
      "execution_count": 48,
      "outputs": [
        {
          "output_type": "display_data",
          "data": {
            "image/png": "[encoded data removed]",
            "text/plain": [
              "<Figure size 864x504 with 6 Axes>"
            ]
          },
          "metadata": {
            "needs_background": "light"
          }
        }
      ]
    },
    {
      "cell_type": "markdown",
      "metadata": {
        "id": "f8Jc7c8wvlsX"
      },
      "source": [
        "As can be seen, as the chains grow in length their probabilities decrease drastically.\n",
        "\n",
        "The following is the probability matrix of all the patterns classified in the market."
      ]
    },
    {
      "cell_type": "code",
      "metadata": {
        "colab": {
          "base_uri": "https://localhost:8080/",
          "height": 237
        },
        "id": "ny8ZAk-jtTAm",
        "outputId": "82632caa-ae14-4776-d726-f167c714f386"
      },
      "source": [
        "de_chains.get_prob_matrix()"
      ],
      "execution_count": 49,
      "outputs": [
        {
          "output_type": "execute_result",
          "data": {
            "text/html": [
              "\n",
              "  <div id=\"df-4bb52846-e77e-4d9c-b342-551d420b4055\">\n",
              "    <div class=\"colab-df-container\">\n",
              "      <div>\n",
              "<style scoped>\n",
              "    .dataframe tbody tr th:only-of-type {\n",
              "        vertical-align: middle;\n",
              "    }\n",
              "\n",
              "    .dataframe tbody tr th {\n",
              "        vertical-align: top;\n",
              "    }\n",
              "\n",
              "    .dataframe thead th {\n",
              "        text-align: right;\n",
              "    }\n",
              "</style>\n",
              "<table border=\"1\" class=\"dataframe\">\n",
              "  <thead>\n",
              "    <tr style=\"text-align: right;\">\n",
              "      <th></th>\n",
              "      <th>Pattern</th>\n",
              "      <th>Probability</th>\n",
              "    </tr>\n",
              "  </thead>\n",
              "  <tbody>\n",
              "    <tr>\n",
              "      <th>0</th>\n",
              "      <td>A</td>\n",
              "      <td>0.060927</td>\n",
              "    </tr>\n",
              "    <tr>\n",
              "      <th>1</th>\n",
              "      <td>B</td>\n",
              "      <td>0.154967</td>\n",
              "    </tr>\n",
              "    <tr>\n",
              "      <th>2</th>\n",
              "      <td>C</td>\n",
              "      <td>0.169536</td>\n",
              "    </tr>\n",
              "    <tr>\n",
              "      <th>3</th>\n",
              "      <td>D</td>\n",
              "      <td>0.251656</td>\n",
              "    </tr>\n",
              "    <tr>\n",
              "      <th>4</th>\n",
              "      <td>E</td>\n",
              "      <td>0.213245</td>\n",
              "    </tr>\n",
              "    <tr>\n",
              "      <th>5</th>\n",
              "      <td>F</td>\n",
              "      <td>0.051656</td>\n",
              "    </tr>\n",
              "  </tbody>\n",
              "</table>\n",
              "</div>\n",
              "      <button class=\"colab-df-convert\" onclick=\"convertToInteractive('df-4bb52846-e77e-4d9c-b342-551d420b4055')\"\n",
              "              title=\"Convert this dataframe to an interactive table.\"\n",
              "              style=\"display:none;\">\n",
              "        \n",
              "  <svg xmlns=\"http://www.w3.org/2000/svg\" height=\"24px\"viewBox=\"0 0 24 24\"\n",
              "       width=\"24px\">\n",
              "    <path d=\"M0 0h24v24H0V0z\" fill=\"none\"/>\n",
              "    <path d=\"M18.56 5.44l.94 2.06.94-2.06 2.06-.94-2.06-.94-.94-2.06-.94 2.06-2.06.94zm-11 1L8.5 8.5l.94-2.06 2.06-.94-2.06-.94L8.5 2.5l-.94 2.06-2.06.94zm10 10l.94 2.06.94-2.06 2.06-.94-2.06-.94-.94-2.06-.94 2.06-2.06.94z\"/><path d=\"M17.41 7.96l-1.37-1.37c-.4-.4-.92-.59-1.43-.59-.52 0-1.04.2-1.43.59L10.3 9.45l-7.72 7.72c-.78.78-.78 2.05 0 2.83L4 21.41c.39.39.9.59 1.41.59.51 0 1.02-.2 1.41-.59l7.78-7.78 2.81-2.81c.8-.78.8-2.07 0-2.86zM5.41 20L4 18.59l7.72-7.72 1.47 1.35L5.41 20z\"/>\n",
              "  </svg>\n",
              "      </button>\n",
              "      \n",
              "  <style>\n",
              "    .colab-df-container {\n",
              "      display:flex;\n",
              "      flex-wrap:wrap;\n",
              "      gap: 12px;\n",
              "    }\n",
              "\n",
              "    .colab-df-convert {\n",
              "      background-color: #E8F0FE;\n",
              "      border: none;\n",
              "      border-radius: 50%;\n",
              "      cursor: pointer;\n",
              "      display: none;\n",
              "      fill: #1967D2;\n",
              "      height: 32px;\n",
              "      padding: 0 0 0 0;\n",
              "      width: 32px;\n",
              "    }\n",
              "\n",
              "    .colab-df-convert:hover {\n",
              "      background-color: #E2EBFA;\n",
              "      box-shadow: 0px 1px 2px rgba(60, 64, 67, 0.3), 0px 1px 3px 1px rgba(60, 64, 67, 0.15);\n",
              "      fill: #174EA6;\n",
              "    }\n",
              "\n",
              "    [theme=dark] .colab-df-convert {\n",
              "      background-color: #3B4455;\n",
              "      fill: #D2E3FC;\n",
              "    }\n",
              "\n",
              "    [theme=dark] .colab-df-convert:hover {\n",
              "      background-color: #434B5C;\n",
              "      box-shadow: 0px 1px 3px 1px rgba(0, 0, 0, 0.15);\n",
              "      filter: drop-shadow(0px 1px 2px rgba(0, 0, 0, 0.3));\n",
              "      fill: #FFFFFF;\n",
              "    }\n",
              "  </style>\n",
              "\n",
              "      <script>\n",
              "        const buttonEl =\n",
              "          document.querySelector('#df-4bb52846-e77e-4d9c-b342-551d420b4055 button.colab-df-convert');\n",
              "        buttonEl.style.display =\n",
              "          google.colab.kernel.accessAllowed ? 'block' : 'none';\n",
              "\n",
              "        async function convertToInteractive(key) {\n",
              "          const element = document.querySelector('#df-4bb52846-e77e-4d9c-b342-551d420b4055');\n",
              "          const dataTable =\n",
              "            await google.colab.kernel.invokeFunction('convertToInteractive',\n",
              "                                                     [key], {});\n",
              "          if (!dataTable) return;\n",
              "\n",
              "          const docLinkHtml = 'Like what you see? Visit the ' +\n",
              "            '<a target=\"_blank\" href=https://colab.research.google.com/notebooks/data_table.ipynb>data table notebook</a>'\n",
              "            + ' to learn more about interactive tables.';\n",
              "          element.innerHTML = '';\n",
              "          dataTable['output_type'] = 'display_data';\n",
              "          await google.colab.output.renderOutput(dataTable, element);\n",
              "          const docLink = document.createElement('div');\n",
              "          docLink.innerHTML = docLinkHtml;\n",
              "          element.appendChild(docLink);\n",
              "        }\n",
              "      </script>\n",
              "    </div>\n",
              "  </div>\n",
              "  "
            ],
            "text/plain": [
              "  Pattern  Probability\n",
              "0       A     0.060927\n",
              "1       B     0.154967\n",
              "2       C     0.169536\n",
              "3       D     0.251656\n",
              "4       E     0.213245\n",
              "5       F     0.051656"
            ]
          },
          "metadata": {},
          "execution_count": 49
        }
      ]
    },
    {
      "cell_type": "markdown",
      "metadata": {
        "id": "66AfxRxCvyqZ"
      },
      "source": [
        "**Conclusion**\n",
        "\n",
        "As we see the probabilities go down more and more as our chain of events or patterns becomes larger, it was expected since stochastic statistics warn us of this; the larger (tends to +infinity) is a sequence of events, the probability that it repeats itself gets closer and closer to 0."
      ]
    },
    {
      "cell_type": "markdown",
      "metadata": {
        "id": "l-BhTOD2ngmo"
      },
      "source": [
        "# Bayes Engine: Developing heuristics and statistical engine"
      ]
    },
    {
      "cell_type": "markdown",
      "metadata": {
        "id": "y2h3h8-MnoLC"
      },
      "source": [
        "This section will implement everything learned so far (mainly in the last two sections), in addition to the class we will optimize things that we left pending so far. On the other hand the fact that certain functions are discarded (not used in our final statistical engine) does not mean that they are not useful, they were only a support that at the time helped us to understand what we should.\n",
        "\n",
        "We will also innovate new functions to be able to create custom pattern characteristics in addition to complement the study of probability for independent events. The final class will be called **BayesEngine**."
      ]
    },
    {
      "cell_type": "code",
      "metadata": {
        "id": "tngKzc8rpOsA"
      },
      "source": [
        "import scipy.stats as st\n",
        "from itertools import product\n",
        "\n",
        "class BayesEngine:\n",
        "  def __init__(self, df_body):\n",
        "    self.__df_body = df_body.values\n",
        "    self.__mean= df_body.mean()\n",
        "    self.__std = df_body.std()\n",
        "\n",
        "  def __bayes(self, sec, probs_dict):\n",
        "    def conditional_prob(sec, probs_dict):\n",
        "      p = 1\n",
        "      for s in sec:\n",
        "        p*= probs_dict[s]\n",
        "      return p\n",
        "\n",
        "    def total_prob_secs(sec, probs_dict):\n",
        "      l = len(sec)\n",
        "      last = sec[-1]\n",
        "      secs = []\n",
        "      for item in product(probs_dict.keys(), repeat=l):\n",
        "        # agregamos el item solo si el final de la cadena tiene el evento correspondiente\n",
        "        # por ejemplo si buscamos \"A|B\" solo las que terminen en B seran agregadas\n",
        "        if item[-1] is last:\n",
        "          secs.append(item)\n",
        "      \n",
        "      return secs\n",
        "\n",
        "    def total_prob(secs, probs_dict):\n",
        "      total_prob = 0\n",
        "      for s in secs:\n",
        "        p = 1\n",
        "        for i in s:\n",
        "          p*= probs_dict[i]\n",
        "        total_prob+= p\n",
        "\n",
        "      return total_prob\n",
        "\n",
        "    tp = total_prob(total_prob_secs(sec, probs_dict), probs_dict)\n",
        "    if tp == 0:\n",
        "      return np.inf\n",
        "    return conditional_prob(sec, probs_dict) / tp\n",
        "\n",
        "  def __generate_candles_body_range(self, interval_percent, n_std):\n",
        "    # standarization\n",
        "    # z = (x - mean)/ std_dev\n",
        "    def standarization(z_score, mean, std_dev):\n",
        "      return z_score*std_dev + mean\n",
        "\n",
        "    mean      = self.__mean\n",
        "    std_dev   = self.__std\n",
        "    z_score   = st.norm.ppf(0.5 + (interval_percent/2))\n",
        "    x_step    = standarization(z_score, mean, std_dev)\n",
        "    pos_ranges_x = []\n",
        "    x = 0\n",
        "    while x < std_dev*n_std:\n",
        "      pos_ranges_x.append( x )\n",
        "      x+= x_step\n",
        "    \n",
        "    neg_ranges_x = []\n",
        "    n_intervals = len(pos_ranges_x)\n",
        "    for i in range(n_intervals - 1, 0, -1):\n",
        "      neg_ranges_x.append(-pos_ranges_x[i])\n",
        "    \n",
        "    return neg_ranges_x + pos_ranges_x, x_step\n",
        "\n",
        "  def __encrypt(self, values):\n",
        "    letters = ['A','B','C','D','E','F','G','H','I','J','K','L','M','N','O','P','Q','R','S','T','U','V','W','X','Y','Z']\n",
        "\n",
        "    n_letters = len(letters)\n",
        "    i = idx= 0\n",
        "    level = 1\n",
        "    code = {}\n",
        "    for v in values:\n",
        "      if i >= n_letters:\n",
        "        i = 0\n",
        "        level+= 1\n",
        "      c = ''\n",
        "      for _ in range(level):\n",
        "        c+= letters[i]\n",
        "      code[c] = v\n",
        "      i+= 1\n",
        "\n",
        "    return code\n",
        "  \n",
        "  def __filter_bad_intervals(self, encripted_bodies_dict, intervals):\n",
        "    intervals_ = []\n",
        "    for i in intervals:\n",
        "      # desencriptamos\n",
        "      min_ = encripted_bodies_dict[i[0]]\n",
        "      max_ = encripted_bodies_dict[i[1]]\n",
        "      if min_ >= 0:\n",
        "        if min_ >= max_:\n",
        "          continue\n",
        "      else:\n",
        "        if max_ <= min_:\n",
        "          continue\n",
        "      \n",
        "      intervals_.append(i)\n",
        "    return intervals_\n",
        "\n",
        "  def __decrypt(self, body_ranges_dict, intervals):\n",
        "    decrypted_chain = []\n",
        "    for i in intervals:\n",
        "      decrypted_chain.append((body_ranges_dict[i[0]], body_ranges_dict[i[1]]))\n",
        "    return decrypted_chain\n",
        "\n",
        "  def __filter_excessive_intervals(self, intervals, max_dist):\n",
        "    valid_patterns_probs = []\n",
        "    for p in intervals:\n",
        "      if np.abs(p[0] - p[1]) <= max_dist:\n",
        "        valid_patterns_probs.append(p)\n",
        "    return valid_patterns_probs\n",
        "  \n",
        "  def __joint_prob(self, chain, probs_dict):\n",
        "    j = 1\n",
        "    for c in chain:\n",
        "      j*= probs_dict[c]\n",
        "    return j\n",
        "\n",
        "  def generate_patterns_intervals(self, interval_percent, n_std, filter_excess=True):\n",
        "    body_ranges, x_range_step = self.__generate_candles_body_range(interval_percent, n_std)\n",
        "    body_ranges_dict = self.__encrypt(body_ranges)\n",
        "\n",
        "    _minmax_intervals = [item for item in product(body_ranges_dict.keys(), repeat=2)]\n",
        "    body_intervals = self.__filter_bad_intervals(body_ranges_dict, _minmax_intervals)\n",
        "\n",
        "    intervals = self.__decrypt(body_ranges_dict, body_intervals)\n",
        "    if filter_excess is True:\n",
        "      return self.__filter_excessive_intervals(intervals, x_range_step)\n",
        "    else:\n",
        "      return intervals\n",
        "\n",
        "  def predict_pattern(self, interval):\n",
        "    def is_bound(value, interval):\n",
        "      return (value >= interval[0] and value <= interval[1])\n",
        "    def laplace_rule(matches, observations):\n",
        "      return matches/len(observations)\n",
        "\n",
        "    matches = 0\n",
        "    for b in self.__df_body:\n",
        "      if is_bound(b, interval):\n",
        "        matches+= 1\n",
        "    return laplace_rule(matches, self.__df_body)\n",
        "\n",
        "  def predict_patterns(self, interval_percent, n_std, filter_excess=True):\n",
        "    patterns_intervals = self.generate_patterns_intervals(interval_percent, n_std, filter_excess)\n",
        "    intervals_dict = {}\n",
        "    for p in patterns_intervals:\n",
        "      intervals_dict[p] = self.predict_pattern(p)\n",
        "      \n",
        "    return intervals_dict\n",
        "\n",
        "  def get_predicted_patterns(self, interval_percent, n_std, filter_excess=True):\n",
        "    # predecimos individualmente cada patron de precio generado\n",
        "    patterns_dict = self.predict_patterns(interval_percent, n_std, filter_excess)\n",
        "    # formamos un diccionario con las probabilidades calculadas codificadas en letras\n",
        "    patterns_probs_dict = self.__encrypt(patterns_dict.values())\n",
        "    return patterns_probs_dict\n",
        "  \n",
        "  def generate_chains(self, chain_len, interval_percent, n_std, filter_excess=True):\n",
        "    patterns_probs_dict = self.get_predicted_patterns(interval_percent, n_std, filter_excess)\n",
        "    chains = [item for item in product(patterns_probs_dict.keys(), repeat=chain_len)]\n",
        "    return chains, patterns_probs_dict\n",
        "\n",
        "  def predict_chains(self, chain_len, interval_percent, n_std, filter_excess=True):\n",
        "    chains, patterns_probs_dict = self.generate_chains(chain_len, interval_percent, n_std, filter_excess)\n",
        "    probs = []\n",
        "    patterns = []\n",
        "    ind_probs = []\n",
        "    for c in chains:\n",
        "      chain = ''\n",
        "      for i in range(chain_len):\n",
        "        chain+= str(c[i])\n",
        "      patterns.append(chain)\n",
        "      probs.append(self.__bayes(c, patterns_probs_dict))\n",
        "      ind_probs.append(self.__joint_prob(c, patterns_probs_dict))\n",
        "    return pd.DataFrame(data={'Pattern':patterns, 'Bayes-prob':probs, \"Ind-prob\":ind_probs})\n",
        "\n",
        "  def predict_chain(self, chain, interval_percent, n_std, filter_excess=True):\n",
        "    patterns_probs_dict = self.get_predicted_patterns(interval_percent, n_std, filter_excess)\n",
        "    return self.__bayes(chain, patterns_probs_dict), self.__joint_prob(chain, patterns_probs_dict)\n",
        "\n",
        "  def predict_custom_chain(self, delta_intervals_chain):\n",
        "    #def standarization(interval_percent):\n",
        "      #x = st.norm.ppf(0.5 + interval_percent)*self.__std + self.__mean\n",
        "      #return x\n",
        "    probs = []\n",
        "    #intervals = []\n",
        "    for c in delta_intervals_chain:\n",
        "      #interval = (standarization(c[0]), standarization(c[1]))\n",
        "      #intervals.append(interval)\n",
        "      pattern_prob = self.predict_pattern(c)\n",
        "      #if pattern_prob == 0:\n",
        "        #return None, None, None\n",
        "      probs.append(pattern_prob)\n",
        "    # codificamos las probabilidades en un diccionario(i.e Char:Probability)\n",
        "    probs_dict = self.__encrypt(probs)\n",
        "    pattern = [p for p in probs_dict.keys()]\n",
        "\n",
        "    return self.__bayes(pattern, probs_dict), self.__joint_prob(pattern, probs_dict), probs_dict#, intervals"
      ],
      "execution_count": 50,
      "outputs": []
    },
    {
      "cell_type": "markdown",
      "metadata": {
        "id": "oSPk-R1tadaO"
      },
      "source": [
        "Once the class has been compiled, we create the object"
      ]
    },
    {
      "cell_type": "code",
      "metadata": {
        "id": "WP4LXG_qCZE2"
      },
      "source": [
        "be = BayesEngine(df_candles[\"Delta\"])"
      ],
      "execution_count": 51,
      "outputs": []
    },
    {
      "cell_type": "markdown",
      "metadata": {
        "id": "mMpMmhp_aohC"
      },
      "source": [
        "Let's generate a set of patterns using a 40% acceptance interval, as we know the candlestick body sizes or patterns will increase N times but the increments or distances (between the intervals) will always remain constant. N represents the number of standard deviations taken to generate these ranges, in this example we will take 3.5."
      ]
    },
    {
      "cell_type": "code",
      "metadata": {
        "colab": {
          "base_uri": "https://localhost:8080/"
        },
        "id": "GR-vivOOaoxr",
        "outputId": "4218ad8e-572b-4d51-cff5-94e8c69e9029"
      },
      "source": [
        "interval = 0.4\n",
        "n_std = 3.5\n",
        "be.generate_patterns_intervals(interval, n_std)"
      ],
      "execution_count": 52,
      "outputs": [
        {
          "output_type": "execute_result",
          "data": {
            "text/plain": [
              "[(-144.75851440581297, -120.63209533817748),\n",
              " (-120.63209533817748, -96.50567627054198),\n",
              " (-96.50567627054198, -72.37925720290649),\n",
              " (-72.37925720290649, -48.25283813527099),\n",
              " (-48.25283813527099, -24.126419067635496),\n",
              " (-24.126419067635496, 0),\n",
              " (0, 24.126419067635496),\n",
              " (24.126419067635496, 48.25283813527099),\n",
              " (48.25283813527099, 72.37925720290649),\n",
              " (72.37925720290649, 96.50567627054198),\n",
              " (96.50567627054198, 120.63209533817748),\n",
              " (120.63209533817748, 144.75851440581297)]"
            ]
          },
          "metadata": {},
          "execution_count": 52
        }
      ]
    },
    {
      "cell_type": "markdown",
      "metadata": {
        "id": "kbllfVClcYVI"
      },
      "source": [
        "Using the intervals generated above (which represent our patterns) let's see what is the probability of occurrence is in the S&P500. Recall that this can be taken to any market."
      ]
    },
    {
      "cell_type": "code",
      "metadata": {
        "colab": {
          "base_uri": "https://localhost:8080/"
        },
        "id": "CenMSzcTcZU_",
        "outputId": "94f86102-04cc-402f-cc29-fd84c10b0c0d"
      },
      "source": [
        "be.predict_patterns(interval, n_std)"
      ],
      "execution_count": 53,
      "outputs": [
        {
          "output_type": "execute_result",
          "data": {
            "text/plain": [
              "{(-144.75851440581297, -120.63209533817748): 0.007947019867549669,\n",
              " (-120.63209533817748, -96.50567627054198): 0.010596026490066225,\n",
              " (-96.50567627054198, -72.37925720290649): 0.03708609271523179,\n",
              " (-72.37925720290649, -48.25283813527099): 0.060927152317880796,\n",
              " (-48.25283813527099, -24.126419067635496): 0.15496688741721854,\n",
              " (-24.126419067635496, 0): 0.1695364238410596,\n",
              " (0, 24.126419067635496): 0.25165562913907286,\n",
              " (24.126419067635496, 48.25283813527099): 0.21324503311258278,\n",
              " (48.25283813527099, 72.37925720290649): 0.051655629139072845,\n",
              " (72.37925720290649, 96.50567627054198): 0.01456953642384106,\n",
              " (96.50567627054198, 120.63209533817748): 0.010596026490066225,\n",
              " (120.63209533817748, 144.75851440581297): 0.0026490066225165563}"
            ]
          },
          "metadata": {},
          "execution_count": 53
        }
      ]
    },
    {
      "cell_type": "markdown",
      "metadata": {
        "id": "_FyINwT9dfg6"
      },
      "source": [
        "Now let's calculate all the possible combinations of patterns that can be formed with a length=3 (this is what we conceptually call chains). In addition to this let's look at the individual probability of each pattern that makes up the strings (this should not be confused with the probability of the string itself), the dictionary stores its value encoded in the letters used."
      ]
    },
    {
      "cell_type": "code",
      "metadata": {
        "colab": {
          "base_uri": "https://localhost:8080/"
        },
        "id": "bCQD3VZedfy-",
        "outputId": "30001401-0645-4279-ae09-50af5f27a433"
      },
      "source": [
        "chains, patterns_probs_dict= be.generate_chains(3, interval, n_std)\n",
        "print(\"Patterns-chains:{}\".format(chains[:50]))\n",
        "print(\"Patterns-probas-dict:{}\".format(patterns_probs_dict))"
      ],
      "execution_count": 98,
      "outputs": [
        {
          "output_type": "stream",
          "name": "stdout",
          "text": [
            "Patterns-chains:[('A', 'A', 'A'), ('A', 'A', 'B'), ('A', 'A', 'C'), ('A', 'A', 'D'), ('A', 'A', 'E'), ('A', 'A', 'F'), ('A', 'A', 'G'), ('A', 'A', 'H'), ('A', 'A', 'I'), ('A', 'A', 'J'), ('A', 'A', 'K'), ('A', 'A', 'L'), ('A', 'B', 'A'), ('A', 'B', 'B'), ('A', 'B', 'C'), ('A', 'B', 'D'), ('A', 'B', 'E'), ('A', 'B', 'F'), ('A', 'B', 'G'), ('A', 'B', 'H'), ('A', 'B', 'I'), ('A', 'B', 'J'), ('A', 'B', 'K'), ('A', 'B', 'L'), ('A', 'C', 'A'), ('A', 'C', 'B'), ('A', 'C', 'C'), ('A', 'C', 'D'), ('A', 'C', 'E'), ('A', 'C', 'F'), ('A', 'C', 'G'), ('A', 'C', 'H'), ('A', 'C', 'I'), ('A', 'C', 'J'), ('A', 'C', 'K'), ('A', 'C', 'L'), ('A', 'D', 'A'), ('A', 'D', 'B'), ('A', 'D', 'C'), ('A', 'D', 'D'), ('A', 'D', 'E'), ('A', 'D', 'F'), ('A', 'D', 'G'), ('A', 'D', 'H'), ('A', 'D', 'I'), ('A', 'D', 'J'), ('A', 'D', 'K'), ('A', 'D', 'L'), ('A', 'E', 'A'), ('A', 'E', 'B')]\n",
            "Patterns-probas-dict:{'A': 0.007947019867549669, 'B': 0.010596026490066225, 'C': 0.03708609271523179, 'D': 0.060927152317880796, 'E': 0.15496688741721854, 'F': 0.1695364238410596, 'G': 0.25165562913907286, 'H': 0.21324503311258278, 'I': 0.051655629139072845, 'J': 0.01456953642384106, 'K': 0.010596026490066225, 'L': 0.0026490066225165563}\n"
          ]
        }
      ]
    },
    {
      "cell_type": "markdown",
      "metadata": {
        "id": "kXtoTmREkTcQ"
      },
      "source": [
        "If we only want the list of individual patterns analyzed in the market (and coded)."
      ]
    },
    {
      "cell_type": "code",
      "metadata": {
        "colab": {
          "base_uri": "https://localhost:8080/"
        },
        "id": "siY6rsblkd_V",
        "outputId": "a92759bb-135a-4c8d-8117-eccc8ce32f7d"
      },
      "source": [
        "be.get_predicted_patterns(interval, n_std)"
      ],
      "execution_count": 55,
      "outputs": [
        {
          "output_type": "execute_result",
          "data": {
            "text/plain": [
              "{'A': 0.007947019867549669,\n",
              " 'B': 0.010596026490066225,\n",
              " 'C': 0.03708609271523179,\n",
              " 'D': 0.060927152317880796,\n",
              " 'E': 0.15496688741721854,\n",
              " 'F': 0.1695364238410596,\n",
              " 'G': 0.25165562913907286,\n",
              " 'H': 0.21324503311258278,\n",
              " 'I': 0.051655629139072845,\n",
              " 'J': 0.01456953642384106,\n",
              " 'K': 0.010596026490066225,\n",
              " 'L': 0.0026490066225165563}"
            ]
          },
          "metadata": {},
          "execution_count": 55
        }
      ]
    },
    {
      "cell_type": "markdown",
      "metadata": {
        "id": "iTVXbp6RlN5j"
      },
      "source": [
        "Calculation of the probability of a single chain of patterns; recall that two probabilities are calculated: the Bayesian probability (the chain should be read as A|B,C) and the joint probability (the chain should be read as A&B&C) which is the intersection of events."
      ]
    },
    {
      "cell_type": "code",
      "metadata": {
        "colab": {
          "base_uri": "https://localhost:8080/"
        },
        "id": "ujjsM28YlOOF",
        "outputId": "5ccb57bb-846a-4dc7-a8e5-3d2513c3b519"
      },
      "source": [
        "bayes_prob, chain_prob = be.predict_chain(['A','B','C'], interval, n_std)\n",
        "print(\"Conditional-probability:\",bayes_prob)\n",
        "print(\"Chain/Joint-probability:\",chain_prob)"
      ],
      "execution_count": 56,
      "outputs": [
        {
          "output_type": "stream",
          "name": "stdout",
          "text": [
            "Conditional-probability: 8.671522719389527e-05\n",
            "Chain/Joint-probability: 3.1229024171415748e-06\n"
          ]
        }
      ]
    },
    {
      "cell_type": "markdown",
      "metadata": {
        "id": "tIzE0sCw_DwS"
      },
      "source": [
        "Let's calculate the probability of a pattern chain given custom intervals.\n",
        "\n",
        "Recall that these numbers represent the accepted candlestick body sizes based on the price distribution of the S&P500 index so these values are fixed for this market, if you want to apply this same pattern chain to other markets you should do the corresponding statistical analysis on their probability distribution to choose appropriate values (or use the **predict_chains** function with percentage intervals)."
      ]
    },
    {
      "cell_type": "code",
      "metadata": {
        "colab": {
          "base_uri": "https://localhost:8080/"
        },
        "id": "64-kODv-4agf",
        "outputId": "4acc729f-72cd-4cf4-8e87-61fd8ff8d80a"
      },
      "source": [
        "bayes_prob, joint_prob, prob_dict = be.predict_custom_chain([(0,40), (40,60), (60,80)])\n",
        "print(\"Probability A|B:\",bayes_prob)\n",
        "print(\"Joint Probability:\",joint_prob)\n",
        "print(\"Probability-dict:\",prob_dict)"
      ],
      "execution_count": 57,
      "outputs": [
        {
          "output_type": "stream",
          "name": "stdout",
          "text": [
            "Probability A|B: 0.12393526678416918\n",
            "Joint Probability: 0.0007638307951521819\n",
            "Probability-dict: {'A': 0.4198675496688742, 'B': 0.08079470198675497, 'C': 0.022516556291390728}\n"
          ]
        }
      ]
    },
    {
      "cell_type": "markdown",
      "metadata": {
        "id": "dXy0YAipdx74"
      },
      "source": [
        "At this point there is something I must repeat; the pattern chains along with their probability were calculated using *conditional probability* and *Bayes' theorem*. Therefore a high probability does NOT mean that the pattern is reliable, but simply that put in such order it is more likely to happen than in another (for example a pattern can have high probability given the order A|B,C while seen in B|C,A the probability can be very low), this can help us to know if there is any preference or causality of such events in the market.\n",
        "In addition to this we obtain the *joint probability* which is the intersection of the events, as explained before this is the probability for independent events regardless of the order (in the examples, you can see that the probability of finding any set of patterns in a chain is practically zero).\n",
        "\n",
        "Continuing with the example we will calculate all possible chains with length=3."
      ]
    },
    {
      "cell_type": "code",
      "metadata": {
        "colab": {
          "base_uri": "https://localhost:8080/",
          "height": 423
        },
        "id": "7VOknYBJdyQl",
        "outputId": "e97f3d63-896d-4a76-c608-5884a074e350"
      },
      "source": [
        "be.predict_chains(3, interval, n_std)"
      ],
      "execution_count": 58,
      "outputs": [
        {
          "output_type": "execute_result",
          "data": {
            "text/html": [
              "\n",
              "  <div id=\"df-e7d43422-5336-4117-881a-30c6c0a3111e\">\n",
              "    <div class=\"colab-df-container\">\n",
              "      <div>\n",
              "<style scoped>\n",
              "    .dataframe tbody tr th:only-of-type {\n",
              "        vertical-align: middle;\n",
              "    }\n",
              "\n",
              "    .dataframe tbody tr th {\n",
              "        vertical-align: top;\n",
              "    }\n",
              "\n",
              "    .dataframe thead th {\n",
              "        text-align: right;\n",
              "    }\n",
              "</style>\n",
              "<table border=\"1\" class=\"dataframe\">\n",
              "  <thead>\n",
              "    <tr style=\"text-align: right;\">\n",
              "      <th></th>\n",
              "      <th>Pattern</th>\n",
              "      <th>Bayes-prob</th>\n",
              "      <th>Ind-prob</th>\n",
              "    </tr>\n",
              "  </thead>\n",
              "  <tbody>\n",
              "    <tr>\n",
              "      <th>0</th>\n",
              "      <td>AAA</td>\n",
              "      <td>0.000065</td>\n",
              "      <td>5.018950e-07</td>\n",
              "    </tr>\n",
              "    <tr>\n",
              "      <th>1</th>\n",
              "      <td>AAB</td>\n",
              "      <td>0.000065</td>\n",
              "      <td>6.691934e-07</td>\n",
              "    </tr>\n",
              "    <tr>\n",
              "      <th>2</th>\n",
              "      <td>AAC</td>\n",
              "      <td>0.000065</td>\n",
              "      <td>2.342177e-06</td>\n",
              "    </tr>\n",
              "    <tr>\n",
              "      <th>3</th>\n",
              "      <td>AAD</td>\n",
              "      <td>0.000065</td>\n",
              "      <td>3.847862e-06</td>\n",
              "    </tr>\n",
              "    <tr>\n",
              "      <th>4</th>\n",
              "      <td>AAE</td>\n",
              "      <td>0.000065</td>\n",
              "      <td>9.786953e-06</td>\n",
              "    </tr>\n",
              "    <tr>\n",
              "      <th>...</th>\n",
              "      <td>...</td>\n",
              "      <td>...</td>\n",
              "      <td>...</td>\n",
              "    </tr>\n",
              "    <tr>\n",
              "      <th>1723</th>\n",
              "      <td>LLH</td>\n",
              "      <td>0.000007</td>\n",
              "      <td>1.496391e-06</td>\n",
              "    </tr>\n",
              "    <tr>\n",
              "      <th>1724</th>\n",
              "      <td>LLI</td>\n",
              "      <td>0.000007</td>\n",
              "      <td>3.624797e-07</td>\n",
              "    </tr>\n",
              "    <tr>\n",
              "      <th>1725</th>\n",
              "      <td>LLJ</td>\n",
              "      <td>0.000007</td>\n",
              "      <td>1.022379e-07</td>\n",
              "    </tr>\n",
              "    <tr>\n",
              "      <th>1726</th>\n",
              "      <td>LLK</td>\n",
              "      <td>0.000007</td>\n",
              "      <td>7.435482e-08</td>\n",
              "    </tr>\n",
              "    <tr>\n",
              "      <th>1727</th>\n",
              "      <td>LLL</td>\n",
              "      <td>0.000007</td>\n",
              "      <td>1.858870e-08</td>\n",
              "    </tr>\n",
              "  </tbody>\n",
              "</table>\n",
              "<p>1728 rows × 3 columns</p>\n",
              "</div>\n",
              "      <button class=\"colab-df-convert\" onclick=\"convertToInteractive('df-e7d43422-5336-4117-881a-30c6c0a3111e')\"\n",
              "              title=\"Convert this dataframe to an interactive table.\"\n",
              "              style=\"display:none;\">\n",
              "        \n",
              "  <svg xmlns=\"http://www.w3.org/2000/svg\" height=\"24px\"viewBox=\"0 0 24 24\"\n",
              "       width=\"24px\">\n",
              "    <path d=\"M0 0h24v24H0V0z\" fill=\"none\"/>\n",
              "    <path d=\"M18.56 5.44l.94 2.06.94-2.06 2.06-.94-2.06-.94-.94-2.06-.94 2.06-2.06.94zm-11 1L8.5 8.5l.94-2.06 2.06-.94-2.06-.94L8.5 2.5l-.94 2.06-2.06.94zm10 10l.94 2.06.94-2.06 2.06-.94-2.06-.94-.94-2.06-.94 2.06-2.06.94z\"/><path d=\"M17.41 7.96l-1.37-1.37c-.4-.4-.92-.59-1.43-.59-.52 0-1.04.2-1.43.59L10.3 9.45l-7.72 7.72c-.78.78-.78 2.05 0 2.83L4 21.41c.39.39.9.59 1.41.59.51 0 1.02-.2 1.41-.59l7.78-7.78 2.81-2.81c.8-.78.8-2.07 0-2.86zM5.41 20L4 18.59l7.72-7.72 1.47 1.35L5.41 20z\"/>\n",
              "  </svg>\n",
              "      </button>\n",
              "      \n",
              "  <style>\n",
              "    .colab-df-container {\n",
              "      display:flex;\n",
              "      flex-wrap:wrap;\n",
              "      gap: 12px;\n",
              "    }\n",
              "\n",
              "    .colab-df-convert {\n",
              "      background-color: #E8F0FE;\n",
              "      border: none;\n",
              "      border-radius: 50%;\n",
              "      cursor: pointer;\n",
              "      display: none;\n",
              "      fill: #1967D2;\n",
              "      height: 32px;\n",
              "      padding: 0 0 0 0;\n",
              "      width: 32px;\n",
              "    }\n",
              "\n",
              "    .colab-df-convert:hover {\n",
              "      background-color: #E2EBFA;\n",
              "      box-shadow: 0px 1px 2px rgba(60, 64, 67, 0.3), 0px 1px 3px 1px rgba(60, 64, 67, 0.15);\n",
              "      fill: #174EA6;\n",
              "    }\n",
              "\n",
              "    [theme=dark] .colab-df-convert {\n",
              "      background-color: #3B4455;\n",
              "      fill: #D2E3FC;\n",
              "    }\n",
              "\n",
              "    [theme=dark] .colab-df-convert:hover {\n",
              "      background-color: #434B5C;\n",
              "      box-shadow: 0px 1px 3px 1px rgba(0, 0, 0, 0.15);\n",
              "      filter: drop-shadow(0px 1px 2px rgba(0, 0, 0, 0.3));\n",
              "      fill: #FFFFFF;\n",
              "    }\n",
              "  </style>\n",
              "\n",
              "      <script>\n",
              "        const buttonEl =\n",
              "          document.querySelector('#df-e7d43422-5336-4117-881a-30c6c0a3111e button.colab-df-convert');\n",
              "        buttonEl.style.display =\n",
              "          google.colab.kernel.accessAllowed ? 'block' : 'none';\n",
              "\n",
              "        async function convertToInteractive(key) {\n",
              "          const element = document.querySelector('#df-e7d43422-5336-4117-881a-30c6c0a3111e');\n",
              "          const dataTable =\n",
              "            await google.colab.kernel.invokeFunction('convertToInteractive',\n",
              "                                                     [key], {});\n",
              "          if (!dataTable) return;\n",
              "\n",
              "          const docLinkHtml = 'Like what you see? Visit the ' +\n",
              "            '<a target=\"_blank\" href=https://colab.research.google.com/notebooks/data_table.ipynb>data table notebook</a>'\n",
              "            + ' to learn more about interactive tables.';\n",
              "          element.innerHTML = '';\n",
              "          dataTable['output_type'] = 'display_data';\n",
              "          await google.colab.output.renderOutput(dataTable, element);\n",
              "          const docLink = document.createElement('div');\n",
              "          docLink.innerHTML = docLinkHtml;\n",
              "          element.appendChild(docLink);\n",
              "        }\n",
              "      </script>\n",
              "    </div>\n",
              "  </div>\n",
              "  "
            ],
            "text/plain": [
              "     Pattern  Bayes-prob      Ind-prob\n",
              "0        AAA    0.000065  5.018950e-07\n",
              "1        AAB    0.000065  6.691934e-07\n",
              "2        AAC    0.000065  2.342177e-06\n",
              "3        AAD    0.000065  3.847862e-06\n",
              "4        AAE    0.000065  9.786953e-06\n",
              "...      ...         ...           ...\n",
              "1723     LLH    0.000007  1.496391e-06\n",
              "1724     LLI    0.000007  3.624797e-07\n",
              "1725     LLJ    0.000007  1.022379e-07\n",
              "1726     LLK    0.000007  7.435482e-08\n",
              "1727     LLL    0.000007  1.858870e-08\n",
              "\n",
              "[1728 rows x 3 columns]"
            ]
          },
          "metadata": {},
          "execution_count": 58
        }
      ]
    },
    {
      "cell_type": "markdown",
      "metadata": {
        "id": "D2GlkkG_ygX_"
      },
      "source": [
        "Let's plot the probability distributions"
      ]
    },
    {
      "cell_type": "code",
      "metadata": {
        "colab": {
          "base_uri": "https://localhost:8080/",
          "height": 297
        },
        "id": "lRoMUsgtyq0Z",
        "outputId": "b19ad5e2-4e68-4eca-e00d-967064d5da4d"
      },
      "source": [
        "fig, axs = plt.subplots(figsize=(10, 4), ncols=2)\n",
        "tmp = be.predict_chains(3, interval, n_std)\n",
        "sns.histplot(data=tmp[\"Bayes-prob\"], kde=True, ax=axs[0], color='blue')\n",
        "sns.histplot(data=tmp[\"Ind-prob\"], kde=True, ax=axs[1], color='green')\n",
        "plt.tight_layout()\n",
        "plt.show()"
      ],
      "execution_count": 59,
      "outputs": [
        {
          "output_type": "display_data",
          "data": {
            "image/png": "[encoded data removed]",
            "text/plain": [
              "<Figure size 720x288 with 2 Axes>"
            ]
          },
          "metadata": {
            "needs_background": "light"
          }
        }
      ]
    },
    {
      "cell_type": "markdown",
      "metadata": {
        "id": "Ulhh002-6WcG"
      },
      "source": [
        "As we have been saying as the chains grow in length their probability decreases drastically, even if we keep chains of two patterns the probability continues to be a rarity... when we ran the same analysis looking at each pattern (and its characteristics) separately we also saw this, therefore it is to be expected that even the most \"famous\" market patterns appear casually (and not in the same way in all markets), more of this in the last section."
      ]
    },
    {
      "cell_type": "markdown",
      "metadata": {
        "id": "HVQvOhq232UC"
      },
      "source": [
        "# Analysis of classic patterns and candlesticks on the S&P500. Final part"
      ]
    },
    {
      "cell_type": "markdown",
      "metadata": {
        "id": "M1zONbSQ4I8j"
      },
      "source": [
        "It is time to use our Bayesian engine to test the most common patterns found in any material on the internet and books. These proliferate everywhere and warn us how important they are in the \"price action\", as such many say that learning them will be enough guarantee to have a good reading of what the market will do and therefore be able to make reliable predictions creating the illusion of becoming true masters of price reading. The big flaw with this premise is that we know in advance that the patterns have unique characteristics in each market (in addition to the time scales), if we ignore this and accept the most common visual analysis we will be doomed to fail, thanks to the statistical studies conducted throughout this article, empirically demonstrate this and how such sequences when they grow tend to have virtually zero and negligible probabilities, which makes them rarities in the markets... making use of brute force and looking for all combinations to best maximize the best probability chains are still far below what is considered reliable to be credible, and therefore used (even more so to design a trading system based on this).\n",
        "\n",
        "Next we will recap what we saw in the first phase and analyze more temporal market data, I will also show some classic candlestick pattern images and use them (as estimated) in our Bayesian statistical engine to see what it has to tell us about them. \n",
        "\n",
        "*Let's load the data from the beginning of 2015 to the beginning of 2021.*"
      ]
    },
    {
      "cell_type": "code",
      "metadata": {
        "id": "YJOxkWjgUSU4",
        "colab": {
          "base_uri": "https://localhost:8080/",
          "height": 237
        },
        "outputId": "1a9dac33-8626-4cfd-98a7-53ed7b97aa7d"
      },
      "source": [
        "ticker_sp500 = yf.Ticker('^GSPC')\n",
        "df_data = ticker_sp500.history(period='1d', start='2015-1-1', end='2021-1-1')\n",
        "df_data.drop([\"Volume\", \"Dividends\", \"Stock Splits\"], axis=1, inplace=True)\n",
        "df_data.head()"
      ],
      "execution_count": 60,
      "outputs": [
        {
          "output_type": "execute_result",
          "data": {
            "text/html": [
              "\n",
              "  <div id=\"df-31c0f4e3-c97f-4c00-a125-481c75a791b7\">\n",
              "    <div class=\"colab-df-container\">\n",
              "      <div>\n",
              "<style scoped>\n",
              "    .dataframe tbody tr th:only-of-type {\n",
              "        vertical-align: middle;\n",
              "    }\n",
              "\n",
              "    .dataframe tbody tr th {\n",
              "        vertical-align: top;\n",
              "    }\n",
              "\n",
              "    .dataframe thead th {\n",
              "        text-align: right;\n",
              "    }\n",
              "</style>\n",
              "<table border=\"1\" class=\"dataframe\">\n",
              "  <thead>\n",
              "    <tr style=\"text-align: right;\">\n",
              "      <th></th>\n",
              "      <th>Open</th>\n",
              "      <th>High</th>\n",
              "      <th>Low</th>\n",
              "      <th>Close</th>\n",
              "    </tr>\n",
              "    <tr>\n",
              "      <th>Date</th>\n",
              "      <th></th>\n",
              "      <th></th>\n",
              "      <th></th>\n",
              "      <th></th>\n",
              "    </tr>\n",
              "  </thead>\n",
              "  <tbody>\n",
              "    <tr>\n",
              "      <th>2015-01-02</th>\n",
              "      <td>2058.899902</td>\n",
              "      <td>2072.360107</td>\n",
              "      <td>2046.040039</td>\n",
              "      <td>2058.199951</td>\n",
              "    </tr>\n",
              "    <tr>\n",
              "      <th>2015-01-05</th>\n",
              "      <td>2054.439941</td>\n",
              "      <td>2054.439941</td>\n",
              "      <td>2017.339966</td>\n",
              "      <td>2020.579956</td>\n",
              "    </tr>\n",
              "    <tr>\n",
              "      <th>2015-01-06</th>\n",
              "      <td>2022.150024</td>\n",
              "      <td>2030.250000</td>\n",
              "      <td>1992.439941</td>\n",
              "      <td>2002.609985</td>\n",
              "    </tr>\n",
              "    <tr>\n",
              "      <th>2015-01-07</th>\n",
              "      <td>2005.550049</td>\n",
              "      <td>2029.609985</td>\n",
              "      <td>2005.550049</td>\n",
              "      <td>2025.900024</td>\n",
              "    </tr>\n",
              "    <tr>\n",
              "      <th>2015-01-08</th>\n",
              "      <td>2030.609985</td>\n",
              "      <td>2064.080078</td>\n",
              "      <td>2030.609985</td>\n",
              "      <td>2062.139893</td>\n",
              "    </tr>\n",
              "  </tbody>\n",
              "</table>\n",
              "</div>\n",
              "      <button class=\"colab-df-convert\" onclick=\"convertToInteractive('df-31c0f4e3-c97f-4c00-a125-481c75a791b7')\"\n",
              "              title=\"Convert this dataframe to an interactive table.\"\n",
              "              style=\"display:none;\">\n",
              "        \n",
              "  <svg xmlns=\"http://www.w3.org/2000/svg\" height=\"24px\"viewBox=\"0 0 24 24\"\n",
              "       width=\"24px\">\n",
              "    <path d=\"M0 0h24v24H0V0z\" fill=\"none\"/>\n",
              "    <path d=\"M18.56 5.44l.94 2.06.94-2.06 2.06-.94-2.06-.94-.94-2.06-.94 2.06-2.06.94zm-11 1L8.5 8.5l.94-2.06 2.06-.94-2.06-.94L8.5 2.5l-.94 2.06-2.06.94zm10 10l.94 2.06.94-2.06 2.06-.94-2.06-.94-.94-2.06-.94 2.06-2.06.94z\"/><path d=\"M17.41 7.96l-1.37-1.37c-.4-.4-.92-.59-1.43-.59-.52 0-1.04.2-1.43.59L10.3 9.45l-7.72 7.72c-.78.78-.78 2.05 0 2.83L4 21.41c.39.39.9.59 1.41.59.51 0 1.02-.2 1.41-.59l7.78-7.78 2.81-2.81c.8-.78.8-2.07 0-2.86zM5.41 20L4 18.59l7.72-7.72 1.47 1.35L5.41 20z\"/>\n",
              "  </svg>\n",
              "      </button>\n",
              "      \n",
              "  <style>\n",
              "    .colab-df-container {\n",
              "      display:flex;\n",
              "      flex-wrap:wrap;\n",
              "      gap: 12px;\n",
              "    }\n",
              "\n",
              "    .colab-df-convert {\n",
              "      background-color: #E8F0FE;\n",
              "      border: none;\n",
              "      border-radius: 50%;\n",
              "      cursor: pointer;\n",
              "      display: none;\n",
              "      fill: #1967D2;\n",
              "      height: 32px;\n",
              "      padding: 0 0 0 0;\n",
              "      width: 32px;\n",
              "    }\n",
              "\n",
              "    .colab-df-convert:hover {\n",
              "      background-color: #E2EBFA;\n",
              "      box-shadow: 0px 1px 2px rgba(60, 64, 67, 0.3), 0px 1px 3px 1px rgba(60, 64, 67, 0.15);\n",
              "      fill: #174EA6;\n",
              "    }\n",
              "\n",
              "    [theme=dark] .colab-df-convert {\n",
              "      background-color: #3B4455;\n",
              "      fill: #D2E3FC;\n",
              "    }\n",
              "\n",
              "    [theme=dark] .colab-df-convert:hover {\n",
              "      background-color: #434B5C;\n",
              "      box-shadow: 0px 1px 3px 1px rgba(0, 0, 0, 0.15);\n",
              "      filter: drop-shadow(0px 1px 2px rgba(0, 0, 0, 0.3));\n",
              "      fill: #FFFFFF;\n",
              "    }\n",
              "  </style>\n",
              "\n",
              "      <script>\n",
              "        const buttonEl =\n",
              "          document.querySelector('#df-31c0f4e3-c97f-4c00-a125-481c75a791b7 button.colab-df-convert');\n",
              "        buttonEl.style.display =\n",
              "          google.colab.kernel.accessAllowed ? 'block' : 'none';\n",
              "\n",
              "        async function convertToInteractive(key) {\n",
              "          const element = document.querySelector('#df-31c0f4e3-c97f-4c00-a125-481c75a791b7');\n",
              "          const dataTable =\n",
              "            await google.colab.kernel.invokeFunction('convertToInteractive',\n",
              "                                                     [key], {});\n",
              "          if (!dataTable) return;\n",
              "\n",
              "          const docLinkHtml = 'Like what you see? Visit the ' +\n",
              "            '<a target=\"_blank\" href=https://colab.research.google.com/notebooks/data_table.ipynb>data table notebook</a>'\n",
              "            + ' to learn more about interactive tables.';\n",
              "          element.innerHTML = '';\n",
              "          dataTable['output_type'] = 'display_data';\n",
              "          await google.colab.output.renderOutput(dataTable, element);\n",
              "          const docLink = document.createElement('div');\n",
              "          docLink.innerHTML = docLinkHtml;\n",
              "          element.appendChild(docLink);\n",
              "        }\n",
              "      </script>\n",
              "    </div>\n",
              "  </div>\n",
              "  "
            ],
            "text/plain": [
              "                   Open         High          Low        Close\n",
              "Date                                                          \n",
              "2015-01-02  2058.899902  2072.360107  2046.040039  2058.199951\n",
              "2015-01-05  2054.439941  2054.439941  2017.339966  2020.579956\n",
              "2015-01-06  2022.150024  2030.250000  1992.439941  2002.609985\n",
              "2015-01-07  2005.550049  2029.609985  2005.550049  2025.900024\n",
              "2015-01-08  2030.609985  2064.080078  2030.609985  2062.139893"
            ]
          },
          "metadata": {},
          "execution_count": 60
        }
      ]
    },
    {
      "cell_type": "markdown",
      "metadata": {
        "id": "SbPq2cMdGe0M"
      },
      "source": [
        "Candlestick body generator function; these will be used by our statistical engine to calculate the probabilities of the pattern chains in the market."
      ]
    },
    {
      "cell_type": "code",
      "metadata": {
        "colab": {
          "base_uri": "https://localhost:8080/",
          "height": 237
        },
        "id": "eLoW6yWGVAcC",
        "outputId": "6e2d65a7-4cda-4ee1-d184-84a33265c3c7"
      },
      "source": [
        "def generate_deltas_from_prices(df):\n",
        "  def get_candle_type(price):\n",
        "    if price[\"Close\"] > price[\"Open\"] : return \"bullish\"\n",
        "    if price[\"Close\"] < price[\"Open\"] : return \"bearish\"\n",
        "    #if price[\"Close\"] == price[\"Open\"] : return \"undefined\"\n",
        "    return \"undefined\"\n",
        "\n",
        "  def set_candle_type(row):\n",
        "    type_ = row[\"Type\"]\n",
        "    if type_ is \"bullish\":\n",
        "      return row[\"Delta\"]\n",
        "    if type_ is \"bearish\":\n",
        "      return -row[\"Delta\"]\n",
        "\n",
        "    return None\n",
        "\n",
        "  df_candles = pd.DataFrame()\n",
        "  df_candles[\"Delta\"] = df[\"High\"] - df[\"Low\"]\n",
        "  df_candles[\"Type\"]  = df.apply(lambda row: get_candle_type(row), axis=1)\n",
        "  df_candles[\"Delta\"] = df_candles.apply(lambda row: set_candle_type(row), axis=1)\n",
        "  df_candles.dropna(axis=1)\n",
        "  return df_candles\n",
        "\n",
        "df_candles = generate_deltas_from_prices(df_data)\n",
        "df_candles.head()"
      ],
      "execution_count": 61,
      "outputs": [
        {
          "output_type": "execute_result",
          "data": {
            "text/html": [
              "\n",
              "  <div id=\"df-beaac0eb-0706-4f97-a1fe-37d07bf0508f\">\n",
              "    <div class=\"colab-df-container\">\n",
              "      <div>\n",
              "<style scoped>\n",
              "    .dataframe tbody tr th:only-of-type {\n",
              "        vertical-align: middle;\n",
              "    }\n",
              "\n",
              "    .dataframe tbody tr th {\n",
              "        vertical-align: top;\n",
              "    }\n",
              "\n",
              "    .dataframe thead th {\n",
              "        text-align: right;\n",
              "    }\n",
              "</style>\n",
              "<table border=\"1\" class=\"dataframe\">\n",
              "  <thead>\n",
              "    <tr style=\"text-align: right;\">\n",
              "      <th></th>\n",
              "      <th>Delta</th>\n",
              "      <th>Type</th>\n",
              "    </tr>\n",
              "    <tr>\n",
              "      <th>Date</th>\n",
              "      <th></th>\n",
              "      <th></th>\n",
              "    </tr>\n",
              "  </thead>\n",
              "  <tbody>\n",
              "    <tr>\n",
              "      <th>2015-01-02</th>\n",
              "      <td>-26.320068</td>\n",
              "      <td>bearish</td>\n",
              "    </tr>\n",
              "    <tr>\n",
              "      <th>2015-01-05</th>\n",
              "      <td>-37.099976</td>\n",
              "      <td>bearish</td>\n",
              "    </tr>\n",
              "    <tr>\n",
              "      <th>2015-01-06</th>\n",
              "      <td>-37.810059</td>\n",
              "      <td>bearish</td>\n",
              "    </tr>\n",
              "    <tr>\n",
              "      <th>2015-01-07</th>\n",
              "      <td>24.059937</td>\n",
              "      <td>bullish</td>\n",
              "    </tr>\n",
              "    <tr>\n",
              "      <th>2015-01-08</th>\n",
              "      <td>33.470093</td>\n",
              "      <td>bullish</td>\n",
              "    </tr>\n",
              "  </tbody>\n",
              "</table>\n",
              "</div>\n",
              "      <button class=\"colab-df-convert\" onclick=\"convertToInteractive('df-beaac0eb-0706-4f97-a1fe-37d07bf0508f')\"\n",
              "              title=\"Convert this dataframe to an interactive table.\"\n",
              "              style=\"display:none;\">\n",
              "        \n",
              "  <svg xmlns=\"http://www.w3.org/2000/svg\" height=\"24px\"viewBox=\"0 0 24 24\"\n",
              "       width=\"24px\">\n",
              "    <path d=\"M0 0h24v24H0V0z\" fill=\"none\"/>\n",
              "    <path d=\"M18.56 5.44l.94 2.06.94-2.06 2.06-.94-2.06-.94-.94-2.06-.94 2.06-2.06.94zm-11 1L8.5 8.5l.94-2.06 2.06-.94-2.06-.94L8.5 2.5l-.94 2.06-2.06.94zm10 10l.94 2.06.94-2.06 2.06-.94-2.06-.94-.94-2.06-.94 2.06-2.06.94z\"/><path d=\"M17.41 7.96l-1.37-1.37c-.4-.4-.92-.59-1.43-.59-.52 0-1.04.2-1.43.59L10.3 9.45l-7.72 7.72c-.78.78-.78 2.05 0 2.83L4 21.41c.39.39.9.59 1.41.59.51 0 1.02-.2 1.41-.59l7.78-7.78 2.81-2.81c.8-.78.8-2.07 0-2.86zM5.41 20L4 18.59l7.72-7.72 1.47 1.35L5.41 20z\"/>\n",
              "  </svg>\n",
              "      </button>\n",
              "      \n",
              "  <style>\n",
              "    .colab-df-container {\n",
              "      display:flex;\n",
              "      flex-wrap:wrap;\n",
              "      gap: 12px;\n",
              "    }\n",
              "\n",
              "    .colab-df-convert {\n",
              "      background-color: #E8F0FE;\n",
              "      border: none;\n",
              "      border-radius: 50%;\n",
              "      cursor: pointer;\n",
              "      display: none;\n",
              "      fill: #1967D2;\n",
              "      height: 32px;\n",
              "      padding: 0 0 0 0;\n",
              "      width: 32px;\n",
              "    }\n",
              "\n",
              "    .colab-df-convert:hover {\n",
              "      background-color: #E2EBFA;\n",
              "      box-shadow: 0px 1px 2px rgba(60, 64, 67, 0.3), 0px 1px 3px 1px rgba(60, 64, 67, 0.15);\n",
              "      fill: #174EA6;\n",
              "    }\n",
              "\n",
              "    [theme=dark] .colab-df-convert {\n",
              "      background-color: #3B4455;\n",
              "      fill: #D2E3FC;\n",
              "    }\n",
              "\n",
              "    [theme=dark] .colab-df-convert:hover {\n",
              "      background-color: #434B5C;\n",
              "      box-shadow: 0px 1px 3px 1px rgba(0, 0, 0, 0.15);\n",
              "      filter: drop-shadow(0px 1px 2px rgba(0, 0, 0, 0.3));\n",
              "      fill: #FFFFFF;\n",
              "    }\n",
              "  </style>\n",
              "\n",
              "      <script>\n",
              "        const buttonEl =\n",
              "          document.querySelector('#df-beaac0eb-0706-4f97-a1fe-37d07bf0508f button.colab-df-convert');\n",
              "        buttonEl.style.display =\n",
              "          google.colab.kernel.accessAllowed ? 'block' : 'none';\n",
              "\n",
              "        async function convertToInteractive(key) {\n",
              "          const element = document.querySelector('#df-beaac0eb-0706-4f97-a1fe-37d07bf0508f');\n",
              "          const dataTable =\n",
              "            await google.colab.kernel.invokeFunction('convertToInteractive',\n",
              "                                                     [key], {});\n",
              "          if (!dataTable) return;\n",
              "\n",
              "          const docLinkHtml = 'Like what you see? Visit the ' +\n",
              "            '<a target=\"_blank\" href=https://colab.research.google.com/notebooks/data_table.ipynb>data table notebook</a>'\n",
              "            + ' to learn more about interactive tables.';\n",
              "          element.innerHTML = '';\n",
              "          dataTable['output_type'] = 'display_data';\n",
              "          await google.colab.output.renderOutput(dataTable, element);\n",
              "          const docLink = document.createElement('div');\n",
              "          docLink.innerHTML = docLinkHtml;\n",
              "          element.appendChild(docLink);\n",
              "        }\n",
              "      </script>\n",
              "    </div>\n",
              "  </div>\n",
              "  "
            ],
            "text/plain": [
              "                Delta     Type\n",
              "Date                          \n",
              "2015-01-02 -26.320068  bearish\n",
              "2015-01-05 -37.099976  bearish\n",
              "2015-01-06 -37.810059  bearish\n",
              "2015-01-07  24.059937  bullish\n",
              "2015-01-08  33.470093  bullish"
            ]
          },
          "metadata": {},
          "execution_count": 61
        }
      ]
    },
    {
      "cell_type": "markdown",
      "metadata": {
        "id": "99wfcEDPvfMD"
      },
      "source": [
        "Price delta plot, on time scale"
      ]
    },
    {
      "cell_type": "code",
      "metadata": {
        "colab": {
          "base_uri": "https://localhost:8080/",
          "height": 279
        },
        "id": "0wvkChVvtSyM",
        "outputId": "5c12e997-7b24-4999-85e6-29ee846b57d7"
      },
      "source": [
        "plt.subplots(figsize=(10,4))\n",
        "sns.scatterplot(data=df_candles, x=df_candles.index, y='Delta', size=2)\n",
        "plt.show()"
      ],
      "execution_count": 62,
      "outputs": [
        {
          "output_type": "display_data",
          "data": {
            "image/png": "[encoded data removed]",
            "text/plain": [
              "<Figure size 720x288 with 1 Axes>"
            ]
          },
          "metadata": {
            "needs_background": "light"
          }
        }
      ]
    },
    {
      "cell_type": "markdown",
      "metadata": {
        "id": "W2ymE9--vpND"
      },
      "source": [
        "Probability distribution"
      ]
    },
    {
      "cell_type": "code",
      "metadata": {
        "colab": {
          "base_uri": "https://localhost:8080/",
          "height": 279
        },
        "id": "hd_bglBsgO6E",
        "outputId": "9b9d014a-08ce-4054-93d2-7609d1a83656"
      },
      "source": [
        "plt.subplots(figsize=(8,4))\n",
        "sns.histplot(data=df_candles[\"Delta\"], kde=True)\n",
        "plt.show()"
      ],
      "execution_count": 63,
      "outputs": [
        {
          "output_type": "display_data",
          "data": {
            "image/png": "[encoded data removed]",
            "text/plain": [
              "<Figure size 576x288 with 1 Axes>"
            ]
          },
          "metadata": {
            "needs_background": "light"
          }
        }
      ]
    },
    {
      "cell_type": "markdown",
      "metadata": {
        "id": "25acrbXdvumO"
      },
      "source": [
        "Boxplot + Swarmplot to have a better visual aid, we look for where the largest number of price bodies accumulate."
      ]
    },
    {
      "cell_type": "code",
      "metadata": {
        "colab": {
          "base_uri": "https://localhost:8080/",
          "height": 336
        },
        "id": "MHqFwnHJq3Mv",
        "outputId": "e5cda011-6dee-44ec-a470-9281f79b8916"
      },
      "source": [
        "sns.boxplot(data=df_candles, x='Delta', color='white')\n",
        "sns.swarmplot(data=df_candles, x='Delta', size=3)\n",
        "plt.show()"
      ],
      "execution_count": 64,
      "outputs": [
        {
          "output_type": "stream",
          "name": "stderr",
          "text": [
            "/usr/local/lib/python3.7/dist-packages/seaborn/categorical.py:1296: UserWarning: 23.5% of the points cannot be placed; you may want to decrease the size of the markers or use stripplot.\n",
            "  warnings.warn(msg, UserWarning)\n"
          ]
        },
        {
          "output_type": "display_data",
          "data": {
            "image/png": "[encoded data removed]",
            "text/plain": [
              "<Figure size 432x288 with 1 Axes>"
            ]
          },
          "metadata": {
            "needs_background": "light"
          }
        }
      ]
    },
    {
      "cell_type": "markdown",
      "metadata": {
        "id": "p9pIHCNjWXkd"
      },
      "source": [
        "As you can see there are no candlestick patterns or prices around 0, this makes sense because there could not exist null candlestick bodies, remember that we take the body as a difference between the High and Low.\n",
        "\n",
        "Now we can create the object of the class **BayesEngine**, this will be used to study the most \"classic\" market patterns."
      ]
    },
    {
      "cell_type": "code",
      "metadata": {
        "id": "T0j-Btk5V46f"
      },
      "source": [
        "bayes = BayesEngine(df_candles[\"Delta\"])"
      ],
      "execution_count": 65,
      "outputs": []
    },
    {
      "cell_type": "markdown",
      "metadata": {
        "id": "2cG9oQ-FWxXX"
      },
      "source": [
        "**Patron 1.**: **Harami**"
      ]
    },
    {
      "cell_type": "markdown",
      "metadata": {
        "id": "njDLj-GHWy2O"
      },
      "source": [
        "![harami_pattern.png](data:image/png;base64,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)"
      ]
    },
    {
      "cell_type": "markdown",
      "metadata": {
        "id": "1G-ioGmueU6j"
      },
      "source": [
        "**Bearish Harami.**"
      ]
    },
    {
      "cell_type": "code",
      "metadata": {
        "colab": {
          "base_uri": "https://localhost:8080/"
        },
        "id": "iY43rEqjWxvE",
        "outputId": "8f85342d-6814-41f8-fab8-80beabdfa0b4"
      },
      "source": [
        "bayes_prob, joint_prob, patterns_dict= bayes.predict_custom_chain([(-40, -20), (10, 20)])\n",
        "print(\"Chain probability:\",joint_prob)\n",
        "print(\"Conditional probability:\",bayes_prob)\n",
        "print(\"Patterns probability:\", patterns_dict)"
      ],
      "execution_count": 66,
      "outputs": [
        {
          "output_type": "stream",
          "name": "stdout",
          "text": [
            "Chain probability: 0.029341414668780146\n",
            "Conditional probability: 0.39697542533081287\n",
            "Patterns probability: {'A': 0.13898080741230973, 'B': 0.21111846459298478}\n"
          ]
        }
      ]
    },
    {
      "cell_type": "markdown",
      "metadata": {
        "id": "sSh4yt16JQ-S"
      },
      "source": [
        "Bearish Harami[big intervals]"
      ]
    },
    {
      "cell_type": "code",
      "metadata": {
        "colab": {
          "base_uri": "https://localhost:8080/"
        },
        "id": "wJ-y38XyJRSK",
        "outputId": "db5edb60-078e-48d5-acb8-63f5c2fabb12"
      },
      "source": [
        "bayes_prob, joint_prob, patterns_dict= bayes.predict_custom_chain([(-60, -40), (20, 30)])\n",
        "print(\"Chain probability:\",joint_prob)\n",
        "print(\"Conditional probability:\",bayes_prob)\n",
        "print(\"Patterns probability:\", patterns_dict)"
      ],
      "execution_count": 67,
      "outputs": [
        {
          "output_type": "stream",
          "name": "stdout",
          "text": [
            "Chain probability: 0.006764424662556212\n",
            "Conditional probability: 0.2826086956521739\n",
            "Patterns probability: {'A': 0.05162144275314361, 'B': 0.13103904698874919}\n"
          ]
        }
      ]
    },
    {
      "cell_type": "markdown",
      "metadata": {
        "id": "QBt8wJj5JsMs"
      },
      "source": [
        "Bearish Harami[+big intervals]"
      ]
    },
    {
      "cell_type": "code",
      "metadata": {
        "colab": {
          "base_uri": "https://localhost:8080/"
        },
        "id": "oiXiFjTmJsjV",
        "outputId": "4575323d-3257-441f-a737-07a16f5f40ee"
      },
      "source": [
        "bayes_prob, joint_prob, patterns_dict= bayes.predict_custom_chain([(-80, -65), (30, 40)])\n",
        "print(\"Chain probability:\",joint_prob)\n",
        "print(\"Conditional probability:\",bayes_prob)\n",
        "print(\"Patterns probability:\", patterns_dict)"
      ],
      "execution_count": 68,
      "outputs": [
        {
          "output_type": "stream",
          "name": "stdout",
          "text": [
            "Chain probability: 0.0008978937165397716\n",
            "Conditional probability: 0.2336448598130841\n",
            "Patterns probability: {'A': 0.01654533421575116, 'B': 0.054268696227663796}\n"
          ]
        }
      ]
    },
    {
      "cell_type": "markdown",
      "metadata": {
        "id": "E3eeSRoBI5gL"
      },
      "source": [
        "**Bullish Harami.**"
      ]
    },
    {
      "cell_type": "code",
      "metadata": {
        "colab": {
          "base_uri": "https://localhost:8080/"
        },
        "id": "fNCOR0hvJg0E",
        "outputId": "7006e340-5756-42ce-a751-7d235e7d4ab3"
      },
      "source": [
        "bayes_prob, joint_prob, patterns_dict= bayes.predict_custom_chain([(10, 20), (-40, -20)])\n",
        "print(\"Chain probability:\",joint_prob)\n",
        "print(\"Conditional probability:\",bayes_prob)\n",
        "print(\"Patterns probability:\", patterns_dict)"
      ],
      "execution_count": 69,
      "outputs": [
        {
          "output_type": "stream",
          "name": "stdout",
          "text": [
            "Chain probability: 0.029341414668780146\n",
            "Conditional probability: 0.6030245746691871\n",
            "Patterns probability: {'A': 0.21111846459298478, 'B': 0.13898080741230973}\n"
          ]
        }
      ]
    },
    {
      "cell_type": "markdown",
      "metadata": {
        "id": "PrM8JP16J2WP"
      },
      "source": [
        "Bullish Harami[big intervals]"
      ]
    },
    {
      "cell_type": "code",
      "metadata": {
        "colab": {
          "base_uri": "https://localhost:8080/"
        },
        "id": "TU5wIo0MJ2uj",
        "outputId": "c3d20f48-e8ae-48f9-9631-291316d3fa8b"
      },
      "source": [
        "bayes_prob, joint_prob, patterns_dict= bayes.predict_custom_chain([(20, 30), (-60, -40)])\n",
        "print(\"Chain probability:\",joint_prob)\n",
        "print(\"Conditional probability:\",bayes_prob)\n",
        "print(\"Patterns probability:\", patterns_dict)"
      ],
      "execution_count": 70,
      "outputs": [
        {
          "output_type": "stream",
          "name": "stdout",
          "text": [
            "Chain probability: 0.006764424662556212\n",
            "Conditional probability: 0.7173913043478262\n",
            "Patterns probability: {'A': 0.13103904698874919, 'B': 0.05162144275314361}\n"
          ]
        }
      ]
    },
    {
      "cell_type": "markdown",
      "metadata": {
        "id": "BR6CEOJpJ1nh"
      },
      "source": [
        "Bullish Harami[+big intervals]"
      ]
    },
    {
      "cell_type": "code",
      "metadata": {
        "colab": {
          "base_uri": "https://localhost:8080/"
        },
        "id": "wiXU_jfZKa0S",
        "outputId": "3c3c39ca-eb56-43bb-af88-5ac9f0e53994"
      },
      "source": [
        "bayes_prob, joint_prob, patterns_dict= bayes.predict_custom_chain([(30, 40), (-80, -65)])\n",
        "print(\"Chain probability:\",joint_prob)\n",
        "print(\"Conditional probability:\",bayes_prob)\n",
        "print(\"Patterns probability:\", patterns_dict)"
      ],
      "execution_count": 71,
      "outputs": [
        {
          "output_type": "stream",
          "name": "stdout",
          "text": [
            "Chain probability: 0.0008978937165397716\n",
            "Conditional probability: 0.7663551401869159\n",
            "Patterns probability: {'A': 0.054268696227663796, 'B': 0.01654533421575116}\n"
          ]
        }
      ]
    },
    {
      "cell_type": "markdown",
      "metadata": {
        "id": "1YZM6O2b-UCD"
      },
      "source": [
        "**Patron 2.: Hammer**"
      ]
    },
    {
      "cell_type": "markdown",
      "metadata": {
        "id": "VrU3vTjn-aod"
      },
      "source": [
        "![hammer_pattern.png](data:image/png;base64,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)"
      ]
    },
    {
      "cell_type": "markdown",
      "metadata": {
        "id": "v_CbxfifDjfe"
      },
      "source": [
        "**Bullish Hammer**"
      ]
    },
    {
      "cell_type": "code",
      "metadata": {
        "colab": {
          "base_uri": "https://localhost:8080/"
        },
        "id": "3T95WNx-DiQs",
        "outputId": "c7d0b612-9011-440b-c2e3-963e92464154"
      },
      "source": [
        "bayes_prob, joint_prob, patterns_dict= bayes.predict_custom_chain([(-25, -15), (-25, -15), (-25, -15), (25, 35)])\n",
        "print(\"Chain probability:\",joint_prob)\n",
        "print(\"Conditional probability:\",bayes_prob)\n",
        "print(\"Patterns probability:\", patterns_dict)"
      ],
      "execution_count": 72,
      "outputs": [
        {
          "output_type": "stream",
          "name": "stdout",
          "text": [
            "Chain probability: 0.00017463579029711873\n",
            "Conditional probability: 0.017803928014609338\n",
            "Patterns probability: {'A': 0.12045003309066843, 'B': 0.12045003309066843, 'C': 0.12045003309066843, 'D': 0.099933818663137}\n"
          ]
        }
      ]
    },
    {
      "cell_type": "markdown",
      "metadata": {
        "id": "oibVoK4qKrgp"
      },
      "source": [
        "Bullish Hammer[big intervals]"
      ]
    },
    {
      "cell_type": "code",
      "metadata": {
        "colab": {
          "base_uri": "https://localhost:8080/"
        },
        "id": "OakpDRW1Kr3a",
        "outputId": "85be55d6-3498-40c5-b9bc-27a249dde233"
      },
      "source": [
        "bayes_prob, joint_prob, patterns_dict= bayes.predict_custom_chain([(-35, -25), (-35, -25), (-35, -25), (35, 45)])\n",
        "print(\"Chain probability:\",joint_prob)\n",
        "print(\"Conditional probability:\",bayes_prob)\n",
        "print(\"Patterns probability:\", patterns_dict)"
      ],
      "execution_count": 73,
      "outputs": [
        {
          "output_type": "stream",
          "name": "stdout",
          "text": [
            "Chain probability: 1.3252192384898398e-05\n",
            "Conditional probability: 0.022405470127043168\n",
            "Patterns probability: {'A': 0.07015221707478492, 'B': 0.07015221707478492, 'C': 0.07015221707478492, 'D': 0.03838517538054269}\n"
          ]
        }
      ]
    },
    {
      "cell_type": "markdown",
      "metadata": {
        "id": "8ChPj9Q2KsIi"
      },
      "source": [
        "Bullish Hammer[+big intervals]"
      ]
    },
    {
      "cell_type": "code",
      "metadata": {
        "colab": {
          "base_uri": "https://localhost:8080/"
        },
        "id": "j22mmKLFKsa0",
        "outputId": "543a4bef-f8e7-4b3a-beb9-89ec95842357"
      },
      "source": [
        "bayes_prob, joint_prob, patterns_dict= bayes.predict_custom_chain([(-45, -35), (-45, -35), (-45, -35), (40, 50)])\n",
        "print(\"Chain probability:\",joint_prob)\n",
        "print(\"Conditional probability:\",bayes_prob)\n",
        "print(\"Patterns probability:\", patterns_dict)"
      ],
      "execution_count": 74,
      "outputs": [
        {
          "output_type": "stream",
          "name": "stdout",
          "text": [
            "Chain probability: 2.177216675768783e-06\n",
            "Conditional probability: 0.017944102524899124\n",
            "Patterns probability: {'A': 0.04037061548643282, 'B': 0.04037061548643282, 'C': 0.04037061548643282, 'D': 0.03309066843150232}\n"
          ]
        }
      ]
    },
    {
      "cell_type": "markdown",
      "metadata": {
        "id": "ugk1o60cDzzZ"
      },
      "source": [
        "**Bullish Inverted Hammer**"
      ]
    },
    {
      "cell_type": "code",
      "metadata": {
        "colab": {
          "base_uri": "https://localhost:8080/"
        },
        "id": "2wZifQhvD2L8",
        "outputId": "c4df4c9e-6581-4e6a-ebbe-88a388856564"
      },
      "source": [
        "bayes_prob, joint_prob, patterns_dict= bayes.predict_custom_chain([(-25, -15), (-25, -15), (-25, -15), (-40, -35)])\n",
        "print(\"Chain probability:\",joint_prob)\n",
        "print(\"Conditional probability:\",bayes_prob)\n",
        "print(\"Patterns probability:\", patterns_dict)"
      ],
      "execution_count": 75,
      "outputs": [
        {
          "output_type": "stream",
          "name": "stdout",
          "text": [
            "Chain probability: 3.8165437614602106e-05\n",
            "Conditional probability: 0.031058356651824607\n",
            "Patterns probability: {'A': 0.12045003309066843, 'B': 0.12045003309066843, 'C': 0.12045003309066843, 'D': 0.02183984116479153}\n"
          ]
        }
      ]
    },
    {
      "cell_type": "markdown",
      "metadata": {
        "id": "NfTr68nFLcmI"
      },
      "source": [
        "Bullish Inverted Hammer[big intervals]"
      ]
    },
    {
      "cell_type": "code",
      "metadata": {
        "colab": {
          "base_uri": "https://localhost:8080/"
        },
        "id": "87t4EQEALc61",
        "outputId": "9a473f75-d77c-479c-996f-71d25f7490bf"
      },
      "source": [
        "bayes_prob, joint_prob, patterns_dict= bayes.predict_custom_chain([(-35, -25), (-35, -25), (-35, -25), (-50, -40)])\n",
        "print(\"Chain probability:\",joint_prob)\n",
        "print(\"Conditional probability:\",bayes_prob)\n",
        "print(\"Patterns probability:\", patterns_dict)"
      ],
      "execution_count": 76,
      "outputs": [
        {
          "output_type": "stream",
          "name": "stdout",
          "text": [
            "Chain probability: 1.188127593128822e-05\n",
            "Conditional probability: 0.02351323712317139\n",
            "Patterns probability: {'A': 0.07015221707478492, 'B': 0.07015221707478492, 'C': 0.07015221707478492, 'D': 0.03441429516876241}\n"
          ]
        }
      ]
    },
    {
      "cell_type": "markdown",
      "metadata": {
        "id": "lJWS5gpmLdzq"
      },
      "source": [
        "Bullish Inverted Hammer[+big intervals]"
      ]
    },
    {
      "cell_type": "code",
      "metadata": {
        "colab": {
          "base_uri": "https://localhost:8080/"
        },
        "id": "nxsaflV7LeFJ",
        "outputId": "7aac6997-6d39-4205-85a2-cab534931077"
      },
      "source": [
        "bayes_prob, joint_prob, patterns_dict= bayes.predict_custom_chain([(-45, -35), (-45, -35), (-45, -35), (-60, -50)])\n",
        "print(\"Chain probability:\",joint_prob)\n",
        "print(\"Conditional probability:\",bayes_prob)\n",
        "print(\"Patterns probability:\", patterns_dict)"
      ],
      "execution_count": 77,
      "outputs": [
        {
          "output_type": "stream",
          "name": "stdout",
          "text": [
            "Chain probability: 1.1321526713997672e-06\n",
            "Conditional probability: 0.024862834935623416\n",
            "Patterns probability: {'A': 0.04037061548643282, 'B': 0.04037061548643282, 'C': 0.04037061548643282, 'D': 0.017207147584381206}\n"
          ]
        }
      ]
    },
    {
      "cell_type": "markdown",
      "metadata": {
        "id": "97fYZ02wEMMh"
      },
      "source": [
        "**Patron 3.: Shooting Start & Hanging Man**"
      ]
    },
    {
      "cell_type": "markdown",
      "metadata": {
        "id": "GudwDac7FCPQ"
      },
      "source": [
        "![shooting_start_and_hangin_man.png](data:image/png;base64,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)"
      ]
    },
    {
      "cell_type": "markdown",
      "metadata": {
        "id": "HHh6FHnUFaEq"
      },
      "source": [
        "**Shooting Star**"
      ]
    },
    {
      "cell_type": "code",
      "metadata": {
        "colab": {
          "base_uri": "https://localhost:8080/"
        },
        "id": "b38lYB4cFIVQ",
        "outputId": "812ba06b-35ed-4da4-db82-2d8fb0018eee"
      },
      "source": [
        "bayes_prob, joint_prob, patterns_dict= bayes.predict_custom_chain([(15, 20), (15, 20), (15, 20), (-30, -25)])\n",
        "print(\"Chain probability:\",joint_prob)\n",
        "print(\"Conditional probability:\",bayes_prob)\n",
        "print(\"Patterns probability:\", patterns_dict)"
      ],
      "execution_count": 78,
      "outputs": [
        {
          "output_type": "stream",
          "name": "stdout",
          "text": [
            "Chain probability: 1.927752330323179e-05\n",
            "Conditional probability: 0.024586359762573114\n",
            "Patterns probability: {'A': 0.0814030443414957, 'B': 0.0814030443414957, 'C': 0.0814030443414957, 'D': 0.0357379219060225}\n"
          ]
        }
      ]
    },
    {
      "cell_type": "markdown",
      "metadata": {
        "id": "6A7iea0FMLo7"
      },
      "source": [
        "Shooting Star[big intervals]"
      ]
    },
    {
      "cell_type": "code",
      "metadata": {
        "colab": {
          "base_uri": "https://localhost:8080/"
        },
        "id": "iJEzavrpML-5",
        "outputId": "88081d49-dfda-436e-d7bd-06a195b74146"
      },
      "source": [
        "bayes_prob, joint_prob, patterns_dict= bayes.predict_custom_chain([(25, 30), (25, 30), (25, 30), (-40, -35)])\n",
        "print(\"Chain probability:\",joint_prob)\n",
        "print(\"Conditional probability:\",bayes_prob)\n",
        "print(\"Patterns probability:\", patterns_dict)"
      ],
      "execution_count": 79,
      "outputs": [
        {
          "output_type": "stream",
          "name": "stdout",
          "text": [
            "Chain probability: 5.777916819389241e-06\n",
            "Conditional probability: 0.026833676033651898\n",
            "Patterns probability: {'A': 0.0641958967571145, 'B': 0.0641958967571145, 'C': 0.0641958967571145, 'D': 0.02183984116479153}\n"
          ]
        }
      ]
    },
    {
      "cell_type": "markdown",
      "metadata": {
        "id": "eDYUgo45MMQI"
      },
      "source": [
        "Shooting Star[+big intervals]"
      ]
    },
    {
      "cell_type": "code",
      "metadata": {
        "colab": {
          "base_uri": "https://localhost:8080/"
        },
        "id": "Wt0ywNfqMMjG",
        "outputId": "24e7e565-6638-4856-ee78-09e7a2ebd058"
      },
      "source": [
        "bayes_prob, joint_prob, patterns_dict= bayes.predict_custom_chain([(35, 40), (35, 40), (35, 40), (-50, -45)])\n",
        "print(\"Chain probability:\",joint_prob)\n",
        "print(\"Conditional probability:\",bayes_prob)\n",
        "print(\"Patterns probability:\", patterns_dict)"
      ],
      "execution_count": 80,
      "outputs": [
        {
          "output_type": "stream",
          "name": "stdout",
          "text": [
            "Chain probability: 1.0107121311435158e-07\n",
            "Conditional probability: 0.01742620535487476\n",
            "Patterns probability: {'A': 0.018530774321641297, 'B': 0.018530774321641297, 'C': 0.018530774321641297, 'D': 0.01588352084712111}\n"
          ]
        }
      ]
    },
    {
      "cell_type": "markdown",
      "metadata": {
        "id": "kbz_w_R7Fc4I"
      },
      "source": [
        "**Hanging Man**"
      ]
    },
    {
      "cell_type": "code",
      "metadata": {
        "colab": {
          "base_uri": "https://localhost:8080/"
        },
        "id": "80g5PZLfFeYd",
        "outputId": "a67ea0e7-195f-4e51-a56f-1851e06a83cd"
      },
      "source": [
        "bayes_prob, joint_prob, patterns_dict= bayes.predict_custom_chain([(15, 20), (15, 20), (15, 20), (25, 30)])\n",
        "print(\"Chain probability:\",joint_prob)\n",
        "print(\"Conditional probability:\",bayes_prob)\n",
        "print(\"Patterns probability:\", patterns_dict)"
      ],
      "execution_count": 81,
      "outputs": [
        {
          "output_type": "stream",
          "name": "stdout",
          "text": [
            "Chain probability: 3.462814371136081e-05\n",
            "Conditional probability: 0.01838897761993377\n",
            "Patterns probability: {'A': 0.0814030443414957, 'B': 0.0814030443414957, 'C': 0.0814030443414957, 'D': 0.0641958967571145}\n"
          ]
        }
      ]
    },
    {
      "cell_type": "markdown",
      "metadata": {
        "id": "MCUzrUhMMwLU"
      },
      "source": [
        "Hanging Man[big intervals]"
      ]
    },
    {
      "cell_type": "code",
      "metadata": {
        "id": "R_yyecknMwtb",
        "colab": {
          "base_uri": "https://localhost:8080/"
        },
        "outputId": "0f015af7-2252-47e5-bb85-87f783cc7c82"
      },
      "source": [
        "bayes_prob, joint_prob, patterns_dict= bayes.predict_custom_chain([(25, 30), (25, 30), (25, 30), (35, 40)])\n",
        "print(\"Chain probability:\",joint_prob)\n",
        "print(\"Conditional probability:\",bayes_prob)\n",
        "print(\"Patterns probability:\", patterns_dict)"
      ],
      "execution_count": 82,
      "outputs": [
        {
          "output_type": "stream",
          "name": "stdout",
          "text": [
            "Chain probability: 4.9024748770575376e-06\n",
            "Conditional probability: 0.028115327946338378\n",
            "Patterns probability: {'A': 0.0641958967571145, 'B': 0.0641958967571145, 'C': 0.0641958967571145, 'D': 0.018530774321641297}\n"
          ]
        }
      ]
    },
    {
      "cell_type": "markdown",
      "metadata": {
        "id": "5gEvH4AgM5_O"
      },
      "source": [
        "Hanging Man[+big intervals]"
      ]
    },
    {
      "cell_type": "code",
      "metadata": {
        "colab": {
          "base_uri": "https://localhost:8080/"
        },
        "id": "fIZ5qb4_M6Qt",
        "outputId": "a4ab13ea-f969-4636-ba85-fe980401cfc6"
      },
      "source": [
        "bayes_prob, joint_prob, patterns_dict= bayes.predict_custom_chain([(35, 40), (35, 40), (35, 40), (45, 50)])\n",
        "print(\"Chain probability:\",joint_prob)\n",
        "print(\"Conditional probability:\",bayes_prob)\n",
        "print(\"Patterns probability:\", patterns_dict)"
      ],
      "execution_count": 83,
      "outputs": [
        {
          "output_type": "stream",
          "name": "stdout",
          "text": [
            "Chain probability: 8.422601092862632e-08\n",
            "Conditional probability: 0.01951524806554393\n",
            "Patterns probability: {'A': 0.018530774321641297, 'B': 0.018530774321641297, 'C': 0.018530774321641297, 'D': 0.013236267372600927}\n"
          ]
        }
      ]
    },
    {
      "cell_type": "markdown",
      "metadata": {
        "id": "pcQqmLZW-0_D"
      },
      "source": [
        "**Patron 4.: Engulfing**"
      ]
    },
    {
      "cell_type": "markdown",
      "metadata": {
        "id": "2rSz4ay2C3_B"
      },
      "source": [
        "![bullish_bearish_engulfing.png](data:image/png;base64,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)"
      ]
    },
    {
      "cell_type": "markdown",
      "metadata": {
        "id": "kj5iurbuC-Ot"
      },
      "source": [
        "**Bullish Engulfing**"
      ]
    },
    {
      "cell_type": "code",
      "metadata": {
        "colab": {
          "base_uri": "https://localhost:8080/"
        },
        "id": "wCESAt5UC-ih",
        "outputId": "6e502d3e-5f2c-4cba-ae1b-62d3b1c31fdf"
      },
      "source": [
        "bayes_prob, joint_prob, patterns_dict= bayes.predict_custom_chain([(-15, 0), (-15, 0), (0, 40)])\n",
        "print(\"Chain probability:\",joint_prob)\n",
        "print(\"Conditional probability:\",bayes_prob)\n",
        "print(\"Patterns probability:\", patterns_dict)"
      ],
      "execution_count": 84,
      "outputs": [
        {
          "output_type": "stream",
          "name": "stdout",
          "text": [
            "Chain probability: 0.010580027859045786\n",
            "Conditional probability: 0.03937851614007792\n",
            "Patterns probability: {'A': 0.15155526141628062, 'B': 0.15155526141628062, 'C': 0.46062210456651226}\n"
          ]
        }
      ]
    },
    {
      "cell_type": "markdown",
      "metadata": {
        "id": "X3Hn_o4CDtsl"
      },
      "source": [
        "Bullish Engulfing[big intervals]"
      ]
    },
    {
      "cell_type": "code",
      "metadata": {
        "colab": {
          "base_uri": "https://localhost:8080/"
        },
        "id": "dr-Fmqu9DfFV",
        "outputId": "39963a46-408c-4304-dd80-33fb277b1538"
      },
      "source": [
        "bayes_prob, joint_prob, patterns_dict= bayes.predict_custom_chain([(-30, -15), (-30, -15), (0, 40)])\n",
        "print(\"Chain probability:\",joint_prob)\n",
        "print(\"Conditional probability:\",bayes_prob)\n",
        "print(\"Patterns probability:\", patterns_dict)"
      ],
      "execution_count": 85,
      "outputs": [
        {
          "output_type": "stream",
          "name": "stdout",
          "text": [
            "Chain probability: 0.011236727591720487\n",
            "Conditional probability: 0.04082613998874086\n",
            "Patterns probability: {'A': 0.15618795499669094, 'B': 0.15618795499669094, 'C': 0.46062210456651226}\n"
          ]
        }
      ]
    },
    {
      "cell_type": "markdown",
      "metadata": {
        "id": "-xKqTaqID7O8"
      },
      "source": [
        "Bullish Engulfing[+big intervals]"
      ]
    },
    {
      "cell_type": "code",
      "metadata": {
        "colab": {
          "base_uri": "https://localhost:8080/"
        },
        "id": "2b8QjQbyEAJW",
        "outputId": "d398eb32-df93-4c95-ce07-044db20fc7ab"
      },
      "source": [
        "bayes_prob, joint_prob, patterns_dict= bayes.predict_custom_chain([(-40, -20), (-40, -20), (40, 80)])\n",
        "print(\"Chain probability:\",joint_prob)\n",
        "print(\"Conditional probability:\",bayes_prob)\n",
        "print(\"Patterns probability:\", patterns_dict)"
      ],
      "execution_count": 86,
      "outputs": [
        {
          "output_type": "stream",
          "name": "stdout",
          "text": [
            "Chain probability: 0.0011888529643248908\n",
            "Conditional probability: 0.1675729284224206\n",
            "Patterns probability: {'A': 0.13898080741230973, 'B': 0.13898080741230973, 'C': 0.06154864328259431}\n"
          ]
        }
      ]
    },
    {
      "cell_type": "markdown",
      "metadata": {
        "id": "SYXYTKTGELAe"
      },
      "source": [
        "**Bearish Engulfing**"
      ]
    },
    {
      "cell_type": "code",
      "metadata": {
        "colab": {
          "base_uri": "https://localhost:8080/"
        },
        "id": "AYh_TettEbWN",
        "outputId": "2ddedad7-cc66-4a56-c2fe-8e7d752fb1e3"
      },
      "source": [
        "bayes_prob, joint_prob, patterns_dict= bayes.predict_custom_chain([(0, 15), (0, 15), (0, 40)])\n",
        "print(\"Chain probability:\",joint_prob)\n",
        "print(\"Conditional probability:\",bayes_prob)\n",
        "print(\"Patterns probability:\", patterns_dict)"
      ],
      "execution_count": 87,
      "outputs": [
        {
          "output_type": "stream",
          "name": "stdout",
          "text": [
            "Chain probability: 0.017320127603806593\n",
            "Conditional probability: 0.052234710293247916\n",
            "Patterns probability: {'A': 0.19391131700860356, 'B': 0.19391131700860356, 'C': 0.46062210456651226}\n"
          ]
        }
      ]
    },
    {
      "cell_type": "markdown",
      "metadata": {
        "id": "Mi4MvdQxETAK"
      },
      "source": [
        "Bullish Engulfing[big intervals]"
      ]
    },
    {
      "cell_type": "code",
      "metadata": {
        "colab": {
          "base_uri": "https://localhost:8080/"
        },
        "id": "nRLINGPtETRN",
        "outputId": "de82cb57-5ec1-4f38-ea1a-88a894f46194"
      },
      "source": [
        "bayes_prob, joint_prob, patterns_dict= bayes.predict_custom_chain([(15, 30), (15, 30), (10, 40)])\n",
        "print(\"Chain probability:\",joint_prob)\n",
        "print(\"Conditional probability:\",bayes_prob)\n",
        "print(\"Patterns probability:\", patterns_dict)"
      ],
      "execution_count": 88,
      "outputs": [
        {
          "output_type": "stream",
          "name": "stdout",
          "text": [
            "Chain probability: 0.01789136575717544\n",
            "Conditional probability: 0.0669062211662893\n",
            "Patterns probability: {'A': 0.21244209133024486, 'B': 0.21244209133024486, 'C': 0.39642620780939775}\n"
          ]
        }
      ]
    },
    {
      "cell_type": "markdown",
      "metadata": {
        "id": "RfUSuB4PETca"
      },
      "source": [
        "Bullish Engulfing[+big intervals]"
      ]
    },
    {
      "cell_type": "code",
      "metadata": {
        "colab": {
          "base_uri": "https://localhost:8080/"
        },
        "id": "EkOVRJ2BETvS",
        "outputId": "54800c15-591d-457c-d6cb-590e6f0060d9"
      },
      "source": [
        "bayes_prob, joint_prob, patterns_dict= bayes.predict_custom_chain([(20, 40), (20, 40), (40, 80)])\n",
        "print(\"Chain probability:\",joint_prob)\n",
        "print(\"Conditional probability:\",bayes_prob)\n",
        "print(\"Patterns probability:\", patterns_dict)"
      ],
      "execution_count": 89,
      "outputs": [
        {
          "output_type": "stream",
          "name": "stdout",
          "text": [
            "Chain probability: 0.0021135163810220283\n",
            "Conditional probability: 0.18386103482806418\n",
            "Patterns probability: {'A': 0.18530774321641297, 'B': 0.18530774321641297, 'C': 0.06154864328259431}\n"
          ]
        }
      ]
    },
    {
      "cell_type": "markdown",
      "metadata": {
        "id": "6w1iclVwFWHu"
      },
      "source": [
        "**Patron 5.: Three white soldiers**"
      ]
    },
    {
      "cell_type": "markdown",
      "metadata": {
        "id": "Ea-A9_KJGTZL"
      },
      "source": [
        "![three_white_soldiers.png](data:image/png;base64,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)"
      ]
    },
    {
      "cell_type": "code",
      "metadata": {
        "colab": {
          "base_uri": "https://localhost:8080/"
        },
        "id": "vTALnYzdGR8F",
        "outputId": "6f391072-48a5-4816-d351-f0525ca64033"
      },
      "source": [
        "bayes_prob, joint_prob, patterns_dict= bayes.predict_custom_chain([(15, 30), (15, 30), (15, 30)])\n",
        "print(\"Chain probability:\",joint_prob)\n",
        "print(\"Conditional probability:\",bayes_prob)\n",
        "print(\"Patterns probability:\", patterns_dict)"
      ],
      "execution_count": 90,
      "outputs": [
        {
          "output_type": "stream",
          "name": "stdout",
          "text": [
            "Chain probability: 0.009587860447501362\n",
            "Conditional probability: 0.11111111111111113\n",
            "Patterns probability: {'A': 0.21244209133024486, 'B': 0.21244209133024486, 'C': 0.21244209133024486}\n"
          ]
        }
      ]
    },
    {
      "cell_type": "markdown",
      "metadata": {
        "id": "yaukGtoIGm0A"
      },
      "source": [
        "Three white soldiers[big intervals]"
      ]
    },
    {
      "cell_type": "code",
      "metadata": {
        "colab": {
          "base_uri": "https://localhost:8080/"
        },
        "id": "h0YEyNcRGrRL",
        "outputId": "19b1e396-6e98-41e3-a700-89e893cb94dc"
      },
      "source": [
        "bayes_prob, joint_prob, patterns_dict= bayes.predict_custom_chain([(40, 60), (40, 60), (40, 60)])\n",
        "print(\"Chain probability:\",joint_prob)\n",
        "print(\"Conditional probability:\",bayes_prob)\n",
        "print(\"Patterns probability:\", patterns_dict)"
      ],
      "execution_count": 91,
      "outputs": [
        {
          "output_type": "stream",
          "name": "stdout",
          "text": [
            "Chain probability: 0.00012228984573783025\n",
            "Conditional probability: 0.1111111111111111\n",
            "Patterns probability: {'A': 0.04963600264725347, 'B': 0.04963600264725347, 'C': 0.04963600264725347}\n"
          ]
        }
      ]
    },
    {
      "cell_type": "markdown",
      "metadata": {
        "id": "pexljZ5NG8sZ"
      },
      "source": [
        "Three white soldiers[+big intervals]"
      ]
    },
    {
      "cell_type": "code",
      "metadata": {
        "colab": {
          "base_uri": "https://localhost:8080/"
        },
        "id": "UOYE83tRG8-j",
        "outputId": "69591bf6-f563-4c1d-bcbc-823fb2441b68"
      },
      "source": [
        "bayes_prob, joint_prob, patterns_dict= bayes.predict_custom_chain([(50, 70), (50, 80), (50, 80)])\n",
        "print(\"Chain probability:\",joint_prob)\n",
        "print(\"Conditional probability:\",bayes_prob)\n",
        "print(\"Patterns probability:\", patterns_dict)"
      ],
      "execution_count": 92,
      "outputs": [
        {
          "output_type": "stream",
          "name": "stdout",
          "text": [
            "Chain probability: 1.9831028661243694e-05\n",
            "Conditional probability: 0.10516227113490646\n",
            "Patterns probability: {'A': 0.024487094639311716, 'B': 0.028457974851091992, 'C': 0.028457974851091992}\n"
          ]
        }
      ]
    },
    {
      "cell_type": "markdown",
      "metadata": {
        "id": "AmCBa4_rHQ17"
      },
      "source": [
        "**Patron 6.: Three black crows**"
      ]
    },
    {
      "cell_type": "markdown",
      "metadata": {
        "id": "2wXMCB1sHhiB"
      },
      "source": [
        "![three_black_crows.jpg](data:image/jpeg;base64,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)"
      ]
    },
    {
      "cell_type": "code",
      "metadata": {
        "colab": {
          "base_uri": "https://localhost:8080/"
        },
        "id": "RGGp3suaHhxx",
        "outputId": "17c48276-d2ee-47b5-8d8d-9d3e138bbb76"
      },
      "source": [
        "bayes_prob, joint_prob, patterns_dict= bayes.predict_custom_chain([(15, 30), (15, 30), (15, 30)])\n",
        "print(\"Chain probability:\",joint_prob)\n",
        "print(\"Conditional probability:\",bayes_prob)\n",
        "print(\"Patterns probability:\", patterns_dict)"
      ],
      "execution_count": 93,
      "outputs": [
        {
          "output_type": "stream",
          "name": "stdout",
          "text": [
            "Chain probability: 0.009587860447501362\n",
            "Conditional probability: 0.11111111111111113\n",
            "Patterns probability: {'A': 0.21244209133024486, 'B': 0.21244209133024486, 'C': 0.21244209133024486}\n"
          ]
        }
      ]
    },
    {
      "cell_type": "markdown",
      "metadata": {
        "id": "liermlUmIob7"
      },
      "source": [
        "Three black crows[big intervals]"
      ]
    },
    {
      "cell_type": "code",
      "metadata": {
        "colab": {
          "base_uri": "https://localhost:8080/"
        },
        "id": "KRjyJSMcIovi",
        "outputId": "df696d20-cf95-43b2-a3c8-e110ce9634d3"
      },
      "source": [
        "bayes_prob, joint_prob, patterns_dict= bayes.predict_custom_chain([(30, 45), (30, 45), (30, 45)])\n",
        "print(\"Chain probability:\",joint_prob)\n",
        "print(\"Conditional probability:\",bayes_prob)\n",
        "print(\"Patterns probability:\", patterns_dict)"
      ],
      "execution_count": 94,
      "outputs": [
        {
          "output_type": "stream",
          "name": "stdout",
          "text": [
            "Chain probability: 0.000407249608042094\n",
            "Conditional probability: 0.11111111111111113\n",
            "Patterns probability: {'A': 0.07412309728656519, 'B': 0.07412309728656519, 'C': 0.07412309728656519}\n"
          ]
        }
      ]
    },
    {
      "cell_type": "markdown",
      "metadata": {
        "id": "vA2BrK9jIyJs"
      },
      "source": [
        "Three black crows[+big intervals]"
      ]
    },
    {
      "cell_type": "code",
      "metadata": {
        "colab": {
          "base_uri": "https://localhost:8080/"
        },
        "id": "3QHpy0j7Iyhx",
        "outputId": "821a578b-c1b8-4456-ba9a-0da34bf6f246"
      },
      "source": [
        "bayes_prob, joint_prob, patterns_dict= bayes.predict_custom_chain([(50, 80), (50, 80), (50, 80)])\n",
        "print(\"Chain probability:\",joint_prob)\n",
        "print(\"Conditional probability:\",bayes_prob)\n",
        "print(\"Patterns probability:\", patterns_dict)"
      ],
      "execution_count": 95,
      "outputs": [
        {
          "output_type": "stream",
          "name": "stdout",
          "text": [
            "Chain probability: 2.3046871146850778e-05\n",
            "Conditional probability: 0.11111111111111112\n",
            "Patterns probability: {'A': 0.028457974851091992, 'B': 0.028457974851091992, 'C': 0.028457974851091992}\n"
          ]
        }
      ]
    },
    {
      "cell_type": "markdown",
      "metadata": {
        "id": "tDk2mBa2NFFU"
      },
      "source": [
        "# Final conclusion\n",
        "\n",
        "Throughout our market research we discovered tools and methods to help us answer what we were looking for, and after all the question in my opinion no longer stands; is it profitable to trade the market following patterns?, clearly the answer is a resounding no. Statistically speaking there is enough evidence to disprove this, probabilities decrease as we look for more ambitious candlesticks and therefore using them to make a trading system is doomed to failure.\n",
        "There will always be gurus saying they found the key to the 'price action', what really happens is that certain patterns occur because they have an apparent frequency, not because they must appear necessarily...  anyone can replicate this same study in longer periods of time and even in different time-frames and market (such as FOREX), even so nothing guarantees that we find patterns that we can exploit at least not in the long term and much less in the case of large price chains, the stochastic nature of the market showed us, and the laws of probability are clear: as we prolong a sequence in time the occurrence of the same in the future is considerably low (mathematically tends to 0).\n",
        "\n",
        "All is not lost because there are different methods to filter the (gaussian) noise of the market and, using machine learning and deep learning it is possible to adjust a system in the optimal way, that is the way forward for a profitable and maintainable expert trading system over time, keeping all risks and quantifiable metrics. I want to finish by saying; **what cannot be measured cannot be quantified and what cannot be quantified becomes uncertainty.**"
      ]
    }
  ]
}